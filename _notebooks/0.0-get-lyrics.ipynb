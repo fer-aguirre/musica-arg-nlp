{
 "cells": [
  {
   "cell_type": "code",
   "execution_count": 25,
   "id": "600ee642",
   "metadata": {},
   "outputs": [],
   "source": [
    "from lyricsgenius import Genius\n",
    "import json\n",
    "import pandas as pd\n",
    "import time\n",
    "from tqdm import tqdm"
   ]
  },
  {
   "cell_type": "code",
   "execution_count": 2,
   "id": "af397a2a",
   "metadata": {},
   "outputs": [],
   "source": [
    "genius = Genius(\"bV8VBg7QcYxYjdIkW1ujLBg1I7j7uwR6ZXhs67i_GJ3QwvDVUwGxRnuCbQvIml8a\")\n",
    "genius.response_format = \"plain,html\""
   ]
  },
  {
   "cell_type": "code",
   "execution_count": 3,
   "id": "9e078936",
   "metadata": {},
   "outputs": [
    {
     "name": "stdout",
     "output_type": "stream",
     "text": [
      "Searching for songs by Charly Garcia...\n",
      "\n",
      "Changing artist name to 'Charly García'\n",
      "\"15 Forever (Live)\" is not valid. Skipping.\n",
      "Song 1: \"A1\"\n",
      "Song 2: \"Adela en el Carrousell\"\n",
      "Song 3: \"Adela on the carousel (Adela en el carrousel - English Lyrics)\"\n",
      "Song 4: \"Agua y Piano\"\n",
      "Song 5: \"Alguien en el Mundo Piensa En Mí\"\n",
      "Song 6: \"Alicia Va a la Disco\"\n",
      "Song 7: \"All I Do the Whole Night Through\"\n",
      "Song 8: \"Ambiente\"\n",
      "Song 9: \"América\"\n",
      "Song 10: \"Amigos de Dios\"\n",
      "\"Amigo, Vuelve A Casa Pronto (Live)\" is not valid. Skipping.\n",
      "\"Amo Lo Extraño\" is not valid. Skipping.\n",
      "Song 11: \"Andan (Complete)\"\n",
      "Song 12: \"Andan (Excerpt)\"\n",
      "Song 13: \"Anhedonia\"\n",
      "\"Aprendizaje (Live)\" is not valid. Skipping.\n",
      "Song 14: \"A Punto de Caer\"\n",
      "Song 15: \"Asesíname\"\n",
      "Song 16: \"Asesiname - en vivo\"\n",
      "Song 17: \"Asesíname Stone\"\n",
      "Song 18: \"Atlantis\"\n",
      "Song 19: \"Atlantis - Parte II\"\n",
      "Song 20: \"Autofemicidio\"\n",
      "Song 21: \"Bancate Ese Defecto\"\n",
      "Song 22: \"Bar Azul\"\n",
      "Song 23: \"Believe\"\n",
      "Song 24: \"Bienvenidos al tren\"\n",
      "Song 25: \"Boletos, pases y abonos\"\n",
      "Song 26: \"Break It Up\"\n",
      "Song 27: \"Buscando un Símbolo de Paz\"\n",
      "Song 28: \"Calle [Taxi]\"\n",
      "Song 29: \"Canción de 2 x 3 - en vivo\"\n",
      "Song 30: \"Canción de alicia en el pais - en vivo\"\n",
      "Song 31: \"Canción de Dos por Tres\"\n",
      "Song 32: \"Canción de Hollywood\"\n",
      "Song 33: \"Canciones de Jirafas\"\n",
      "Song 34: \"Canción Para Mi Muerte (Bonus Track)\"\n",
      "\"Canción Para Mí Muerte (Live)\" is not valid. Skipping.\n",
      "Song 35: \"Casa Vacía\"\n",
      "Song 36: \"Caspa de Estrellas\"\n",
      "Song 37: \"Cerca De La Revolución\"\n",
      "Song 38: \"Cerca De La Revolución [Demasiado Ego]\"\n",
      "Song 39: \"Cerca de la Revolución - Live\"\n",
      "Song 40: \"Chicas Muertas\"\n",
      "Song 41: \"Chipi-Chipi\"\n",
      "Song 42: \"Chipi Chipi - Live\"\n",
      "Song 43: \"Chipi chipi - live2\"\n",
      "Song 44: \"Chiquilin\"\n",
      "Song 45: \"Como Mata El Viento Norte\"\n",
      "Song 46: \"Cómo Me Gustaría Ser Negro\"\n",
      "Song 47: \"Con 9 Alcanza\"\n",
      "Song 48: \"Conejo Tecno\"\n",
      "\"Confesiones De Invierno (Live)\" is not valid. Skipping.\n",
      "Song 49: \"Constant Concept\"\n",
      "Song 50: \"Corazón de hormigón\"\n",
      "Song 51: \"Correte Beethoven (Roll Over Beethoven)\"\n",
      "Song 52: \"Cretino\"\n",
      "Song 53: \"Crimen, Divina, Productor\"\n",
      "\"Cuando Te Vayas (Live)\" is not valid. Skipping.\n",
      "\"Cuando Ya Me Empiece A Quedar Solo (Live)\" is not valid. Skipping.\n",
      "Song 54: \"Cuchillos\"\n",
      "Song 55: \"Cuchillos - en vivo\"\n",
      "Song 56: \"Curitas\"\n",
      "Song 57: \"Dealer (Reprise)\"\n",
      "Song 58: \"Deberías Saber Por Qué\"\n",
      "Song 59: \"Deberias saber porque - en vivo\"\n",
      "Song 60: \"Demasiado ego (One to one)\"\n",
      "Song 61: \"De Mí\"\n",
      "Song 62: \"Demoliendo Hoteles\"\n",
      "Song 63: \"Demoliendo Hoteles - Live\"\n",
      "Song 64: \"Demoliendo hoteles - live2\"\n",
      "Song 65: \"Desarma y sangra\"\n",
      "Song 66: \"Desfile, Águila y León\"\n",
      "Song 67: \"Despertar De Mambo\"\n",
      "Song 68: \"Dileando Con Un Alma (Que No Puedo Entender)\"\n",
      "Song 69: \"Dos Cero Uno\"\n",
      "Song 70: \"Dos Edificios Dorados\"\n",
      "Song 71: \"Eiti Leda\"\n",
      "Song 72: \"Eiti Leda - En Vivo\"\n",
      "Song 73: \"El Aguante\"\n",
      "Song 74: \"El Amor Espera\"\n",
      "Song 75: \"El Chico de Fin de Semana\"\n",
      "Song 76: \"El Club de los 27\"\n",
      "Song 77: \"El dia que apagaron la luz - en vivo\"\n",
      "Song 78: \"El fantasma de Canterville\"\n",
      "Song 79: \"El Karma de Vivir Al Sur\"\n",
      "Song 80: \"Ella Adivinó\"\n",
      "\"Ella Despertaba\" is not valid. Skipping.\n",
      "Song 81: \"Ella Es Bailarina\"\n",
      "Song 82: \"Ella Es Tan Kubrick\"\n",
      "Song 83: \"El mendigo en el andén\"\n",
      "\"El Niño Y Yo (Live)\" is not valid. Skipping.\n",
      "Song 84: \"El Peso\"\n",
      "Song 85: \"El Show De Los Muertos\"\n",
      "\"El Tuerto Y Los Ciegos (Live)\" is not valid. Skipping.\n",
      "Song 86: \"Encuentro Con El Diablo\"\n",
      "Song 87: \"En La Ruta Del Tentempié\"\n",
      "\"Espejos (Live)\" is not valid. Skipping.\n",
      "Song 88: \"Estaba en Llamas Cuando me Acosté\"\n",
      "Song 89: \"Estrellas al Caer\"\n",
      "Song 90: \"Eti leda\"\n",
      "Song 91: \"Fanky\"\n",
      "Song 92: \"Fanky - Live\"\n",
      "Song 93: \"Fanky - live2\"\n",
      "Song 94: \"Fantasy\"\n",
      "Song 95: \"Fantasy - en vivo\"\n",
      "Song 96: \"Fax U\"\n",
      "Song 97: \"Fifteen Forever - Live\"\n",
      "Song 98: \"Fifteen forever - live2\"\n",
      "Song 99: \"Filosofía Barata y Zapatos de Goma\"\n",
      "Song 100: \"Final\"\n",
      "Song 101: \"Futuro Pobre\"\n",
      "Song 102: \"Gaby\"\n",
      "Song 103: \"Gato de Metal\"\n",
      "Song 104: \"Good Show\"\n",
      "Song 105: \"Hablando a tu corazón - en vivo\"\n",
      "Song 106: \"Happy and Real\"\n",
      "Song 107: \"Himno Nacional Argentino\"\n",
      "Song 108: \"Hombre de mala sangre\"\n",
      "Song 109: \"Iba acabándose el vino\"\n",
      "Song 110: \"I’m Not in Love\"\n",
      "Song 111: \"I’m Not in Love (2)\"\n",
      "Song 112: \"I’m Not In Love (Acustico)\"\n",
      "Song 113: \"I’m Not In Love (Remix)\"\n",
      "Song 114: \"Inconciente colectivo - en vivo\"\n",
      "Song 115: \"Inconsciente Colectivo\"\n",
      "Song 116: \"Influencia\"\n",
      "Song 117: \"Influencia - en vivo\"\n",
      "Song 118: \"Influenza\"\n",
      "\"Instituciones (Live)\" is not valid. Skipping.\n",
      "Song 119: \"Instituciones (Quilmes Rock 2004)\"\n",
      "Song 120: \"Intermedio\"\n",
      "Song 121: \"In the City That Never Sleeps\"\n",
      "Song 122: \"Intraterreno\"\n",
      "Song 123: \"Intuición\"\n",
      "Song 124: \"It’s Only Love\"\n",
      "Song 125: \"Jaco y Chofi\"\n",
      "Song 126: \"James Brown\"\n",
      "Song 127: \"Juan Represión\"\n",
      "Song 128: \"Jugo De Tomate Frio\"\n",
      "Song 129: \"Kill My Mother\"\n",
      "Song 130: \"King Kong\"\n",
      "Song 131: \"Kurosawa\"\n",
      "Song 132: \"La Canción del Indeciso\"\n",
      "Song 133: \"La dulces promesas\"\n",
      "\"La Estrella de Constitución\" is not valid. Skipping.\n",
      "Song 134: \"La grasa de las capitales\"\n",
      "Song 135: \"La Lógica del Escorpión\"\n",
      "Song 136: \"La Máquina de Ser Feliz\"\n",
      "Song 137: \"La Medicina N° 9\"\n",
      "Song 138: \"Lament\"\n",
      "Song 139: \"La Pelicana y El Androide\"\n",
      "Song 140: \"La Ruta del Tentempié\"\n",
      "Song 141: \"La Sal No Sala\"\n",
      "Song 142: \"La Sal No Sala - Live\"\n",
      "Song 143: \"La sal no sala - live2\"\n",
      "Song 144: \"La Vanguardia Es Así\"\n",
      "Song 145: \"Linda bailarina\"\n",
      "Song 146: \"Llorando en el Espejo - En Vivo\"\n",
      "Song 147: \"Lluvia\"\n",
      "Song 148: \"Locomotion\"\n",
      "Song 149: \"Lo Que Ves Es Lo Que Hay (Todo El Mundo Quiere Olvidar)\"\n",
      "Song 150: \"Los Dinosaurios\"\n",
      "Song 151: \"Los Dinosaurios / Canciones de Jirafas\"\n",
      "Song 152: \"Los Dinosaurios - Live\"\n",
      "Song 153: \"Los Dinosaurios - No Toquen - En Vivo\"\n",
      "Song 154: \"Los Fantasmas\"\n",
      "\"Losing My Religion (En Vivo)\" is not valid. Skipping.\n",
      "Song 155: \"Love is Love\"\n",
      "\"Luz Marrón\" is not valid. Skipping.\n",
      "\"Mariel Y El Capitán (Live)\" is not valid. Skipping.\n",
      "Song 156: \"Me Siento Mucho Mejor\"\n",
      "Song 157: \"Me siento mucho mejor (i feel much better)\"\n",
      "Song 158: \"Mi Nena\"\n",
      "Song 159: \"Mirando las Ruedas\"\n",
      "Song 160: \"Monóculo Fantástico\"\n",
      "Song 161: \"Mundo B\"\n",
      "Song 162: \"Musica De Fondo Para Cualquier Fiesta Animada\"\n",
      "Song 163: \"Música del alma\"\n",
      "Song 164: \"Necesito Tu Amor\"\n",
      "Song 165: \"Necesito tu amor - en vivo\"\n",
      "Song 166: \"Necesito un Gol\"\n",
      "Song 167: \"Necesito Un Trago\"\n",
      "Song 168: \"No Bombardeen Buenos Aires\"\n",
      "Song 169: \"No Estaría Mal (It Won’t Be Wrong)\"\n",
      "Song 170: \"No importa\"\n",
      "Song 171: \"No Llores Por Mi Argentina\"\n",
      "Song 172: \"No llores por mi, argentina - en vivo\"\n",
      "Song 173: \"No Me Dejan Salir\"\n",
      "Song 174: \"No me dejan salir - en vivo\"\n",
      "Song 175: \"No Me Verás en el Subte\"\n",
      "Song 176: \"No Se Va A Llamar Mi Amor\"\n",
      "Song 177: \"No Soy un Extraño\"\n",
      "Song 178: \"No Soy un Extraño - Live\"\n",
      "Song 179: \"Nos Siguen Pegando Abajo\"\n",
      "Song 180: \"Nos Siguen Pegando Abajo (Pecado Mortal) - Live\"\n",
      "Song 181: \"Nos siguen pegando abajo (pecado mortal) - live2\"\n",
      "Song 182: \"No Sugar\"\n",
      "Song 183: \"No Te Animás A Despegar\"\n",
      "Song 184: \"No Te Mueras en Mi Casa\"\n",
      "Song 185: \"No Toquen\"\n",
      "Song 186: \"No Voy en Tren\"\n",
      "Song 187: \"Nuevos Trapos\"\n",
      "Song 188: \"Ojos de Video Tape\"\n",
      "Song 189: \"Ojos de Video Tape - Live\"\n",
      "Song 190: \"Ojos de video tape - live2\"\n",
      "Song 191: \"Operación Densa\"\n",
      "Song 192: \"Otro\"\n",
      "Song 193: \"Overture\"\n",
      "\"¿Para Quién Canto Yo Entonces? (Live)\" is not valid. Skipping.\n",
      "Song 194: \"Parte de la Religión\"\n",
      "Song 195: \"Pasajera en Trance - Live\"\n",
      "Song 196: \"Pasajera en trance - live2\"\n",
      "Song 197: \"Pastillas\"\n",
      "Song 198: \"Pedro Trabaja en el Cine\"\n",
      "Song 199: \"Pelicula Sordomuda\"\n",
      "Song 200: \"Peluca Telefónica\"\n",
      "Song 201: \"Perro andaluz\"\n",
      "Song 202: \"Perro andaluz - en vivo\"\n",
      "Song 203: \"Piano Bar\"\n",
      "Song 204: \"Plan 9\"\n",
      "Song 205: \"Plateado Sobre Plateado - En Vivo\"\n",
      "Song 206: \"Plateado Sobre Plateado (Huellas en el Mar)\"\n",
      "Song 207: \"Play With Fire\"\n",
      "Song 208: \"Podrias Entender\"\n",
      "Song 209: \"Popotitos - En Vivo\"\n",
      "Song 210: \"Poseidón / Con Su Blanca Palidez\"\n",
      "Song 211: \"Primavera\"\n",
      "Song 212: \"Promesas Sobre El Bidet\"\n",
      "Song 213: \"Promesas Sobre el Bidet - Live\"\n",
      "Song 214: \"Promesas sobre el bidet - live2\"\n",
      "Song 215: \"Pubis Angelical\"\n",
      "Song 216: \"Pubis Angelical (Vocal)\"\n",
      "Song 217: \"Pubis Angelical (Vocal 2)\"\n",
      "Song 218: \"Rap de las Hormigas\"\n",
      "Song 219: \"Rap Del Exilio\"\n",
      "Song 220: \"Raros Peinados Nuevos\"\n",
      "Song 221: \"Rehén\"\n",
      "Song 222: \"Rejas Electrificadas\"\n",
      "Song 223: \"Reloj de Plastilina\"\n",
      "Song 224: \"Rezo Por Vos\"\n",
      "Song 225: \"Rezo por vos (Concierto Subacuatico 2009)\"\n",
      "Song 226: \"Rezo por vos (Festival Internacional de la Cancion 1995)\"\n",
      "Song 227: \"Rezo por Vos - Live\"\n",
      "Song 228: \"Rezo por vos - live2\"\n",
      "Song 229: \"Rivalidad\"\n",
      "Song 230: \"Rock and Roll Star\"\n",
      "Song 231: \"Rock And Roll Yo\"\n",
      "Song 232: \"Rompela\"\n",
      "Song 233: \"Sarabande\"\n",
      "Song 234: \"Say No More\"\n",
      "Song 235: \"Seminare\"\n",
      "Song 236: \"Sentado en el umbral de Dios\"\n",
      "Song 237: \"Sereno Fantástico\"\n",
      "Song 238: \"Serú Giran Medley: Serú Girán/Eiti Leda/Viernes 3 AM - Live\"\n",
      "Song 239: \"Shisyastawuman\"\n",
      "Song 240: \"Siempre Puedes Olvidar\"\n",
      "Song 241: \"Soldado De Lata (Tin Soldier)\"\n",
      "Song 242: \"Solo un Poquito No Más\"\n",
      "Song 243: \"Spector\"\n",
      "Song 244: \"Studio Jam\"\n",
      "Song 245: \"Suicida\"\n",
      "Song 246: \"Superhéroes\"\n",
      "Song 247: \"Sweet Home Buenos Aires\"\n",
      "Song 248: \"Tango\"\n",
      "\"Tango En Segunda (Live)\" is not valid. Skipping.\n",
      "Song 249: \"Telepáticamente\"\n",
      "\"Telepáticamente\" is not valid. Skipping.\n",
      "Song 250: \"Tema de Amor\"\n",
      "Song 251: \"Tema de los devotos\"\n",
      "Song 252: \"Terapia Intensiva\"\n",
      "Song 253: \"Te Recuerdo Invierno\"\n",
      "Song 254: \"Todos Los Pubis Juntos\"\n",
      "Song 255: \"Total Interferencia\"\n",
      "Song 256: \"Transatlántico Art Decó\"\n",
      "Song 257: \"Transformación\"\n",
      "\"Tribulaciones, Lamento Y Ocaso De Un Tonto Rey Imaginario, O No (Live)\" is not valid. Skipping.\n",
      "Song 258: \"Tribunas Del Futuro Pobre\"\n",
      "Song 259: \"Tu Arma en el Sur\"\n",
      "Song 260: \"Tuve Tu Amor\"\n",
      "Song 261: \"Tu Vicio\"\n",
      "Song 262: \"Tu vicio (Gospel)\"\n",
      "Song 263: \"Un corazón para colgar\"\n",
      "Song 264: \"Uno a Uno\"\n",
      "Song 265: \"Variaciones sobre música del alma\"\n",
      "Song 266: \"Vemos...\"\n",
      "Song 267: \"Víctima\"\n",
      "Song 268: \"Viernes 3 Am\"\n",
      "Song 269: \"Vos También Estabas Verde\"\n",
      "Song 270: \"Voy a mil\"\n",
      "Song 271: \"V.S.D.\"\n",
      "Song 272: \"Waitin\"\n",
      "Song 273: \"Watching the Wheels\"\n",
      "Song 274: \"Wonder (Love’s in Need of Love Today)\"\n",
      "Song 275: \"Workin’ In the Morning\"\n",
      "\"Ya No Te Quiero\" is not valid. Skipping.\n",
      "\"Yendo de la Cama al Living\" is not valid. Skipping.\n",
      "Song 276: \"Yendo De La Cama Al Living\"\n",
      "Song 277: \"Yendo de la cama al living - en vivo 2\"\n",
      "Song 278: \"Yendo de la Cama al Living - Live\"\n",
      "Song 279: \"Yo No Quiero Volverme Tan Loco\"\n",
      "\"Yo Soy Su Papá (Live)\" is not valid. Skipping.\n",
      "Song 280: \"Yo Ya Sé\"\n",
      "Song 281: \"Zocacola\"\n",
      "Done. Found 281 songs.\n"
     ]
    }
   ],
   "source": [
    "artist = genius.search_artist(\"Charly Garcia\", sort=\"title\")\n",
    "# print(artist.songs)"
   ]
  },
  {
   "cell_type": "code",
   "execution_count": 16,
   "id": "65384267",
   "metadata": {},
   "outputs": [],
   "source": [
    "# Save the artist object to JSON file (contains metadata, not full lyrics)\n",
    "with open(\n",
    "    f\"../data/raw/{artist.name.replace(' ', '_')}.json\", \"w\", encoding=\"utf-8\"\n",
    ") as f:\n",
    "    json.dump(artist.to_json(), f, ensure_ascii=False, indent=4)"
   ]
  },
  {
   "cell_type": "code",
   "execution_count": null,
   "id": "e34c09b4",
   "metadata": {},
   "outputs": [
    {
     "data": {
      "text/html": [
       "<div>\n",
       "<style scoped>\n",
       "    .dataframe tbody tr th:only-of-type {\n",
       "        vertical-align: middle;\n",
       "    }\n",
       "\n",
       "    .dataframe tbody tr th {\n",
       "        vertical-align: top;\n",
       "    }\n",
       "\n",
       "    .dataframe thead th {\n",
       "        text-align: right;\n",
       "    }\n",
       "</style>\n",
       "<table border=\"1\" class=\"dataframe\">\n",
       "  <thead>\n",
       "    <tr style=\"text-align: right;\">\n",
       "      <th></th>\n",
       "      <th>title</th>\n",
       "      <th>id</th>\n",
       "      <th>url</th>\n",
       "      <th>album</th>\n",
       "    </tr>\n",
       "  </thead>\n",
       "  <tbody>\n",
       "    <tr>\n",
       "      <th>0</th>\n",
       "      <td>A1</td>\n",
       "      <td>4423039</td>\n",
       "      <td>https://genius.com/Charly-garcia-a1-lyrics</td>\n",
       "      <td>Album(id, artist, ...)</td>\n",
       "    </tr>\n",
       "    <tr>\n",
       "      <th>1</th>\n",
       "      <td>Adela en el Carrousell</td>\n",
       "      <td>1760724</td>\n",
       "      <td>https://genius.com/Charly-garcia-adela-en-el-c...</td>\n",
       "      <td>Album(id, artist, ...)</td>\n",
       "    </tr>\n",
       "    <tr>\n",
       "      <th>2</th>\n",
       "      <td>Adela on the carousel (Adela en el carrousel -...</td>\n",
       "      <td>10300359</td>\n",
       "      <td>https://genius.com/Charly-garcia-adela-on-the-...</td>\n",
       "      <td>None</td>\n",
       "    </tr>\n",
       "    <tr>\n",
       "      <th>3</th>\n",
       "      <td>Agua y Piano</td>\n",
       "      <td>4218398</td>\n",
       "      <td>https://genius.com/Charly-garcia-agua-y-piano-...</td>\n",
       "      <td>Album(id, artist, ...)</td>\n",
       "    </tr>\n",
       "    <tr>\n",
       "      <th>4</th>\n",
       "      <td>Alguien en el Mundo Piensa En Mí</td>\n",
       "      <td>988752</td>\n",
       "      <td>https://genius.com/Charly-garcia-alguien-en-el...</td>\n",
       "      <td>Album(id, artist, ...)</td>\n",
       "    </tr>\n",
       "    <tr>\n",
       "      <th>...</th>\n",
       "      <td>...</td>\n",
       "      <td>...</td>\n",
       "      <td>...</td>\n",
       "      <td>...</td>\n",
       "    </tr>\n",
       "    <tr>\n",
       "      <th>276</th>\n",
       "      <td>Yendo de la cama al living - en vivo 2</td>\n",
       "      <td>1970216</td>\n",
       "      <td>https://genius.com/Charly-garcia-yendo-de-la-c...</td>\n",
       "      <td>None</td>\n",
       "    </tr>\n",
       "    <tr>\n",
       "      <th>277</th>\n",
       "      <td>Yendo de la Cama al Living - Live</td>\n",
       "      <td>1950091</td>\n",
       "      <td>https://genius.com/Charly-garcia-yendo-de-la-c...</td>\n",
       "      <td>Album(id, artist, ...)</td>\n",
       "    </tr>\n",
       "    <tr>\n",
       "      <th>278</th>\n",
       "      <td>Yo No Quiero Volverme Tan Loco</td>\n",
       "      <td>1717725</td>\n",
       "      <td>https://genius.com/Charly-garcia-yo-no-quiero-...</td>\n",
       "      <td>Album(id, artist, ...)</td>\n",
       "    </tr>\n",
       "    <tr>\n",
       "      <th>279</th>\n",
       "      <td>Yo Ya Sé</td>\n",
       "      <td>7987584</td>\n",
       "      <td>https://genius.com/Charly-garcia-yo-ya-se-lyrics</td>\n",
       "      <td>Album(id, artist, ...)</td>\n",
       "    </tr>\n",
       "    <tr>\n",
       "      <th>280</th>\n",
       "      <td>Zocacola</td>\n",
       "      <td>1144466</td>\n",
       "      <td>https://genius.com/Charly-garcia-zocacola-lyrics</td>\n",
       "      <td>Album(id, artist, ...)</td>\n",
       "    </tr>\n",
       "  </tbody>\n",
       "</table>\n",
       "<p>281 rows × 4 columns</p>\n",
       "</div>"
      ],
      "text/plain": [
       "                                                 title        id  \\\n",
       "0                                                   A1   4423039   \n",
       "1                               Adela en el Carrousell   1760724   \n",
       "2    Adela on the carousel (Adela en el carrousel -...  10300359   \n",
       "3                                         Agua y Piano   4218398   \n",
       "4                     Alguien en el Mundo Piensa En Mí    988752   \n",
       "..                                                 ...       ...   \n",
       "276             Yendo de la cama al living - en vivo 2   1970216   \n",
       "277                  Yendo de la Cama al Living - Live   1950091   \n",
       "278                     Yo No Quiero Volverme Tan Loco   1717725   \n",
       "279                                           Yo Ya Sé   7987584   \n",
       "280                                           Zocacola   1144466   \n",
       "\n",
       "                                                   url                   album  \n",
       "0           https://genius.com/Charly-garcia-a1-lyrics  Album(id, artist, ...)  \n",
       "1    https://genius.com/Charly-garcia-adela-en-el-c...  Album(id, artist, ...)  \n",
       "2    https://genius.com/Charly-garcia-adela-on-the-...                    None  \n",
       "3    https://genius.com/Charly-garcia-agua-y-piano-...  Album(id, artist, ...)  \n",
       "4    https://genius.com/Charly-garcia-alguien-en-el...  Album(id, artist, ...)  \n",
       "..                                                 ...                     ...  \n",
       "276  https://genius.com/Charly-garcia-yendo-de-la-c...                    None  \n",
       "277  https://genius.com/Charly-garcia-yendo-de-la-c...  Album(id, artist, ...)  \n",
       "278  https://genius.com/Charly-garcia-yo-no-quiero-...  Album(id, artist, ...)  \n",
       "279   https://genius.com/Charly-garcia-yo-ya-se-lyrics  Album(id, artist, ...)  \n",
       "280   https://genius.com/Charly-garcia-zocacola-lyrics  Album(id, artist, ...)  \n",
       "\n",
       "[281 rows x 4 columns]"
      ]
     },
     "execution_count": 18,
     "metadata": {},
     "output_type": "execute_result"
    }
   ],
   "source": [
    "# Extract song metadata without lyrics\n",
    "songs_data = []\n",
    "for song in artist.songs:\n",
    "    songs_data.append(\n",
    "        {\n",
    "            \"title\": song.title,\n",
    "            \"id\": song.id,\n",
    "            \"url\": song.url,\n",
    "            \"album\": song.album,\n",
    "            # \"release_date\": song.release_date_for_display\n",
    "        }\n",
    "    )\n",
    "\n",
    "# Create DataFrame and save to CSV\n",
    "df = pd.DataFrame(songs_data)\n",
    "df"
   ]
  },
  {
   "cell_type": "code",
   "execution_count": 26,
   "id": "d08c7103",
   "metadata": {},
   "outputs": [
    {
     "name": "stderr",
     "output_type": "stream",
     "text": [
      "  0%|          | 0/281 [00:00<?, ?it/s]"
     ]
    },
    {
     "name": "stdout",
     "output_type": "stream",
     "text": [
      "Searching for: A1 by Charly Garcia\n",
      "Searching for \"A1\" by Charly Garcia...\n",
      "Specified song does not contain lyrics. Rejecting.\n",
      "✗ No lyrics found for: A1\n"
     ]
    },
    {
     "name": "stderr",
     "output_type": "stream",
     "text": [
      "  1%|          | 2/281 [00:01<04:33,  1.02it/s]"
     ]
    },
    {
     "name": "stdout",
     "output_type": "stream",
     "text": [
      "Searching for: Adela en el Carrousell by Charly Garcia\n",
      "Searching for \"Adela en el Carrousell\" by Charly Garcia...\n",
      "Done.\n",
      "✓ Added lyrics for: Adela en el Carrousell\n"
     ]
    },
    {
     "name": "stderr",
     "output_type": "stream",
     "text": [
      "  1%|          | 3/281 [00:04<08:23,  1.81s/it]"
     ]
    },
    {
     "name": "stdout",
     "output_type": "stream",
     "text": [
      "Searching for: Adela on the carousel (Adela en el carrousel - English Lyrics) by Charly Garcia\n",
      "Searching for \"Adela on the carousel (Adela en el carrousel - English Lyrics)\" by Charly Garcia...\n",
      "Done.\n",
      "✓ Added lyrics for: Adela on the carousel (Adela en el carrousel - English Lyrics)\n"
     ]
    },
    {
     "name": "stderr",
     "output_type": "stream",
     "text": [
      "  1%|▏         | 4/281 [00:08<10:36,  2.30s/it]"
     ]
    },
    {
     "name": "stdout",
     "output_type": "stream",
     "text": [
      "Searching for: Agua y Piano by Charly Garcia\n",
      "Searching for \"Agua y Piano\" by Charly Garcia...\n",
      "Specified song does not contain lyrics. Rejecting.\n",
      "✗ No lyrics found for: Agua y Piano\n"
     ]
    },
    {
     "name": "stderr",
     "output_type": "stream",
     "text": [
      "  2%|▏         | 5/281 [00:09<09:47,  2.13s/it]"
     ]
    },
    {
     "name": "stdout",
     "output_type": "stream",
     "text": [
      "Searching for: Alguien en el Mundo Piensa En Mí by Charly Garcia\n",
      "Searching for \"Alguien en el Mundo Piensa En Mí\" by Charly Garcia...\n",
      "Done.\n",
      "✓ Added lyrics for: Alguien en el Mundo Piensa En Mí\n"
     ]
    },
    {
     "name": "stderr",
     "output_type": "stream",
     "text": [
      "  2%|▏         | 6/281 [00:13<11:24,  2.49s/it]"
     ]
    },
    {
     "name": "stdout",
     "output_type": "stream",
     "text": [
      "Searching for: Alicia Va a la Disco by Charly Garcia\n",
      "Searching for \"Alicia Va a la Disco\" by Charly Garcia...\n",
      "Specified song does not contain lyrics. Rejecting.\n",
      "✗ No lyrics found for: Alicia Va a la Disco\n"
     ]
    },
    {
     "name": "stderr",
     "output_type": "stream",
     "text": [
      "  2%|▏         | 7/281 [00:15<10:47,  2.36s/it]"
     ]
    },
    {
     "name": "stdout",
     "output_type": "stream",
     "text": [
      "Searching for: All I Do the Whole Night Through by Charly Garcia\n",
      "Searching for \"All I Do the Whole Night Through\" by Charly Garcia...\n",
      "Done.\n",
      "✓ Added lyrics for: All I Do the Whole Night Through\n"
     ]
    },
    {
     "name": "stderr",
     "output_type": "stream",
     "text": [
      "  3%|▎         | 8/281 [00:18<12:10,  2.68s/it]"
     ]
    },
    {
     "name": "stdout",
     "output_type": "stream",
     "text": [
      "Searching for: Ambiente by Charly Garcia\n",
      "Searching for \"Ambiente\" by Charly Garcia...\n",
      "Done.\n",
      "✓ Added lyrics for: Ambiente\n"
     ]
    },
    {
     "name": "stderr",
     "output_type": "stream",
     "text": [
      "  3%|▎         | 9/281 [00:21<12:47,  2.82s/it]"
     ]
    },
    {
     "name": "stdout",
     "output_type": "stream",
     "text": [
      "Searching for: América by Charly Garcia\n",
      "Searching for \"América\" by Charly Garcia...\n",
      "Done.\n",
      "✓ Added lyrics for: América\n"
     ]
    },
    {
     "name": "stderr",
     "output_type": "stream",
     "text": [
      "  4%|▎         | 10/281 [00:24<13:14,  2.93s/it]"
     ]
    },
    {
     "name": "stdout",
     "output_type": "stream",
     "text": [
      "Searching for: Amigos de Dios by Charly Garcia\n",
      "Searching for \"Amigos de Dios\" by Charly Garcia...\n",
      "Done.\n",
      "✓ Added lyrics for: Amigos de Dios\n"
     ]
    },
    {
     "name": "stderr",
     "output_type": "stream",
     "text": [
      "  4%|▍         | 11/281 [00:28<13:59,  3.11s/it]"
     ]
    },
    {
     "name": "stdout",
     "output_type": "stream",
     "text": [
      "Searching for: Andan (Complete) by Charly Garcia\n",
      "Searching for \"Andan (Complete)\" by Charly Garcia...\n",
      "Done.\n",
      "✓ Added lyrics for: Andan (Complete)\n"
     ]
    },
    {
     "name": "stderr",
     "output_type": "stream",
     "text": [
      "  4%|▍         | 12/281 [00:31<14:28,  3.23s/it]"
     ]
    },
    {
     "name": "stdout",
     "output_type": "stream",
     "text": [
      "Searching for: Andan (Excerpt) by Charly Garcia\n",
      "Searching for \"Andan (Excerpt)\" by Charly Garcia...\n",
      "Specified song does not contain lyrics. Rejecting.\n",
      "✗ No lyrics found for: Andan (Excerpt)\n"
     ]
    },
    {
     "name": "stderr",
     "output_type": "stream",
     "text": [
      "  5%|▍         | 13/281 [00:33<12:47,  2.86s/it]"
     ]
    },
    {
     "name": "stdout",
     "output_type": "stream",
     "text": [
      "Searching for: Anhedonia by Charly Garcia\n",
      "Searching for \"Anhedonia\" by Charly Garcia...\n",
      "Done.\n",
      "✓ Added lyrics for: Anhedonia\n"
     ]
    },
    {
     "name": "stderr",
     "output_type": "stream",
     "text": [
      "  5%|▍         | 14/281 [00:37<13:15,  2.98s/it]"
     ]
    },
    {
     "name": "stdout",
     "output_type": "stream",
     "text": [
      "Searching for: A Punto de Caer by Charly Garcia\n",
      "Searching for \"A Punto de Caer\" by Charly Garcia...\n",
      "Done.\n",
      "✓ Added lyrics for: A Punto de Caer\n"
     ]
    },
    {
     "name": "stderr",
     "output_type": "stream",
     "text": [
      "  5%|▌         | 15/281 [00:40<14:09,  3.19s/it]"
     ]
    },
    {
     "name": "stdout",
     "output_type": "stream",
     "text": [
      "Searching for: Asesíname by Charly Garcia\n",
      "Searching for \"Asesíname\" by Charly Garcia...\n",
      "Done.\n",
      "✓ Added lyrics for: Asesíname\n"
     ]
    },
    {
     "name": "stderr",
     "output_type": "stream",
     "text": [
      "  6%|▌         | 16/281 [00:44<14:20,  3.25s/it]"
     ]
    },
    {
     "name": "stdout",
     "output_type": "stream",
     "text": [
      "Searching for: Asesiname - en vivo by Charly Garcia\n",
      "Searching for \"Asesiname - en vivo\" by Charly Garcia...\n",
      "Done.\n",
      "✓ Added lyrics for: Asesiname - en vivo\n"
     ]
    },
    {
     "name": "stderr",
     "output_type": "stream",
     "text": [
      "  6%|▌         | 17/281 [00:47<13:59,  3.18s/it]"
     ]
    },
    {
     "name": "stdout",
     "output_type": "stream",
     "text": [
      "Searching for: Asesíname Stone by Charly Garcia\n",
      "Searching for \"Asesíname Stone\" by Charly Garcia...\n",
      "Done.\n",
      "✓ Added lyrics for: Asesíname Stone\n"
     ]
    },
    {
     "name": "stderr",
     "output_type": "stream",
     "text": [
      "  6%|▋         | 18/281 [00:50<13:52,  3.17s/it]"
     ]
    },
    {
     "name": "stdout",
     "output_type": "stream",
     "text": [
      "Searching for: Atlantis by Charly Garcia\n",
      "Searching for \"Atlantis\" by Charly Garcia...\n",
      "Specified song does not contain lyrics. Rejecting.\n",
      "✗ No lyrics found for: Atlantis\n"
     ]
    },
    {
     "name": "stderr",
     "output_type": "stream",
     "text": [
      "  7%|▋         | 19/281 [00:52<12:11,  2.79s/it]"
     ]
    },
    {
     "name": "stdout",
     "output_type": "stream",
     "text": [
      "Searching for: Atlantis - Parte II by Charly Garcia\n",
      "Searching for \"Atlantis - Parte II\" by Charly Garcia...\n",
      "Specified song does not contain lyrics. Rejecting.\n",
      "✗ No lyrics found for: Atlantis - Parte II\n"
     ]
    },
    {
     "name": "stderr",
     "output_type": "stream",
     "text": [
      "  7%|▋         | 20/281 [00:54<11:07,  2.56s/it]"
     ]
    },
    {
     "name": "stdout",
     "output_type": "stream",
     "text": [
      "Searching for: Autofemicidio by Charly Garcia\n",
      "Searching for \"Autofemicidio\" by Charly Garcia...\n",
      "Done.\n",
      "✓ Added lyrics for: Autofemicidio\n"
     ]
    },
    {
     "name": "stderr",
     "output_type": "stream",
     "text": [
      "  7%|▋         | 21/281 [00:57<11:32,  2.66s/it]"
     ]
    },
    {
     "name": "stdout",
     "output_type": "stream",
     "text": [
      "Searching for: Bancate Ese Defecto by Charly Garcia\n",
      "Searching for \"Bancate Ese Defecto\" by Charly Garcia...\n",
      "Done.\n",
      "✓ Added lyrics for: Bancate Ese Defecto\n"
     ]
    },
    {
     "name": "stderr",
     "output_type": "stream",
     "text": [
      "  8%|▊         | 22/281 [01:00<12:33,  2.91s/it]"
     ]
    },
    {
     "name": "stdout",
     "output_type": "stream",
     "text": [
      "Searching for: Bar Azul by Charly Garcia\n",
      "Searching for \"Bar Azul\" by Charly Garcia...\n",
      "Done.\n",
      "✓ Added lyrics for: Bar Azul\n"
     ]
    },
    {
     "name": "stderr",
     "output_type": "stream",
     "text": [
      "  8%|▊         | 23/281 [01:03<12:41,  2.95s/it]"
     ]
    },
    {
     "name": "stdout",
     "output_type": "stream",
     "text": [
      "Searching for: Believe by Charly Garcia\n",
      "Searching for \"Believe\" by Charly Garcia...\n",
      "Done.\n",
      "✓ Added lyrics for: Believe\n"
     ]
    },
    {
     "name": "stderr",
     "output_type": "stream",
     "text": [
      "  9%|▊         | 24/281 [01:07<13:32,  3.16s/it]"
     ]
    },
    {
     "name": "stdout",
     "output_type": "stream",
     "text": [
      "Searching for: Bienvenidos al tren by Charly Garcia\n",
      "Searching for \"Bienvenidos al tren\" by Charly Garcia...\n",
      "Done.\n",
      "✓ Added lyrics for: Bienvenidos al tren\n"
     ]
    },
    {
     "name": "stderr",
     "output_type": "stream",
     "text": [
      "  9%|▉         | 25/281 [01:10<13:25,  3.15s/it]"
     ]
    },
    {
     "name": "stdout",
     "output_type": "stream",
     "text": [
      "Searching for: Boletos, pases y abonos by Charly Garcia\n",
      "Searching for \"Boletos, pases y abonos\" by Charly Garcia...\n",
      "Done.\n",
      "✓ Added lyrics for: Boletos, pases y abonos\n"
     ]
    },
    {
     "name": "stderr",
     "output_type": "stream",
     "text": [
      "  9%|▉         | 26/281 [01:13<13:14,  3.12s/it]"
     ]
    },
    {
     "name": "stdout",
     "output_type": "stream",
     "text": [
      "Searching for: Break It Up by Charly Garcia\n",
      "Searching for \"Break It Up\" by Charly Garcia...\n",
      "Done.\n",
      "✓ Added lyrics for: Break It Up\n"
     ]
    },
    {
     "name": "stderr",
     "output_type": "stream",
     "text": [
      " 10%|▉         | 27/281 [01:17<13:43,  3.24s/it]"
     ]
    },
    {
     "name": "stdout",
     "output_type": "stream",
     "text": [
      "Searching for: Buscando un Símbolo de Paz by Charly Garcia\n",
      "Searching for \"Buscando un Símbolo de Paz\" by Charly Garcia...\n",
      "Done.\n",
      "✓ Added lyrics for: Buscando un Símbolo de Paz\n"
     ]
    },
    {
     "name": "stderr",
     "output_type": "stream",
     "text": [
      " 10%|▉         | 28/281 [01:20<13:31,  3.21s/it]"
     ]
    },
    {
     "name": "stdout",
     "output_type": "stream",
     "text": [
      "Searching for: Calle [Taxi] by Charly Garcia\n",
      "Searching for \"Calle [Taxi]\" by Charly Garcia...\n",
      "Specified song does not contain lyrics. Rejecting.\n",
      "✗ No lyrics found for: Calle [Taxi]\n"
     ]
    },
    {
     "name": "stderr",
     "output_type": "stream",
     "text": [
      " 10%|█         | 29/281 [01:22<12:06,  2.88s/it]"
     ]
    },
    {
     "name": "stdout",
     "output_type": "stream",
     "text": [
      "Searching for: Canción de 2 x 3 - en vivo by Charly Garcia\n",
      "Searching for \"Canción de 2 x 3 - en vivo\" by Charly Garcia...\n",
      "Done.\n",
      "✓ Added lyrics for: Canción de 2 x 3 - en vivo\n"
     ]
    },
    {
     "name": "stderr",
     "output_type": "stream",
     "text": [
      " 11%|█         | 30/281 [01:25<12:07,  2.90s/it]"
     ]
    },
    {
     "name": "stdout",
     "output_type": "stream",
     "text": [
      "Searching for: Canción de alicia en el pais - en vivo by Charly Garcia\n",
      "Searching for \"Canción de alicia en el pais - en vivo\" by Charly Garcia...\n",
      "Done.\n",
      "✓ Added lyrics for: Canción de alicia en el pais - en vivo\n"
     ]
    },
    {
     "name": "stderr",
     "output_type": "stream",
     "text": [
      " 11%|█         | 31/281 [01:28<12:25,  2.98s/it]"
     ]
    },
    {
     "name": "stdout",
     "output_type": "stream",
     "text": [
      "Searching for: Canción de Dos por Tres by Charly Garcia\n",
      "Searching for \"Canción de Dos por Tres\" by Charly Garcia...\n",
      "Done.\n",
      "✓ Added lyrics for: Canción de Dos por Tres\n"
     ]
    },
    {
     "name": "stderr",
     "output_type": "stream",
     "text": [
      " 11%|█▏        | 32/281 [01:32<13:44,  3.31s/it]"
     ]
    },
    {
     "name": "stdout",
     "output_type": "stream",
     "text": [
      "Searching for: Canción de Hollywood by Charly Garcia\n",
      "Searching for \"Canción de Hollywood\" by Charly Garcia...\n",
      "Done.\n",
      "✓ Added lyrics for: Canción de Hollywood\n"
     ]
    },
    {
     "name": "stderr",
     "output_type": "stream",
     "text": [
      " 12%|█▏        | 33/281 [01:35<13:19,  3.22s/it]"
     ]
    },
    {
     "name": "stdout",
     "output_type": "stream",
     "text": [
      "Searching for: Canciones de Jirafas by Charly Garcia\n",
      "Searching for \"Canciones de Jirafas\" by Charly Garcia...\n",
      "Done.\n",
      "✓ Added lyrics for: Canciones de Jirafas\n"
     ]
    },
    {
     "name": "stderr",
     "output_type": "stream",
     "text": [
      " 12%|█▏        | 34/281 [01:38<13:08,  3.19s/it]"
     ]
    },
    {
     "name": "stdout",
     "output_type": "stream",
     "text": [
      "Searching for: Canción Para Mi Muerte (Bonus Track) by Charly Garcia\n",
      "Searching for \"Canción Para Mi Muerte (Bonus Track)\" by Charly Garcia...\n",
      "Done.\n",
      "✓ Added lyrics for: Canción Para Mi Muerte (Bonus Track)\n"
     ]
    },
    {
     "name": "stderr",
     "output_type": "stream",
     "text": [
      " 12%|█▏        | 35/281 [01:41<13:01,  3.18s/it]"
     ]
    },
    {
     "name": "stdout",
     "output_type": "stream",
     "text": [
      "Searching for: Casa Vacía by Charly Garcia\n",
      "Searching for \"Casa Vacía\" by Charly Garcia...\n",
      "Done.\n",
      "✓ Added lyrics for: Casa Vacía\n"
     ]
    },
    {
     "name": "stderr",
     "output_type": "stream",
     "text": [
      " 13%|█▎        | 36/281 [01:45<13:02,  3.19s/it]"
     ]
    },
    {
     "name": "stdout",
     "output_type": "stream",
     "text": [
      "Searching for: Caspa de Estrellas by Charly Garcia\n",
      "Searching for \"Caspa de Estrellas\" by Charly Garcia...\n",
      "Specified song does not contain lyrics. Rejecting.\n",
      "✗ No lyrics found for: Caspa de Estrellas\n"
     ]
    },
    {
     "name": "stderr",
     "output_type": "stream",
     "text": [
      " 13%|█▎        | 37/281 [01:46<11:16,  2.77s/it]"
     ]
    },
    {
     "name": "stdout",
     "output_type": "stream",
     "text": [
      "Searching for: Cerca De La Revolución by Charly Garcia\n",
      "Searching for \"Cerca De La Revolución\" by Charly Garcia...\n",
      "Done.\n",
      "✓ Added lyrics for: Cerca De La Revolución\n"
     ]
    },
    {
     "name": "stderr",
     "output_type": "stream",
     "text": [
      " 14%|█▎        | 38/281 [01:50<12:25,  3.07s/it]"
     ]
    },
    {
     "name": "stdout",
     "output_type": "stream",
     "text": [
      "Searching for: Cerca De La Revolución [Demasiado Ego] by Charly Garcia\n",
      "Searching for \"Cerca De La Revolución [Demasiado Ego]\" by Charly Garcia...\n",
      "Done.\n",
      "✓ Added lyrics for: Cerca De La Revolución [Demasiado Ego]\n"
     ]
    },
    {
     "name": "stderr",
     "output_type": "stream",
     "text": [
      " 14%|█▍        | 39/281 [01:53<12:23,  3.07s/it]"
     ]
    },
    {
     "name": "stdout",
     "output_type": "stream",
     "text": [
      "Searching for: Cerca de la Revolución - Live by Charly Garcia\n",
      "Searching for \"Cerca de la Revolución - Live\" by Charly Garcia...\n",
      "Done.\n",
      "✓ Added lyrics for: Cerca de la Revolución - Live\n"
     ]
    },
    {
     "name": "stderr",
     "output_type": "stream",
     "text": [
      " 14%|█▍        | 40/281 [01:56<12:32,  3.12s/it]"
     ]
    },
    {
     "name": "stdout",
     "output_type": "stream",
     "text": [
      "Searching for: Chicas Muertas by Charly Garcia\n",
      "Searching for \"Chicas Muertas\" by Charly Garcia...\n",
      "Done.\n",
      "✓ Added lyrics for: Chicas Muertas\n"
     ]
    },
    {
     "name": "stderr",
     "output_type": "stream",
     "text": [
      " 15%|█▍        | 41/281 [01:59<12:25,  3.11s/it]"
     ]
    },
    {
     "name": "stdout",
     "output_type": "stream",
     "text": [
      "Searching for: Chipi-Chipi by Charly Garcia\n",
      "Searching for \"Chipi-Chipi\" by Charly Garcia...\n",
      "Done.\n",
      "✓ Added lyrics for: Chipi-Chipi\n"
     ]
    },
    {
     "name": "stderr",
     "output_type": "stream",
     "text": [
      " 15%|█▍        | 42/281 [02:03<13:09,  3.30s/it]"
     ]
    },
    {
     "name": "stdout",
     "output_type": "stream",
     "text": [
      "Searching for: Chipi Chipi - Live by Charly Garcia\n",
      "Searching for \"Chipi Chipi - Live\" by Charly Garcia...\n",
      "Done.\n",
      "✓ Added lyrics for: Chipi Chipi - Live\n"
     ]
    },
    {
     "name": "stderr",
     "output_type": "stream",
     "text": [
      " 15%|█▌        | 43/281 [02:06<12:58,  3.27s/it]"
     ]
    },
    {
     "name": "stdout",
     "output_type": "stream",
     "text": [
      "Searching for: Chipi chipi - live2 by Charly Garcia\n",
      "Searching for \"Chipi chipi - live2\" by Charly Garcia...\n",
      "Done.\n",
      "✓ Added lyrics for: Chipi chipi - live2\n"
     ]
    },
    {
     "name": "stderr",
     "output_type": "stream",
     "text": [
      " 16%|█▌        | 44/281 [02:10<13:01,  3.30s/it]"
     ]
    },
    {
     "name": "stdout",
     "output_type": "stream",
     "text": [
      "Searching for: Chiquilin by Charly Garcia\n",
      "Searching for \"Chiquilin\" by Charly Garcia...\n",
      "Done.\n",
      "✓ Added lyrics for: Chiquilin\n"
     ]
    },
    {
     "name": "stderr",
     "output_type": "stream",
     "text": [
      " 16%|█▌        | 45/281 [02:13<12:41,  3.23s/it]"
     ]
    },
    {
     "name": "stdout",
     "output_type": "stream",
     "text": [
      "Searching for: Como Mata El Viento Norte by Charly Garcia\n",
      "Searching for \"Como Mata El Viento Norte\" by Charly Garcia...\n",
      "Done.\n",
      "✓ Added lyrics for: Como Mata El Viento Norte\n"
     ]
    },
    {
     "name": "stderr",
     "output_type": "stream",
     "text": [
      " 16%|█▋        | 46/281 [02:16<13:00,  3.32s/it]"
     ]
    },
    {
     "name": "stdout",
     "output_type": "stream",
     "text": [
      "Searching for: Cómo Me Gustaría Ser Negro by Charly Garcia\n",
      "Searching for \"Cómo Me Gustaría Ser Negro\" by Charly Garcia...\n",
      "Done.\n",
      "✓ Added lyrics for: Cómo Me Gustaría Ser Negro\n"
     ]
    },
    {
     "name": "stderr",
     "output_type": "stream",
     "text": [
      " 17%|█▋        | 47/281 [02:20<12:45,  3.27s/it]"
     ]
    },
    {
     "name": "stdout",
     "output_type": "stream",
     "text": [
      "Searching for: Con 9 Alcanza by Charly Garcia\n",
      "Searching for \"Con 9 Alcanza\" by Charly Garcia...\n",
      "Done.\n",
      "✓ Added lyrics for: Con 9 Alcanza\n"
     ]
    },
    {
     "name": "stderr",
     "output_type": "stream",
     "text": [
      " 17%|█▋        | 48/281 [02:23<12:34,  3.24s/it]"
     ]
    },
    {
     "name": "stdout",
     "output_type": "stream",
     "text": [
      "Searching for: Conejo Tecno by Charly Garcia\n",
      "Searching for \"Conejo Tecno\" by Charly Garcia...\n",
      "Specified song does not contain lyrics. Rejecting.\n",
      "✗ No lyrics found for: Conejo Tecno\n"
     ]
    },
    {
     "name": "stderr",
     "output_type": "stream",
     "text": [
      " 17%|█▋        | 49/281 [02:25<10:52,  2.81s/it]"
     ]
    },
    {
     "name": "stdout",
     "output_type": "stream",
     "text": [
      "Searching for: Constant Concept by Charly Garcia\n",
      "Searching for \"Constant Concept\" by Charly Garcia...\n",
      "Specified song does not contain lyrics. Rejecting.\n",
      "✗ No lyrics found for: Constant Concept\n"
     ]
    },
    {
     "name": "stderr",
     "output_type": "stream",
     "text": [
      " 18%|█▊        | 50/281 [02:27<09:56,  2.58s/it]"
     ]
    },
    {
     "name": "stdout",
     "output_type": "stream",
     "text": [
      "Searching for: Corazón de hormigón by Charly Garcia\n",
      "Searching for \"Corazón de hormigón\" by Charly Garcia...\n",
      "Done.\n",
      "✓ Added lyrics for: Corazón de hormigón\n"
     ]
    },
    {
     "name": "stderr",
     "output_type": "stream",
     "text": [
      " 18%|█▊        | 51/281 [02:30<10:45,  2.81s/it]"
     ]
    },
    {
     "name": "stdout",
     "output_type": "stream",
     "text": [
      "Searching for: Correte Beethoven (Roll Over Beethoven) by Charly Garcia\n",
      "Searching for \"Correte Beethoven (Roll Over Beethoven)\" by Charly Garcia...\n",
      "Done.\n",
      "✓ Added lyrics for: Correte Beethoven (Roll Over Beethoven)\n"
     ]
    },
    {
     "name": "stderr",
     "output_type": "stream",
     "text": [
      " 19%|█▊        | 52/281 [02:33<11:14,  2.94s/it]"
     ]
    },
    {
     "name": "stdout",
     "output_type": "stream",
     "text": [
      "Searching for: Cretino by Charly Garcia\n",
      "Searching for \"Cretino\" by Charly Garcia...\n",
      "Done.\n",
      "✓ Added lyrics for: Cretino\n"
     ]
    },
    {
     "name": "stderr",
     "output_type": "stream",
     "text": [
      " 19%|█▉        | 53/281 [02:37<12:09,  3.20s/it]"
     ]
    },
    {
     "name": "stdout",
     "output_type": "stream",
     "text": [
      "Searching for: Crimen, Divina, Productor by Charly Garcia\n",
      "Searching for \"Crimen, Divina, Productor\" by Charly Garcia...\n",
      "Specified song does not contain lyrics. Rejecting.\n",
      "✗ No lyrics found for: Crimen, Divina, Productor\n"
     ]
    },
    {
     "name": "stderr",
     "output_type": "stream",
     "text": [
      " 19%|█▉        | 54/281 [02:39<10:29,  2.77s/it]"
     ]
    },
    {
     "name": "stdout",
     "output_type": "stream",
     "text": [
      "Searching for: Cuchillos by Charly Garcia\n",
      "Searching for \"Cuchillos\" by Charly Garcia...\n",
      "Done.\n",
      "✓ Added lyrics for: Cuchillos\n"
     ]
    },
    {
     "name": "stderr",
     "output_type": "stream",
     "text": [
      " 20%|█▉        | 55/281 [02:42<11:12,  2.98s/it]"
     ]
    },
    {
     "name": "stdout",
     "output_type": "stream",
     "text": [
      "Searching for: Cuchillos - en vivo by Charly Garcia\n",
      "Searching for \"Cuchillos - en vivo\" by Charly Garcia...\n",
      "Done.\n",
      "✓ Added lyrics for: Cuchillos - en vivo\n"
     ]
    },
    {
     "name": "stderr",
     "output_type": "stream",
     "text": [
      " 20%|█▉        | 56/281 [02:45<11:13,  2.99s/it]"
     ]
    },
    {
     "name": "stdout",
     "output_type": "stream",
     "text": [
      "Searching for: Curitas by Charly Garcia\n",
      "Searching for \"Curitas\" by Charly Garcia...\n",
      "Done.\n",
      "✓ Added lyrics for: Curitas\n"
     ]
    },
    {
     "name": "stderr",
     "output_type": "stream",
     "text": [
      " 20%|██        | 57/281 [02:49<11:31,  3.09s/it]"
     ]
    },
    {
     "name": "stdout",
     "output_type": "stream",
     "text": [
      "Searching for: Dealer (Reprise) by Charly Garcia\n",
      "Searching for \"Dealer (Reprise)\" by Charly Garcia...\n",
      "Specified song does not contain lyrics. Rejecting.\n",
      "✗ No lyrics found for: Dealer (Reprise)\n"
     ]
    },
    {
     "name": "stderr",
     "output_type": "stream",
     "text": [
      " 21%|██        | 58/281 [02:50<10:09,  2.73s/it]"
     ]
    },
    {
     "name": "stdout",
     "output_type": "stream",
     "text": [
      "Searching for: Deberías Saber Por Qué by Charly Garcia\n",
      "Searching for \"Deberías Saber Por Qué\" by Charly Garcia...\n",
      "Done.\n",
      "✓ Added lyrics for: Deberías Saber Por Qué\n"
     ]
    },
    {
     "name": "stderr",
     "output_type": "stream",
     "text": [
      " 21%|██        | 59/281 [02:54<10:58,  2.97s/it]"
     ]
    },
    {
     "name": "stdout",
     "output_type": "stream",
     "text": [
      "Searching for: Deberias saber porque - en vivo by Charly Garcia\n",
      "Searching for \"Deberias saber porque - en vivo\" by Charly Garcia...\n",
      "Done.\n",
      "✓ Added lyrics for: Deberias saber porque - en vivo\n"
     ]
    },
    {
     "name": "stderr",
     "output_type": "stream",
     "text": [
      " 21%|██▏       | 60/281 [02:57<11:24,  3.10s/it]"
     ]
    },
    {
     "name": "stdout",
     "output_type": "stream",
     "text": [
      "Searching for: Demasiado ego (One to one) by Charly Garcia\n",
      "Searching for \"Demasiado ego (One to one)\" by Charly Garcia...\n",
      "Done.\n",
      "✓ Added lyrics for: Demasiado ego (One to one)\n"
     ]
    },
    {
     "name": "stderr",
     "output_type": "stream",
     "text": [
      " 22%|██▏       | 61/281 [03:01<11:29,  3.13s/it]"
     ]
    },
    {
     "name": "stdout",
     "output_type": "stream",
     "text": [
      "Searching for: De Mí by Charly Garcia\n",
      "Searching for \"De Mí\" by Charly Garcia...\n",
      "Done.\n",
      "✓ Added lyrics for: De Mí\n"
     ]
    },
    {
     "name": "stderr",
     "output_type": "stream",
     "text": [
      " 22%|██▏       | 62/281 [03:04<11:56,  3.27s/it]"
     ]
    },
    {
     "name": "stdout",
     "output_type": "stream",
     "text": [
      "Searching for: Demoliendo Hoteles by Charly Garcia\n",
      "Searching for \"Demoliendo Hoteles\" by Charly Garcia...\n",
      "Done.\n",
      "✓ Added lyrics for: Demoliendo Hoteles\n"
     ]
    },
    {
     "name": "stderr",
     "output_type": "stream",
     "text": [
      " 22%|██▏       | 63/281 [03:08<12:45,  3.51s/it]"
     ]
    },
    {
     "name": "stdout",
     "output_type": "stream",
     "text": [
      "Searching for: Demoliendo Hoteles - Live by Charly Garcia\n",
      "Searching for \"Demoliendo Hoteles - Live\" by Charly Garcia...\n",
      "Done.\n",
      "✓ Added lyrics for: Demoliendo Hoteles - Live\n"
     ]
    },
    {
     "name": "stderr",
     "output_type": "stream",
     "text": [
      " 23%|██▎       | 64/281 [03:11<12:16,  3.39s/it]"
     ]
    },
    {
     "name": "stdout",
     "output_type": "stream",
     "text": [
      "Searching for: Demoliendo hoteles - live2 by Charly Garcia\n",
      "Searching for \"Demoliendo hoteles - live2\" by Charly Garcia...\n",
      "Done.\n",
      "✓ Added lyrics for: Demoliendo hoteles - live2\n"
     ]
    },
    {
     "name": "stderr",
     "output_type": "stream",
     "text": [
      " 23%|██▎       | 65/281 [03:15<11:58,  3.33s/it]"
     ]
    },
    {
     "name": "stdout",
     "output_type": "stream",
     "text": [
      "Searching for: Desarma y sangra by Charly Garcia\n",
      "Searching for \"Desarma y sangra\" by Charly Garcia...\n",
      "Done.\n",
      "✓ Added lyrics for: Desarma y sangra\n"
     ]
    },
    {
     "name": "stderr",
     "output_type": "stream",
     "text": [
      " 23%|██▎       | 66/281 [03:18<11:59,  3.35s/it]"
     ]
    },
    {
     "name": "stdout",
     "output_type": "stream",
     "text": [
      "Searching for: Desfile, Águila y León by Charly Garcia\n",
      "Searching for \"Desfile, Águila y León\" by Charly Garcia...\n",
      "Specified song does not contain lyrics. Rejecting.\n",
      "✗ No lyrics found for: Desfile, Águila y León\n"
     ]
    },
    {
     "name": "stderr",
     "output_type": "stream",
     "text": [
      " 24%|██▍       | 67/281 [03:20<10:17,  2.88s/it]"
     ]
    },
    {
     "name": "stdout",
     "output_type": "stream",
     "text": [
      "Searching for: Despertar De Mambo by Charly Garcia\n",
      "Searching for \"Despertar De Mambo\" by Charly Garcia...\n",
      "Specified song does not contain lyrics. Rejecting.\n",
      "✗ No lyrics found for: Despertar De Mambo\n"
     ]
    },
    {
     "name": "stderr",
     "output_type": "stream",
     "text": [
      " 24%|██▍       | 68/281 [03:22<09:06,  2.56s/it]"
     ]
    },
    {
     "name": "stdout",
     "output_type": "stream",
     "text": [
      "Searching for: Dileando Con Un Alma (Que No Puedo Entender) by Charly Garcia\n",
      "Searching for \"Dileando Con Un Alma (Que No Puedo Entender)\" by Charly Garcia...\n",
      "Done.\n",
      "✓ Added lyrics for: Dileando Con Un Alma (Que No Puedo Entender)\n"
     ]
    },
    {
     "name": "stderr",
     "output_type": "stream",
     "text": [
      " 25%|██▍       | 69/281 [03:25<09:42,  2.75s/it]"
     ]
    },
    {
     "name": "stdout",
     "output_type": "stream",
     "text": [
      "Searching for: Dos Cero Uno by Charly Garcia\n",
      "Searching for \"Dos Cero Uno\" by Charly Garcia...\n",
      "Done.\n",
      "✓ Added lyrics for: Dos Cero Uno\n"
     ]
    },
    {
     "name": "stderr",
     "output_type": "stream",
     "text": [
      " 25%|██▍       | 70/281 [03:28<10:15,  2.92s/it]"
     ]
    },
    {
     "name": "stdout",
     "output_type": "stream",
     "text": [
      "Searching for: Dos Edificios Dorados by Charly Garcia\n",
      "Searching for \"Dos Edificios Dorados\" by Charly Garcia...\n",
      "Done.\n",
      "✓ Added lyrics for: Dos Edificios Dorados\n"
     ]
    },
    {
     "name": "stderr",
     "output_type": "stream",
     "text": [
      " 25%|██▌       | 71/281 [03:31<10:36,  3.03s/it]"
     ]
    },
    {
     "name": "stdout",
     "output_type": "stream",
     "text": [
      "Searching for: Eiti Leda by Charly Garcia\n",
      "Searching for \"Eiti Leda\" by Charly Garcia...\n",
      "Done.\n",
      "✓ Added lyrics for: Eiti Leda\n"
     ]
    },
    {
     "name": "stderr",
     "output_type": "stream",
     "text": [
      " 26%|██▌       | 72/281 [03:35<10:55,  3.13s/it]"
     ]
    },
    {
     "name": "stdout",
     "output_type": "stream",
     "text": [
      "Searching for: Eiti Leda - En Vivo by Charly Garcia\n",
      "Searching for \"Eiti Leda - En Vivo\" by Charly Garcia...\n",
      "Done.\n",
      "✓ Added lyrics for: Eiti Leda - En Vivo\n"
     ]
    },
    {
     "name": "stderr",
     "output_type": "stream",
     "text": [
      " 26%|██▌       | 73/281 [03:38<10:54,  3.15s/it]"
     ]
    },
    {
     "name": "stdout",
     "output_type": "stream",
     "text": [
      "Searching for: El Aguante by Charly Garcia\n",
      "Searching for \"El Aguante\" by Charly Garcia...\n",
      "Done.\n",
      "✓ Added lyrics for: El Aguante\n"
     ]
    },
    {
     "name": "stderr",
     "output_type": "stream",
     "text": [
      " 26%|██▋       | 74/281 [03:41<10:48,  3.13s/it]"
     ]
    },
    {
     "name": "stdout",
     "output_type": "stream",
     "text": [
      "Searching for: El Amor Espera by Charly Garcia\n",
      "Searching for \"El Amor Espera\" by Charly Garcia...\n",
      "Done.\n",
      "✓ Added lyrics for: El Amor Espera\n"
     ]
    },
    {
     "name": "stderr",
     "output_type": "stream",
     "text": [
      " 27%|██▋       | 75/281 [03:44<11:05,  3.23s/it]"
     ]
    },
    {
     "name": "stdout",
     "output_type": "stream",
     "text": [
      "Searching for: El Chico de Fin de Semana by Charly Garcia\n",
      "Searching for \"El Chico de Fin de Semana\" by Charly Garcia...\n",
      "Done.\n",
      "✓ Added lyrics for: El Chico de Fin de Semana\n"
     ]
    },
    {
     "name": "stderr",
     "output_type": "stream",
     "text": [
      " 27%|██▋       | 76/281 [03:48<10:58,  3.21s/it]"
     ]
    },
    {
     "name": "stdout",
     "output_type": "stream",
     "text": [
      "Searching for: El Club de los 27 by Charly Garcia\n",
      "Searching for \"El Club de los 27\" by Charly Garcia...\n",
      "Done.\n",
      "✓ Added lyrics for: El Club de los 27\n"
     ]
    },
    {
     "name": "stderr",
     "output_type": "stream",
     "text": [
      " 27%|██▋       | 77/281 [03:51<11:13,  3.30s/it]"
     ]
    },
    {
     "name": "stdout",
     "output_type": "stream",
     "text": [
      "Searching for: El dia que apagaron la luz - en vivo by Charly Garcia\n",
      "Searching for \"El dia que apagaron la luz - en vivo\" by Charly Garcia...\n",
      "Done.\n",
      "✓ Added lyrics for: El dia que apagaron la luz - en vivo\n"
     ]
    },
    {
     "name": "stderr",
     "output_type": "stream",
     "text": [
      " 28%|██▊       | 78/281 [03:54<10:48,  3.20s/it]"
     ]
    },
    {
     "name": "stdout",
     "output_type": "stream",
     "text": [
      "Searching for: El fantasma de Canterville by Charly Garcia\n",
      "Searching for \"El fantasma de Canterville\" by Charly Garcia...\n",
      "Done.\n",
      "✓ Added lyrics for: El fantasma de Canterville\n"
     ]
    },
    {
     "name": "stderr",
     "output_type": "stream",
     "text": [
      " 28%|██▊       | 79/281 [03:57<10:37,  3.16s/it]"
     ]
    },
    {
     "name": "stdout",
     "output_type": "stream",
     "text": [
      "Searching for: El Karma de Vivir Al Sur by Charly Garcia\n",
      "Searching for \"El Karma de Vivir Al Sur\" by Charly Garcia...\n",
      "Done.\n",
      "✓ Added lyrics for: El Karma de Vivir Al Sur\n"
     ]
    },
    {
     "name": "stderr",
     "output_type": "stream",
     "text": [
      " 28%|██▊       | 80/281 [04:01<10:48,  3.22s/it]"
     ]
    },
    {
     "name": "stdout",
     "output_type": "stream",
     "text": [
      "Searching for: Ella Adivinó by Charly Garcia\n",
      "Searching for \"Ella Adivinó\" by Charly Garcia...\n",
      "Done.\n",
      "✓ Added lyrics for: Ella Adivinó\n"
     ]
    },
    {
     "name": "stderr",
     "output_type": "stream",
     "text": [
      " 29%|██▉       | 81/281 [04:04<11:00,  3.30s/it]"
     ]
    },
    {
     "name": "stdout",
     "output_type": "stream",
     "text": [
      "Searching for: Ella Es Bailarina by Charly Garcia\n",
      "Searching for \"Ella Es Bailarina\" by Charly Garcia...\n",
      "Done.\n",
      "✓ Added lyrics for: Ella Es Bailarina\n"
     ]
    },
    {
     "name": "stderr",
     "output_type": "stream",
     "text": [
      " 29%|██▉       | 82/281 [04:07<11:05,  3.34s/it]"
     ]
    },
    {
     "name": "stdout",
     "output_type": "stream",
     "text": [
      "Searching for: Ella Es Tan Kubrick by Charly Garcia\n",
      "Searching for \"Ella Es Tan Kubrick\" by Charly Garcia...\n",
      "Done.\n",
      "✓ Added lyrics for: Ella Es Tan Kubrick\n"
     ]
    },
    {
     "name": "stderr",
     "output_type": "stream",
     "text": [
      " 30%|██▉       | 83/281 [04:11<10:54,  3.31s/it]"
     ]
    },
    {
     "name": "stdout",
     "output_type": "stream",
     "text": [
      "Searching for: El mendigo en el andén by Charly Garcia\n",
      "Searching for \"El mendigo en el andén\" by Charly Garcia...\n",
      "Done.\n",
      "✓ Added lyrics for: El mendigo en el andén\n"
     ]
    },
    {
     "name": "stderr",
     "output_type": "stream",
     "text": [
      " 30%|██▉       | 84/281 [04:14<10:31,  3.20s/it]"
     ]
    },
    {
     "name": "stdout",
     "output_type": "stream",
     "text": [
      "Searching for: El Peso by Charly Garcia\n",
      "Searching for \"El Peso\" by Charly Garcia...\n",
      "Done.\n",
      "✓ Added lyrics for: El Peso\n"
     ]
    },
    {
     "name": "stderr",
     "output_type": "stream",
     "text": [
      " 30%|███       | 85/281 [04:17<10:20,  3.17s/it]"
     ]
    },
    {
     "name": "stdout",
     "output_type": "stream",
     "text": [
      "Searching for: El Show De Los Muertos by Charly Garcia\n",
      "Searching for \"El Show De Los Muertos\" by Charly Garcia...\n",
      "Done.\n",
      "✓ Added lyrics for: El Show De Los Muertos\n"
     ]
    },
    {
     "name": "stderr",
     "output_type": "stream",
     "text": [
      " 31%|███       | 86/281 [04:20<10:24,  3.20s/it]"
     ]
    },
    {
     "name": "stdout",
     "output_type": "stream",
     "text": [
      "Searching for: Encuentro Con El Diablo by Charly Garcia\n",
      "Searching for \"Encuentro Con El Diablo\" by Charly Garcia...\n",
      "Done.\n",
      "✓ Added lyrics for: Encuentro Con El Diablo\n"
     ]
    },
    {
     "name": "stderr",
     "output_type": "stream",
     "text": [
      " 31%|███       | 87/281 [04:24<11:00,  3.40s/it]"
     ]
    },
    {
     "name": "stdout",
     "output_type": "stream",
     "text": [
      "Searching for: En La Ruta Del Tentempié by Charly Garcia\n",
      "Searching for \"En La Ruta Del Tentempié\" by Charly Garcia...\n",
      "Done.\n",
      "✓ Added lyrics for: En La Ruta Del Tentempié\n"
     ]
    },
    {
     "name": "stderr",
     "output_type": "stream",
     "text": [
      " 31%|███▏      | 88/281 [04:27<11:07,  3.46s/it]"
     ]
    },
    {
     "name": "stdout",
     "output_type": "stream",
     "text": [
      "Searching for: Estaba en Llamas Cuando me Acosté by Charly Garcia\n",
      "Searching for \"Estaba en Llamas Cuando me Acosté\" by Charly Garcia...\n",
      "Done.\n",
      "✓ Added lyrics for: Estaba en Llamas Cuando me Acosté\n"
     ]
    },
    {
     "name": "stderr",
     "output_type": "stream",
     "text": [
      " 32%|███▏      | 89/281 [04:31<11:28,  3.59s/it]"
     ]
    },
    {
     "name": "stdout",
     "output_type": "stream",
     "text": [
      "Searching for: Estrellas al Caer by Charly Garcia\n",
      "Searching for \"Estrellas al Caer\" by Charly Garcia...\n",
      "Done.\n",
      "✓ Added lyrics for: Estrellas al Caer\n"
     ]
    },
    {
     "name": "stderr",
     "output_type": "stream",
     "text": [
      " 32%|███▏      | 90/281 [04:35<11:13,  3.52s/it]"
     ]
    },
    {
     "name": "stdout",
     "output_type": "stream",
     "text": [
      "Searching for: Eti leda by Charly Garcia\n",
      "Searching for \"Eti leda\" by Charly Garcia...\n",
      "Done.\n",
      "✓ Added lyrics for: Eti leda\n"
     ]
    },
    {
     "name": "stderr",
     "output_type": "stream",
     "text": [
      " 32%|███▏      | 91/281 [04:38<11:06,  3.51s/it]"
     ]
    },
    {
     "name": "stdout",
     "output_type": "stream",
     "text": [
      "Searching for: Fanky by Charly Garcia\n",
      "Searching for \"Fanky\" by Charly Garcia...\n",
      "Done.\n",
      "✓ Added lyrics for: Fanky\n"
     ]
    },
    {
     "name": "stderr",
     "output_type": "stream",
     "text": [
      " 33%|███▎      | 92/281 [04:42<11:05,  3.52s/it]"
     ]
    },
    {
     "name": "stdout",
     "output_type": "stream",
     "text": [
      "Searching for: Fanky - Live by Charly Garcia\n",
      "Searching for \"Fanky - Live\" by Charly Garcia...\n",
      "Done.\n",
      "✓ Added lyrics for: Fanky - Live\n"
     ]
    },
    {
     "name": "stderr",
     "output_type": "stream",
     "text": [
      " 33%|███▎      | 93/281 [04:45<10:33,  3.37s/it]"
     ]
    },
    {
     "name": "stdout",
     "output_type": "stream",
     "text": [
      "Searching for: Fanky - live2 by Charly Garcia\n",
      "Searching for \"Fanky - live2\" by Charly Garcia...\n",
      "Done.\n",
      "✓ Added lyrics for: Fanky - live2\n"
     ]
    },
    {
     "name": "stderr",
     "output_type": "stream",
     "text": [
      " 33%|███▎      | 94/281 [04:48<10:36,  3.40s/it]"
     ]
    },
    {
     "name": "stdout",
     "output_type": "stream",
     "text": [
      "Searching for: Fantasy by Charly Garcia\n",
      "Searching for \"Fantasy\" by Charly Garcia...\n",
      "Done.\n",
      "✓ Added lyrics for: Fantasy\n"
     ]
    },
    {
     "name": "stderr",
     "output_type": "stream",
     "text": [
      " 34%|███▍      | 95/281 [04:52<10:49,  3.49s/it]"
     ]
    },
    {
     "name": "stdout",
     "output_type": "stream",
     "text": [
      "Searching for: Fantasy - en vivo by Charly Garcia\n",
      "Searching for \"Fantasy - en vivo\" by Charly Garcia...\n",
      "Done.\n",
      "✓ Added lyrics for: Fantasy - en vivo\n"
     ]
    },
    {
     "name": "stderr",
     "output_type": "stream",
     "text": [
      " 34%|███▍      | 96/281 [04:55<10:21,  3.36s/it]"
     ]
    },
    {
     "name": "stdout",
     "output_type": "stream",
     "text": [
      "Searching for: Fax U by Charly Garcia\n",
      "Searching for \"Fax U\" by Charly Garcia...\n",
      "Done.\n",
      "✓ Added lyrics for: Fax U\n"
     ]
    },
    {
     "name": "stderr",
     "output_type": "stream",
     "text": [
      " 35%|███▍      | 97/281 [04:58<10:03,  3.28s/it]"
     ]
    },
    {
     "name": "stdout",
     "output_type": "stream",
     "text": [
      "Searching for: Fifteen Forever - Live by Charly Garcia\n",
      "Searching for \"Fifteen Forever - Live\" by Charly Garcia...\n",
      "Done.\n",
      "✓ Added lyrics for: Fifteen Forever - Live\n"
     ]
    },
    {
     "name": "stderr",
     "output_type": "stream",
     "text": [
      " 35%|███▍      | 98/281 [05:01<09:57,  3.27s/it]"
     ]
    },
    {
     "name": "stdout",
     "output_type": "stream",
     "text": [
      "Searching for: Fifteen forever - live2 by Charly Garcia\n",
      "Searching for \"Fifteen forever - live2\" by Charly Garcia...\n",
      "Done.\n",
      "✓ Added lyrics for: Fifteen forever - live2\n"
     ]
    },
    {
     "name": "stderr",
     "output_type": "stream",
     "text": [
      " 35%|███▌      | 99/281 [05:05<09:56,  3.28s/it]"
     ]
    },
    {
     "name": "stdout",
     "output_type": "stream",
     "text": [
      "Searching for: Filosofía Barata y Zapatos de Goma by Charly Garcia\n",
      "Searching for \"Filosofía Barata y Zapatos de Goma\" by Charly Garcia...\n",
      "Done.\n",
      "✓ Added lyrics for: Filosofía Barata y Zapatos de Goma\n"
     ]
    },
    {
     "name": "stderr",
     "output_type": "stream",
     "text": [
      " 36%|███▌      | 100/281 [05:08<09:57,  3.30s/it]"
     ]
    },
    {
     "name": "stdout",
     "output_type": "stream",
     "text": [
      "Searching for: Final by Charly Garcia\n",
      "Searching for \"Final\" by Charly Garcia...\n",
      "Done.\n",
      "✓ Added lyrics for: Final\n"
     ]
    },
    {
     "name": "stderr",
     "output_type": "stream",
     "text": [
      " 36%|███▌      | 101/281 [05:11<09:53,  3.30s/it]"
     ]
    },
    {
     "name": "stdout",
     "output_type": "stream",
     "text": [
      "Searching for: Futuro Pobre by Charly Garcia\n",
      "Searching for \"Futuro Pobre\" by Charly Garcia...\n",
      "Done.\n",
      "✓ Added lyrics for: Futuro Pobre\n"
     ]
    },
    {
     "name": "stderr",
     "output_type": "stream",
     "text": [
      " 36%|███▋      | 102/281 [05:16<11:06,  3.73s/it]"
     ]
    },
    {
     "name": "stdout",
     "output_type": "stream",
     "text": [
      "Searching for: Gaby by Charly Garcia\n",
      "Searching for \"Gaby\" by Charly Garcia...\n",
      "Done.\n",
      "✓ Added lyrics for: Gaby\n"
     ]
    },
    {
     "name": "stderr",
     "output_type": "stream",
     "text": [
      " 37%|███▋      | 103/281 [05:19<10:25,  3.51s/it]"
     ]
    },
    {
     "name": "stdout",
     "output_type": "stream",
     "text": [
      "Searching for: Gato de Metal by Charly Garcia\n",
      "Searching for \"Gato de Metal\" by Charly Garcia...\n",
      "Done.\n",
      "✓ Added lyrics for: Gato de Metal\n"
     ]
    },
    {
     "name": "stderr",
     "output_type": "stream",
     "text": [
      " 37%|███▋      | 104/281 [05:23<10:22,  3.52s/it]"
     ]
    },
    {
     "name": "stdout",
     "output_type": "stream",
     "text": [
      "Searching for: Good Show by Charly Garcia\n",
      "Searching for \"Good Show\" by Charly Garcia...\n",
      "Done.\n",
      "✓ Added lyrics for: Good Show\n"
     ]
    },
    {
     "name": "stderr",
     "output_type": "stream",
     "text": [
      " 37%|███▋      | 105/281 [05:26<09:56,  3.39s/it]"
     ]
    },
    {
     "name": "stdout",
     "output_type": "stream",
     "text": [
      "Searching for: Hablando a tu corazón - en vivo by Charly Garcia\n",
      "Searching for \"Hablando a tu corazón - en vivo\" by Charly Garcia...\n",
      "Done.\n",
      "✓ Added lyrics for: Hablando a tu corazón - en vivo\n"
     ]
    },
    {
     "name": "stderr",
     "output_type": "stream",
     "text": [
      " 38%|███▊      | 106/281 [05:29<09:42,  3.33s/it]"
     ]
    },
    {
     "name": "stdout",
     "output_type": "stream",
     "text": [
      "Searching for: Happy and Real by Charly Garcia\n",
      "Searching for \"Happy and Real\" by Charly Garcia...\n",
      "Done.\n",
      "✓ Added lyrics for: Happy and Real\n"
     ]
    },
    {
     "name": "stderr",
     "output_type": "stream",
     "text": [
      " 38%|███▊      | 107/281 [05:32<09:47,  3.38s/it]"
     ]
    },
    {
     "name": "stdout",
     "output_type": "stream",
     "text": [
      "Searching for: Himno Nacional Argentino by Charly Garcia\n",
      "Searching for \"Himno Nacional Argentino\" by Charly Garcia...\n",
      "Done.\n",
      "✓ Added lyrics for: Himno Nacional Argentino\n"
     ]
    },
    {
     "name": "stderr",
     "output_type": "stream",
     "text": [
      " 38%|███▊      | 108/281 [05:36<09:59,  3.47s/it]"
     ]
    },
    {
     "name": "stdout",
     "output_type": "stream",
     "text": [
      "Searching for: Hombre de mala sangre by Charly Garcia\n",
      "Searching for \"Hombre de mala sangre\" by Charly Garcia...\n",
      "Done.\n",
      "✓ Added lyrics for: Hombre de mala sangre\n"
     ]
    },
    {
     "name": "stderr",
     "output_type": "stream",
     "text": [
      " 39%|███▉      | 109/281 [05:39<09:42,  3.39s/it]"
     ]
    },
    {
     "name": "stdout",
     "output_type": "stream",
     "text": [
      "Searching for: Iba acabándose el vino by Charly Garcia\n",
      "Searching for \"Iba acabándose el vino\" by Charly Garcia...\n",
      "Done.\n",
      "✓ Added lyrics for: Iba acabándose el vino\n"
     ]
    },
    {
     "name": "stderr",
     "output_type": "stream",
     "text": [
      " 39%|███▉      | 110/281 [05:42<09:12,  3.23s/it]"
     ]
    },
    {
     "name": "stdout",
     "output_type": "stream",
     "text": [
      "Searching for: I’m Not in Love by Charly Garcia\n",
      "Searching for \"I’m Not in Love\" by Charly Garcia...\n",
      "Done.\n",
      "✓ Added lyrics for: I’m Not in Love\n"
     ]
    },
    {
     "name": "stderr",
     "output_type": "stream",
     "text": [
      " 40%|███▉      | 111/281 [05:45<09:16,  3.27s/it]"
     ]
    },
    {
     "name": "stdout",
     "output_type": "stream",
     "text": [
      "Searching for: I’m Not in Love (2) by Charly Garcia\n",
      "Searching for \"I’m Not in Love (2)\" by Charly Garcia...\n",
      "Done.\n",
      "✓ Added lyrics for: I’m Not in Love (2)\n"
     ]
    },
    {
     "name": "stderr",
     "output_type": "stream",
     "text": [
      " 40%|███▉      | 112/281 [05:48<09:01,  3.21s/it]"
     ]
    },
    {
     "name": "stdout",
     "output_type": "stream",
     "text": [
      "Searching for: I’m Not In Love (Acustico) by Charly Garcia\n",
      "Searching for \"I’m Not In Love (Acustico)\" by Charly Garcia...\n",
      "Done.\n",
      "✓ Added lyrics for: I’m Not In Love (Acustico)\n"
     ]
    },
    {
     "name": "stderr",
     "output_type": "stream",
     "text": [
      " 40%|████      | 113/281 [05:52<09:02,  3.23s/it]"
     ]
    },
    {
     "name": "stdout",
     "output_type": "stream",
     "text": [
      "Searching for: I’m Not In Love (Remix) by Charly Garcia\n",
      "Searching for \"I’m Not In Love (Remix)\" by Charly Garcia...\n",
      "Done.\n",
      "✓ Added lyrics for: I’m Not In Love (Remix)\n"
     ]
    },
    {
     "name": "stderr",
     "output_type": "stream",
     "text": [
      " 41%|████      | 114/281 [05:55<08:54,  3.20s/it]"
     ]
    },
    {
     "name": "stdout",
     "output_type": "stream",
     "text": [
      "Searching for: Inconciente colectivo - en vivo by Charly Garcia\n",
      "Searching for \"Inconciente colectivo - en vivo\" by Charly Garcia...\n",
      "Done.\n",
      "✓ Added lyrics for: Inconciente colectivo - en vivo\n"
     ]
    },
    {
     "name": "stderr",
     "output_type": "stream",
     "text": [
      " 41%|████      | 115/281 [05:58<08:39,  3.13s/it]"
     ]
    },
    {
     "name": "stdout",
     "output_type": "stream",
     "text": [
      "Searching for: Inconsciente Colectivo by Charly Garcia\n",
      "Searching for \"Inconsciente Colectivo\" by Charly Garcia...\n",
      "Done.\n",
      "✓ Added lyrics for: Inconsciente Colectivo\n"
     ]
    },
    {
     "name": "stderr",
     "output_type": "stream",
     "text": [
      " 41%|████▏     | 116/281 [06:01<08:52,  3.23s/it]"
     ]
    },
    {
     "name": "stdout",
     "output_type": "stream",
     "text": [
      "Searching for: Influencia by Charly Garcia\n",
      "Searching for \"Influencia\" by Charly Garcia...\n",
      "Done.\n",
      "✓ Added lyrics for: Influencia\n"
     ]
    },
    {
     "name": "stderr",
     "output_type": "stream",
     "text": [
      " 42%|████▏     | 117/281 [06:05<09:04,  3.32s/it]"
     ]
    },
    {
     "name": "stdout",
     "output_type": "stream",
     "text": [
      "Searching for: Influencia - en vivo by Charly Garcia\n",
      "Searching for \"Influencia - en vivo\" by Charly Garcia...\n",
      "Done.\n",
      "✓ Added lyrics for: Influencia - en vivo\n"
     ]
    },
    {
     "name": "stderr",
     "output_type": "stream",
     "text": [
      " 42%|████▏     | 118/281 [06:08<09:01,  3.32s/it]"
     ]
    },
    {
     "name": "stdout",
     "output_type": "stream",
     "text": [
      "Searching for: Influenza by Charly Garcia\n",
      "Searching for \"Influenza\" by Charly Garcia...\n",
      "Done.\n",
      "✓ Added lyrics for: Influenza\n"
     ]
    },
    {
     "name": "stderr",
     "output_type": "stream",
     "text": [
      " 42%|████▏     | 119/281 [06:12<09:19,  3.45s/it]"
     ]
    },
    {
     "name": "stdout",
     "output_type": "stream",
     "text": [
      "Searching for: Instituciones (Quilmes Rock 2004) by Charly Garcia\n",
      "Searching for \"Instituciones (Quilmes Rock 2004)\" by Charly Garcia...\n",
      "Done.\n",
      "✓ Added lyrics for: Instituciones (Quilmes Rock 2004)\n"
     ]
    },
    {
     "name": "stderr",
     "output_type": "stream",
     "text": [
      " 43%|████▎     | 120/281 [06:15<08:50,  3.30s/it]"
     ]
    },
    {
     "name": "stdout",
     "output_type": "stream",
     "text": [
      "Searching for: Intermedio by Charly Garcia\n",
      "Searching for \"Intermedio\" by Charly Garcia...\n",
      "Specified song does not contain lyrics. Rejecting.\n",
      "✗ No lyrics found for: Intermedio\n"
     ]
    },
    {
     "name": "stderr",
     "output_type": "stream",
     "text": [
      " 43%|████▎     | 121/281 [06:17<07:46,  2.92s/it]"
     ]
    },
    {
     "name": "stdout",
     "output_type": "stream",
     "text": [
      "Searching for: In the City That Never Sleeps by Charly Garcia\n",
      "Searching for \"In the City That Never Sleeps\" by Charly Garcia...\n",
      "Done.\n",
      "✓ Added lyrics for: In the City That Never Sleeps\n"
     ]
    },
    {
     "name": "stderr",
     "output_type": "stream",
     "text": [
      " 43%|████▎     | 122/281 [06:20<07:58,  3.01s/it]"
     ]
    },
    {
     "name": "stdout",
     "output_type": "stream",
     "text": [
      "Searching for: Intraterreno by Charly Garcia\n",
      "Searching for \"Intraterreno\" by Charly Garcia...\n",
      "Specified song does not contain lyrics. Rejecting.\n",
      "✗ No lyrics found for: Intraterreno\n"
     ]
    },
    {
     "name": "stderr",
     "output_type": "stream",
     "text": [
      " 44%|████▍     | 123/281 [06:22<06:53,  2.62s/it]"
     ]
    },
    {
     "name": "stdout",
     "output_type": "stream",
     "text": [
      "Searching for: Intuición by Charly Garcia\n",
      "Searching for \"Intuición\" by Charly Garcia...\n",
      "Specified song does not contain lyrics. Rejecting.\n",
      "✗ No lyrics found for: Intuición\n"
     ]
    },
    {
     "name": "stderr",
     "output_type": "stream",
     "text": [
      " 44%|████▍     | 124/281 [06:24<06:18,  2.41s/it]"
     ]
    },
    {
     "name": "stdout",
     "output_type": "stream",
     "text": [
      "Searching for: It’s Only Love by Charly Garcia\n",
      "Searching for \"It’s Only Love\" by Charly Garcia...\n",
      "Done.\n",
      "✓ Added lyrics for: It’s Only Love\n"
     ]
    },
    {
     "name": "stderr",
     "output_type": "stream",
     "text": [
      " 44%|████▍     | 125/281 [06:27<06:46,  2.61s/it]"
     ]
    },
    {
     "name": "stdout",
     "output_type": "stream",
     "text": [
      "Searching for: Jaco y Chofi by Charly Garcia\n",
      "Searching for \"Jaco y Chofi\" by Charly Garcia...\n",
      "Specified song does not contain lyrics. Rejecting.\n",
      "✗ No lyrics found for: Jaco y Chofi\n"
     ]
    },
    {
     "name": "stderr",
     "output_type": "stream",
     "text": [
      " 45%|████▍     | 126/281 [06:29<06:13,  2.41s/it]"
     ]
    },
    {
     "name": "stdout",
     "output_type": "stream",
     "text": [
      "Searching for: James Brown by Charly Garcia\n",
      "Searching for \"James Brown\" by Charly Garcia...\n",
      "Done.\n",
      "✓ Added lyrics for: James Brown\n"
     ]
    },
    {
     "name": "stderr",
     "output_type": "stream",
     "text": [
      " 45%|████▌     | 127/281 [06:32<06:57,  2.71s/it]"
     ]
    },
    {
     "name": "stdout",
     "output_type": "stream",
     "text": [
      "Searching for: Juan Represión by Charly Garcia\n",
      "Searching for \"Juan Represión\" by Charly Garcia...\n",
      "Done.\n",
      "✓ Added lyrics for: Juan Represión\n"
     ]
    },
    {
     "name": "stderr",
     "output_type": "stream",
     "text": [
      " 46%|████▌     | 128/281 [06:36<07:26,  2.92s/it]"
     ]
    },
    {
     "name": "stdout",
     "output_type": "stream",
     "text": [
      "Searching for: Jugo De Tomate Frio by Charly Garcia\n",
      "Searching for \"Jugo De Tomate Frio\" by Charly Garcia...\n",
      "Done.\n",
      "✓ Added lyrics for: Jugo De Tomate Frio\n"
     ]
    },
    {
     "name": "stderr",
     "output_type": "stream",
     "text": [
      " 46%|████▌     | 129/281 [06:39<07:26,  2.94s/it]"
     ]
    },
    {
     "name": "stdout",
     "output_type": "stream",
     "text": [
      "Searching for: Kill My Mother by Charly Garcia\n",
      "Searching for \"Kill My Mother\" by Charly Garcia...\n",
      "Done.\n",
      "✓ Added lyrics for: Kill My Mother\n"
     ]
    },
    {
     "name": "stderr",
     "output_type": "stream",
     "text": [
      " 46%|████▋     | 130/281 [06:42<07:52,  3.13s/it]"
     ]
    },
    {
     "name": "stdout",
     "output_type": "stream",
     "text": [
      "Searching for: King Kong by Charly Garcia\n",
      "Searching for \"King Kong\" by Charly Garcia...\n",
      "Done.\n",
      "✓ Added lyrics for: King Kong\n"
     ]
    },
    {
     "name": "stderr",
     "output_type": "stream",
     "text": [
      " 47%|████▋     | 131/281 [06:45<07:59,  3.20s/it]"
     ]
    },
    {
     "name": "stdout",
     "output_type": "stream",
     "text": [
      "Searching for: Kurosawa by Charly Garcia\n",
      "Searching for \"Kurosawa\" by Charly Garcia...\n",
      "Done.\n",
      "✓ Added lyrics for: Kurosawa\n"
     ]
    },
    {
     "name": "stderr",
     "output_type": "stream",
     "text": [
      " 47%|████▋     | 132/281 [06:49<07:59,  3.22s/it]"
     ]
    },
    {
     "name": "stdout",
     "output_type": "stream",
     "text": [
      "Searching for: La Canción del Indeciso by Charly Garcia\n",
      "Searching for \"La Canción del Indeciso\" by Charly Garcia...\n",
      "Done.\n",
      "✓ Added lyrics for: La Canción del Indeciso\n"
     ]
    },
    {
     "name": "stderr",
     "output_type": "stream",
     "text": [
      " 47%|████▋     | 133/281 [06:52<08:04,  3.27s/it]"
     ]
    },
    {
     "name": "stdout",
     "output_type": "stream",
     "text": [
      "Searching for: La dulces promesas by Charly Garcia\n",
      "Searching for \"La dulces promesas\" by Charly Garcia...\n",
      "Done.\n",
      "✓ Added lyrics for: La dulces promesas\n"
     ]
    },
    {
     "name": "stderr",
     "output_type": "stream",
     "text": [
      " 48%|████▊     | 134/281 [06:55<08:00,  3.27s/it]"
     ]
    },
    {
     "name": "stdout",
     "output_type": "stream",
     "text": [
      "Searching for: La grasa de las capitales by Charly Garcia\n",
      "Searching for \"La grasa de las capitales\" by Charly Garcia...\n",
      "Done.\n",
      "✓ Added lyrics for: La grasa de las capitales\n"
     ]
    },
    {
     "name": "stderr",
     "output_type": "stream",
     "text": [
      " 48%|████▊     | 135/281 [06:59<07:57,  3.27s/it]"
     ]
    },
    {
     "name": "stdout",
     "output_type": "stream",
     "text": [
      "Searching for: La Lógica del Escorpión by Charly Garcia\n",
      "Searching for \"La Lógica del Escorpión\" by Charly Garcia...\n",
      "Done.\n",
      "✓ Added lyrics for: La Lógica del Escorpión\n"
     ]
    },
    {
     "name": "stderr",
     "output_type": "stream",
     "text": [
      " 48%|████▊     | 136/281 [07:02<08:03,  3.34s/it]"
     ]
    },
    {
     "name": "stdout",
     "output_type": "stream",
     "text": [
      "Searching for: La Máquina de Ser Feliz by Charly Garcia\n",
      "Searching for \"La Máquina de Ser Feliz\" by Charly Garcia...\n",
      "Done.\n",
      "✓ Added lyrics for: La Máquina de Ser Feliz\n"
     ]
    },
    {
     "name": "stderr",
     "output_type": "stream",
     "text": [
      " 49%|████▉     | 137/281 [07:06<08:09,  3.40s/it]"
     ]
    },
    {
     "name": "stdout",
     "output_type": "stream",
     "text": [
      "Searching for: La Medicina N° 9 by Charly Garcia\n",
      "Searching for \"La Medicina N° 9\" by Charly Garcia...\n",
      "Done.\n",
      "✓ Added lyrics for: La Medicina N° 9\n"
     ]
    },
    {
     "name": "stderr",
     "output_type": "stream",
     "text": [
      " 49%|████▉     | 138/281 [07:10<08:42,  3.65s/it]"
     ]
    },
    {
     "name": "stdout",
     "output_type": "stream",
     "text": [
      "Searching for: Lament by Charly Garcia\n",
      "Searching for \"Lament\" by Charly Garcia...\n",
      "Specified song does not contain lyrics. Rejecting.\n",
      "✗ No lyrics found for: Lament\n"
     ]
    },
    {
     "name": "stderr",
     "output_type": "stream",
     "text": [
      " 49%|████▉     | 139/281 [07:12<07:37,  3.22s/it]"
     ]
    },
    {
     "name": "stdout",
     "output_type": "stream",
     "text": [
      "Searching for: La Pelicana y El Androide by Charly Garcia\n",
      "Searching for \"La Pelicana y El Androide\" by Charly Garcia...\n",
      "Done.\n",
      "✓ Added lyrics for: La Pelicana y El Androide\n"
     ]
    },
    {
     "name": "stderr",
     "output_type": "stream",
     "text": [
      " 50%|████▉     | 140/281 [07:16<07:55,  3.37s/it]"
     ]
    },
    {
     "name": "stdout",
     "output_type": "stream",
     "text": [
      "Searching for: La Ruta del Tentempié by Charly Garcia\n",
      "Searching for \"La Ruta del Tentempié\" by Charly Garcia...\n",
      "Done.\n",
      "✓ Added lyrics for: La Ruta del Tentempié\n"
     ]
    },
    {
     "name": "stderr",
     "output_type": "stream",
     "text": [
      " 50%|█████     | 141/281 [07:19<07:52,  3.37s/it]"
     ]
    },
    {
     "name": "stdout",
     "output_type": "stream",
     "text": [
      "Searching for: La Sal No Sala by Charly Garcia\n",
      "Searching for \"La Sal No Sala\" by Charly Garcia...\n",
      "Done.\n",
      "✓ Added lyrics for: La Sal No Sala\n"
     ]
    },
    {
     "name": "stderr",
     "output_type": "stream",
     "text": [
      " 51%|█████     | 142/281 [07:23<07:55,  3.42s/it]"
     ]
    },
    {
     "name": "stdout",
     "output_type": "stream",
     "text": [
      "Searching for: La Sal No Sala - Live by Charly Garcia\n",
      "Searching for \"La Sal No Sala - Live\" by Charly Garcia...\n",
      "Done.\n",
      "✓ Added lyrics for: La Sal No Sala - Live\n"
     ]
    },
    {
     "name": "stderr",
     "output_type": "stream",
     "text": [
      " 51%|█████     | 143/281 [07:26<07:44,  3.37s/it]"
     ]
    },
    {
     "name": "stdout",
     "output_type": "stream",
     "text": [
      "Searching for: La sal no sala - live2 by Charly Garcia\n",
      "Searching for \"La sal no sala - live2\" by Charly Garcia...\n",
      "Done.\n",
      "✓ Added lyrics for: La sal no sala - live2\n"
     ]
    },
    {
     "name": "stderr",
     "output_type": "stream",
     "text": [
      " 51%|█████     | 144/281 [07:29<07:36,  3.33s/it]"
     ]
    },
    {
     "name": "stdout",
     "output_type": "stream",
     "text": [
      "Searching for: La Vanguardia Es Así by Charly Garcia\n",
      "Searching for \"La Vanguardia Es Así\" by Charly Garcia...\n",
      "Done.\n",
      "✓ Added lyrics for: La Vanguardia Es Así\n"
     ]
    },
    {
     "name": "stderr",
     "output_type": "stream",
     "text": [
      " 52%|█████▏    | 145/281 [07:33<07:33,  3.34s/it]"
     ]
    },
    {
     "name": "stdout",
     "output_type": "stream",
     "text": [
      "Searching for: Linda bailarina by Charly Garcia\n",
      "Searching for \"Linda bailarina\" by Charly Garcia...\n",
      "Done.\n",
      "✓ Added lyrics for: Linda bailarina\n"
     ]
    },
    {
     "name": "stderr",
     "output_type": "stream",
     "text": [
      " 52%|█████▏    | 146/281 [07:36<07:21,  3.27s/it]"
     ]
    },
    {
     "name": "stdout",
     "output_type": "stream",
     "text": [
      "Searching for: Llorando en el Espejo - En Vivo by Charly Garcia\n",
      "Searching for \"Llorando en el Espejo - En Vivo\" by Charly Garcia...\n",
      "Done.\n",
      "✓ Added lyrics for: Llorando en el Espejo - En Vivo\n"
     ]
    },
    {
     "name": "stderr",
     "output_type": "stream",
     "text": [
      " 52%|█████▏    | 147/281 [07:39<07:06,  3.18s/it]"
     ]
    },
    {
     "name": "stdout",
     "output_type": "stream",
     "text": [
      "Searching for: Lluvia by Charly Garcia\n",
      "Searching for \"Lluvia\" by Charly Garcia...\n",
      "Done.\n",
      "✓ Added lyrics for: Lluvia\n"
     ]
    },
    {
     "name": "stderr",
     "output_type": "stream",
     "text": [
      " 53%|█████▎    | 148/281 [07:42<06:59,  3.16s/it]"
     ]
    },
    {
     "name": "stdout",
     "output_type": "stream",
     "text": [
      "Searching for: Locomotion by Charly Garcia\n",
      "Searching for \"Locomotion\" by Charly Garcia...\n",
      "Done.\n",
      "✓ Added lyrics for: Locomotion\n"
     ]
    },
    {
     "name": "stderr",
     "output_type": "stream",
     "text": [
      " 53%|█████▎    | 149/281 [07:46<07:25,  3.37s/it]"
     ]
    },
    {
     "name": "stdout",
     "output_type": "stream",
     "text": [
      "Searching for: Lo Que Ves Es Lo Que Hay (Todo El Mundo Quiere Olvidar) by Charly Garcia\n",
      "Searching for \"Lo Que Ves Es Lo Que Hay (Todo El Mundo Quiere Olvidar)\" by Charly Garcia...\n",
      "Done.\n",
      "✓ Added lyrics for: Lo Que Ves Es Lo Que Hay (Todo El Mundo Quiere Olvidar)\n"
     ]
    },
    {
     "name": "stderr",
     "output_type": "stream",
     "text": [
      " 53%|█████▎    | 150/281 [07:49<07:08,  3.27s/it]"
     ]
    },
    {
     "name": "stdout",
     "output_type": "stream",
     "text": [
      "Searching for: Los Dinosaurios by Charly Garcia\n",
      "Searching for \"Los Dinosaurios\" by Charly Garcia...\n",
      "Done.\n",
      "✓ Added lyrics for: Los Dinosaurios\n"
     ]
    },
    {
     "name": "stderr",
     "output_type": "stream",
     "text": [
      " 54%|█████▎    | 151/281 [07:53<07:26,  3.43s/it]"
     ]
    },
    {
     "name": "stdout",
     "output_type": "stream",
     "text": [
      "Searching for: Los Dinosaurios / Canciones de Jirafas by Charly Garcia\n",
      "Searching for \"Los Dinosaurios / Canciones de Jirafas\" by Charly Garcia...\n",
      "Done.\n",
      "✓ Added lyrics for: Los Dinosaurios / Canciones de Jirafas\n"
     ]
    },
    {
     "name": "stderr",
     "output_type": "stream",
     "text": [
      " 54%|█████▍    | 152/281 [07:56<07:11,  3.34s/it]"
     ]
    },
    {
     "name": "stdout",
     "output_type": "stream",
     "text": [
      "Searching for: Los Dinosaurios - Live by Charly Garcia\n",
      "Searching for \"Los Dinosaurios - Live\" by Charly Garcia...\n",
      "Done.\n",
      "✓ Added lyrics for: Los Dinosaurios - Live\n"
     ]
    },
    {
     "name": "stderr",
     "output_type": "stream",
     "text": [
      " 54%|█████▍    | 153/281 [08:00<07:50,  3.68s/it]"
     ]
    },
    {
     "name": "stdout",
     "output_type": "stream",
     "text": [
      "Searching for: Los Dinosaurios - No Toquen - En Vivo by Charly Garcia\n",
      "Searching for \"Los Dinosaurios - No Toquen - En Vivo\" by Charly Garcia...\n",
      "Done.\n",
      "✓ Added lyrics for: Los Dinosaurios - No Toquen - En Vivo\n"
     ]
    },
    {
     "name": "stderr",
     "output_type": "stream",
     "text": [
      " 55%|█████▍    | 154/281 [08:03<07:20,  3.47s/it]"
     ]
    },
    {
     "name": "stdout",
     "output_type": "stream",
     "text": [
      "Searching for: Los Fantasmas by Charly Garcia\n",
      "Searching for \"Los Fantasmas\" by Charly Garcia...\n",
      "Done.\n",
      "✓ Added lyrics for: Los Fantasmas\n"
     ]
    },
    {
     "name": "stderr",
     "output_type": "stream",
     "text": [
      " 55%|█████▌    | 155/281 [08:06<07:05,  3.37s/it]"
     ]
    },
    {
     "name": "stdout",
     "output_type": "stream",
     "text": [
      "Searching for: Love is Love by Charly Garcia\n",
      "Searching for \"Love is Love\" by Charly Garcia...\n",
      "Done.\n",
      "✓ Added lyrics for: Love is Love\n"
     ]
    },
    {
     "name": "stderr",
     "output_type": "stream",
     "text": [
      " 56%|█████▌    | 156/281 [08:09<06:54,  3.32s/it]"
     ]
    },
    {
     "name": "stdout",
     "output_type": "stream",
     "text": [
      "Searching for: Me Siento Mucho Mejor by Charly Garcia\n",
      "Searching for \"Me Siento Mucho Mejor\" by Charly Garcia...\n",
      "Done.\n",
      "✓ Added lyrics for: Me Siento Mucho Mejor\n"
     ]
    },
    {
     "name": "stderr",
     "output_type": "stream",
     "text": [
      " 56%|█████▌    | 157/281 [08:13<07:05,  3.43s/it]"
     ]
    },
    {
     "name": "stdout",
     "output_type": "stream",
     "text": [
      "Searching for: Me siento mucho mejor (i feel much better) by Charly Garcia\n",
      "Searching for \"Me siento mucho mejor (i feel much better)\" by Charly Garcia...\n",
      "Done.\n",
      "✓ Added lyrics for: Me siento mucho mejor (i feel much better)\n"
     ]
    },
    {
     "name": "stderr",
     "output_type": "stream",
     "text": [
      " 56%|█████▌    | 158/281 [08:16<06:54,  3.37s/it]"
     ]
    },
    {
     "name": "stdout",
     "output_type": "stream",
     "text": [
      "Searching for: Mi Nena by Charly Garcia\n",
      "Searching for \"Mi Nena\" by Charly Garcia...\n",
      "Done.\n",
      "✓ Added lyrics for: Mi Nena\n"
     ]
    },
    {
     "name": "stderr",
     "output_type": "stream",
     "text": [
      " 57%|█████▋    | 159/281 [08:20<06:57,  3.42s/it]"
     ]
    },
    {
     "name": "stdout",
     "output_type": "stream",
     "text": [
      "Searching for: Mirando las Ruedas by Charly Garcia\n",
      "Searching for \"Mirando las Ruedas\" by Charly Garcia...\n",
      "Done.\n",
      "✓ Added lyrics for: Mirando las Ruedas\n"
     ]
    },
    {
     "name": "stderr",
     "output_type": "stream",
     "text": [
      " 57%|█████▋    | 160/281 [08:23<06:58,  3.46s/it]"
     ]
    },
    {
     "name": "stdout",
     "output_type": "stream",
     "text": [
      "Searching for: Monóculo Fantástico by Charly Garcia\n",
      "Searching for \"Monóculo Fantástico\" by Charly Garcia...\n",
      "Specified song does not contain lyrics. Rejecting.\n",
      "✗ No lyrics found for: Monóculo Fantástico\n"
     ]
    },
    {
     "name": "stderr",
     "output_type": "stream",
     "text": [
      " 57%|█████▋    | 161/281 [08:25<05:51,  2.93s/it]"
     ]
    },
    {
     "name": "stdout",
     "output_type": "stream",
     "text": [
      "Searching for: Mundo B by Charly Garcia\n",
      "Searching for \"Mundo B\" by Charly Garcia...\n",
      "Done.\n",
      "✓ Added lyrics for: Mundo B\n"
     ]
    },
    {
     "name": "stderr",
     "output_type": "stream",
     "text": [
      " 58%|█████▊    | 162/281 [08:28<05:53,  2.97s/it]"
     ]
    },
    {
     "name": "stdout",
     "output_type": "stream",
     "text": [
      "Searching for: Musica De Fondo Para Cualquier Fiesta Animada by Charly Garcia\n",
      "Searching for \"Musica De Fondo Para Cualquier Fiesta Animada\" by Charly Garcia...\n",
      "Done.\n",
      "✓ Added lyrics for: Musica De Fondo Para Cualquier Fiesta Animada\n"
     ]
    },
    {
     "name": "stderr",
     "output_type": "stream",
     "text": [
      " 58%|█████▊    | 163/281 [08:31<05:56,  3.02s/it]"
     ]
    },
    {
     "name": "stdout",
     "output_type": "stream",
     "text": [
      "Searching for: Música del alma by Charly Garcia\n",
      "Searching for \"Música del alma\" by Charly Garcia...\n",
      "Done.\n",
      "✓ Added lyrics for: Música del alma\n"
     ]
    },
    {
     "name": "stderr",
     "output_type": "stream",
     "text": [
      " 58%|█████▊    | 164/281 [08:35<06:09,  3.16s/it]"
     ]
    },
    {
     "name": "stdout",
     "output_type": "stream",
     "text": [
      "Searching for: Necesito Tu Amor by Charly Garcia\n",
      "Searching for \"Necesito Tu Amor\" by Charly Garcia...\n",
      "Done.\n",
      "✓ Added lyrics for: Necesito Tu Amor\n"
     ]
    },
    {
     "name": "stderr",
     "output_type": "stream",
     "text": [
      " 59%|█████▊    | 165/281 [08:38<06:12,  3.21s/it]"
     ]
    },
    {
     "name": "stdout",
     "output_type": "stream",
     "text": [
      "Searching for: Necesito tu amor - en vivo by Charly Garcia\n",
      "Searching for \"Necesito tu amor - en vivo\" by Charly Garcia...\n",
      "Done.\n",
      "✓ Added lyrics for: Necesito tu amor - en vivo\n"
     ]
    },
    {
     "name": "stderr",
     "output_type": "stream",
     "text": [
      " 59%|█████▉    | 166/281 [08:41<06:09,  3.21s/it]"
     ]
    },
    {
     "name": "stdout",
     "output_type": "stream",
     "text": [
      "Searching for: Necesito un Gol by Charly Garcia\n",
      "Searching for \"Necesito un Gol\" by Charly Garcia...\n",
      "Done.\n",
      "✓ Added lyrics for: Necesito un Gol\n"
     ]
    },
    {
     "name": "stderr",
     "output_type": "stream",
     "text": [
      " 59%|█████▉    | 167/281 [08:45<06:05,  3.21s/it]"
     ]
    },
    {
     "name": "stdout",
     "output_type": "stream",
     "text": [
      "Searching for: Necesito Un Trago by Charly Garcia\n",
      "Searching for \"Necesito Un Trago\" by Charly Garcia...\n",
      "Done.\n",
      "✓ Added lyrics for: Necesito Un Trago\n"
     ]
    },
    {
     "name": "stderr",
     "output_type": "stream",
     "text": [
      " 60%|█████▉    | 168/281 [08:48<06:11,  3.29s/it]"
     ]
    },
    {
     "name": "stdout",
     "output_type": "stream",
     "text": [
      "Searching for: No Bombardeen Buenos Aires by Charly Garcia\n",
      "Searching for \"No Bombardeen Buenos Aires\" by Charly Garcia...\n",
      "Done.\n",
      "✓ Added lyrics for: No Bombardeen Buenos Aires\n"
     ]
    },
    {
     "name": "stderr",
     "output_type": "stream",
     "text": [
      " 60%|██████    | 169/281 [08:52<06:18,  3.38s/it]"
     ]
    },
    {
     "name": "stdout",
     "output_type": "stream",
     "text": [
      "Searching for: No Estaría Mal (It Won’t Be Wrong) by Charly Garcia\n",
      "Searching for \"No Estaría Mal (It Won’t Be Wrong)\" by Charly Garcia...\n",
      "Done.\n",
      "✓ Added lyrics for: No Estaría Mal (It Won’t Be Wrong)\n"
     ]
    },
    {
     "name": "stderr",
     "output_type": "stream",
     "text": [
      " 60%|██████    | 170/281 [08:55<06:04,  3.28s/it]"
     ]
    },
    {
     "name": "stdout",
     "output_type": "stream",
     "text": [
      "Searching for: No importa by Charly Garcia\n",
      "Searching for \"No importa\" by Charly Garcia...\n",
      "Done.\n",
      "✓ Added lyrics for: No importa\n"
     ]
    },
    {
     "name": "stderr",
     "output_type": "stream",
     "text": [
      " 61%|██████    | 171/281 [08:58<05:57,  3.25s/it]"
     ]
    },
    {
     "name": "stdout",
     "output_type": "stream",
     "text": [
      "Searching for: No Llores Por Mi Argentina by Charly Garcia\n",
      "Searching for \"No Llores Por Mi Argentina\" by Charly Garcia...\n",
      "Done.\n",
      "✓ Added lyrics for: No Llores Por Mi Argentina\n"
     ]
    },
    {
     "name": "stderr",
     "output_type": "stream",
     "text": [
      " 61%|██████    | 172/281 [09:01<05:53,  3.25s/it]"
     ]
    },
    {
     "name": "stdout",
     "output_type": "stream",
     "text": [
      "Searching for: No llores por mi, argentina - en vivo by Charly Garcia\n",
      "Searching for \"No llores por mi, argentina - en vivo\" by Charly Garcia...\n",
      "Done.\n",
      "✓ Added lyrics for: No llores por mi, argentina - en vivo\n"
     ]
    },
    {
     "name": "stderr",
     "output_type": "stream",
     "text": [
      " 62%|██████▏   | 173/281 [09:04<05:42,  3.17s/it]"
     ]
    },
    {
     "name": "stdout",
     "output_type": "stream",
     "text": [
      "Searching for: No Me Dejan Salir by Charly Garcia\n",
      "Searching for \"No Me Dejan Salir\" by Charly Garcia...\n",
      "Done.\n",
      "✓ Added lyrics for: No Me Dejan Salir\n"
     ]
    },
    {
     "name": "stderr",
     "output_type": "stream",
     "text": [
      " 62%|██████▏   | 174/281 [09:08<05:56,  3.33s/it]"
     ]
    },
    {
     "name": "stdout",
     "output_type": "stream",
     "text": [
      "Searching for: No me dejan salir - en vivo by Charly Garcia\n",
      "Searching for \"No me dejan salir - en vivo\" by Charly Garcia...\n",
      "Done.\n",
      "✓ Added lyrics for: No me dejan salir - en vivo\n"
     ]
    },
    {
     "name": "stderr",
     "output_type": "stream",
     "text": [
      " 62%|██████▏   | 175/281 [09:11<05:51,  3.31s/it]"
     ]
    },
    {
     "name": "stdout",
     "output_type": "stream",
     "text": [
      "Searching for: No Me Verás en el Subte by Charly Garcia\n",
      "Searching for \"No Me Verás en el Subte\" by Charly Garcia...\n",
      "Done.\n",
      "✓ Added lyrics for: No Me Verás en el Subte\n"
     ]
    },
    {
     "name": "stderr",
     "output_type": "stream",
     "text": [
      " 63%|██████▎   | 176/281 [09:15<05:52,  3.36s/it]"
     ]
    },
    {
     "name": "stdout",
     "output_type": "stream",
     "text": [
      "Searching for: No Se Va A Llamar Mi Amor by Charly Garcia\n",
      "Searching for \"No Se Va A Llamar Mi Amor\" by Charly Garcia...\n",
      "Done.\n",
      "✓ Added lyrics for: No Se Va A Llamar Mi Amor\n"
     ]
    },
    {
     "name": "stderr",
     "output_type": "stream",
     "text": [
      " 63%|██████▎   | 177/281 [09:18<05:59,  3.46s/it]"
     ]
    },
    {
     "name": "stdout",
     "output_type": "stream",
     "text": [
      "Searching for: No Soy un Extraño by Charly Garcia\n",
      "Searching for \"No Soy un Extraño\" by Charly Garcia...\n",
      "Done.\n",
      "✓ Added lyrics for: No Soy un Extraño\n"
     ]
    },
    {
     "name": "stderr",
     "output_type": "stream",
     "text": [
      " 63%|██████▎   | 178/281 [09:22<05:59,  3.49s/it]"
     ]
    },
    {
     "name": "stdout",
     "output_type": "stream",
     "text": [
      "Searching for: No Soy un Extraño - Live by Charly Garcia\n",
      "Searching for \"No Soy un Extraño - Live\" by Charly Garcia...\n",
      "Done.\n",
      "✓ Added lyrics for: No Soy un Extraño - Live\n"
     ]
    },
    {
     "name": "stderr",
     "output_type": "stream",
     "text": [
      " 64%|██████▎   | 179/281 [09:25<05:44,  3.38s/it]"
     ]
    },
    {
     "name": "stdout",
     "output_type": "stream",
     "text": [
      "Searching for: Nos Siguen Pegando Abajo by Charly Garcia\n",
      "Searching for \"Nos Siguen Pegando Abajo\" by Charly Garcia...\n",
      "Done.\n",
      "✓ Added lyrics for: Nos Siguen Pegando Abajo\n"
     ]
    },
    {
     "name": "stderr",
     "output_type": "stream",
     "text": [
      " 64%|██████▍   | 180/281 [09:29<05:51,  3.48s/it]"
     ]
    },
    {
     "name": "stdout",
     "output_type": "stream",
     "text": [
      "Searching for: Nos Siguen Pegando Abajo (Pecado Mortal) - Live by Charly Garcia\n",
      "Searching for \"Nos Siguen Pegando Abajo (Pecado Mortal) - Live\" by Charly Garcia...\n",
      "Done.\n",
      "✓ Added lyrics for: Nos Siguen Pegando Abajo (Pecado Mortal) - Live\n"
     ]
    },
    {
     "name": "stderr",
     "output_type": "stream",
     "text": [
      " 64%|██████▍   | 181/281 [09:32<05:48,  3.48s/it]"
     ]
    },
    {
     "name": "stdout",
     "output_type": "stream",
     "text": [
      "Searching for: Nos siguen pegando abajo (pecado mortal) - live2 by Charly Garcia\n",
      "Searching for \"Nos siguen pegando abajo (pecado mortal) - live2\" by Charly Garcia...\n",
      "Done.\n",
      "✓ Added lyrics for: Nos siguen pegando abajo (pecado mortal) - live2\n"
     ]
    },
    {
     "name": "stderr",
     "output_type": "stream",
     "text": [
      " 65%|██████▍   | 182/281 [09:35<05:31,  3.34s/it]"
     ]
    },
    {
     "name": "stdout",
     "output_type": "stream",
     "text": [
      "Searching for: No Sugar by Charly Garcia\n",
      "Searching for \"No Sugar\" by Charly Garcia...\n",
      "Done.\n",
      "✓ Added lyrics for: No Sugar\n"
     ]
    },
    {
     "name": "stderr",
     "output_type": "stream",
     "text": [
      " 65%|██████▌   | 183/281 [09:38<05:25,  3.32s/it]"
     ]
    },
    {
     "name": "stdout",
     "output_type": "stream",
     "text": [
      "Searching for: No Te Animás A Despegar by Charly Garcia\n",
      "Searching for \"No Te Animás A Despegar\" by Charly Garcia...\n",
      "Done.\n",
      "✓ Added lyrics for: No Te Animás A Despegar\n"
     ]
    },
    {
     "name": "stderr",
     "output_type": "stream",
     "text": [
      " 65%|██████▌   | 184/281 [09:42<05:32,  3.43s/it]"
     ]
    },
    {
     "name": "stdout",
     "output_type": "stream",
     "text": [
      "Searching for: No Te Mueras en Mi Casa by Charly Garcia\n",
      "Searching for \"No Te Mueras en Mi Casa\" by Charly Garcia...\n",
      "Done.\n",
      "✓ Added lyrics for: No Te Mueras en Mi Casa\n"
     ]
    },
    {
     "name": "stderr",
     "output_type": "stream",
     "text": [
      " 66%|██████▌   | 185/281 [09:46<05:32,  3.46s/it]"
     ]
    },
    {
     "name": "stdout",
     "output_type": "stream",
     "text": [
      "Searching for: No Toquen by Charly Garcia\n",
      "Searching for \"No Toquen\" by Charly Garcia...\n",
      "Done.\n",
      "✓ Added lyrics for: No Toquen\n"
     ]
    },
    {
     "name": "stderr",
     "output_type": "stream",
     "text": [
      " 66%|██████▌   | 186/281 [09:50<06:02,  3.82s/it]"
     ]
    },
    {
     "name": "stdout",
     "output_type": "stream",
     "text": [
      "Searching for: No Voy en Tren by Charly Garcia\n",
      "Searching for \"No Voy en Tren\" by Charly Garcia...\n",
      "Done.\n",
      "✓ Added lyrics for: No Voy en Tren\n"
     ]
    },
    {
     "name": "stderr",
     "output_type": "stream",
     "text": [
      " 67%|██████▋   | 187/281 [09:54<05:50,  3.73s/it]"
     ]
    },
    {
     "name": "stdout",
     "output_type": "stream",
     "text": [
      "Searching for: Nuevos Trapos by Charly Garcia\n",
      "Searching for \"Nuevos Trapos\" by Charly Garcia...\n",
      "Done.\n",
      "✓ Added lyrics for: Nuevos Trapos\n"
     ]
    },
    {
     "name": "stderr",
     "output_type": "stream",
     "text": [
      " 67%|██████▋   | 188/281 [09:57<05:35,  3.60s/it]"
     ]
    },
    {
     "name": "stdout",
     "output_type": "stream",
     "text": [
      "Searching for: Ojos de Video Tape by Charly Garcia\n",
      "Searching for \"Ojos de Video Tape\" by Charly Garcia...\n",
      "Done.\n",
      "✓ Added lyrics for: Ojos de Video Tape\n"
     ]
    },
    {
     "name": "stderr",
     "output_type": "stream",
     "text": [
      " 67%|██████▋   | 189/281 [10:01<05:37,  3.67s/it]"
     ]
    },
    {
     "name": "stdout",
     "output_type": "stream",
     "text": [
      "Searching for: Ojos de Video Tape - Live by Charly Garcia\n",
      "Searching for \"Ojos de Video Tape - Live\" by Charly Garcia...\n",
      "Done.\n",
      "✓ Added lyrics for: Ojos de Video Tape - Live\n"
     ]
    },
    {
     "name": "stderr",
     "output_type": "stream",
     "text": [
      " 68%|██████▊   | 190/281 [10:04<05:16,  3.48s/it]"
     ]
    },
    {
     "name": "stdout",
     "output_type": "stream",
     "text": [
      "Searching for: Ojos de video tape - live2 by Charly Garcia\n",
      "Searching for \"Ojos de video tape - live2\" by Charly Garcia...\n",
      "Done.\n",
      "✓ Added lyrics for: Ojos de video tape - live2\n"
     ]
    },
    {
     "name": "stderr",
     "output_type": "stream",
     "text": [
      " 68%|██████▊   | 191/281 [10:08<05:14,  3.49s/it]"
     ]
    },
    {
     "name": "stdout",
     "output_type": "stream",
     "text": [
      "Searching for: Operación Densa by Charly Garcia\n",
      "Searching for \"Operación Densa\" by Charly Garcia...\n",
      "Specified song does not contain lyrics. Rejecting.\n",
      "✗ No lyrics found for: Operación Densa\n"
     ]
    },
    {
     "name": "stderr",
     "output_type": "stream",
     "text": [
      " 68%|██████▊   | 192/281 [10:10<04:33,  3.07s/it]"
     ]
    },
    {
     "name": "stdout",
     "output_type": "stream",
     "text": [
      "Searching for: Otro by Charly Garcia\n",
      "Searching for \"Otro\" by Charly Garcia...\n",
      "Done.\n",
      "✓ Added lyrics for: Otro\n"
     ]
    },
    {
     "name": "stderr",
     "output_type": "stream",
     "text": [
      " 69%|██████▊   | 193/281 [10:14<04:56,  3.37s/it]"
     ]
    },
    {
     "name": "stdout",
     "output_type": "stream",
     "text": [
      "Searching for: Overture by Charly Garcia\n",
      "Searching for \"Overture\" by Charly Garcia...\n",
      "Done.\n",
      "✓ Added lyrics for: Overture\n"
     ]
    },
    {
     "name": "stderr",
     "output_type": "stream",
     "text": [
      " 69%|██████▉   | 194/281 [10:17<04:57,  3.42s/it]"
     ]
    },
    {
     "name": "stdout",
     "output_type": "stream",
     "text": [
      "Searching for: Parte de la Religión by Charly Garcia\n",
      "Searching for \"Parte de la Religión\" by Charly Garcia...\n",
      "Done.\n",
      "✓ Added lyrics for: Parte de la Religión\n"
     ]
    },
    {
     "name": "stderr",
     "output_type": "stream",
     "text": [
      " 69%|██████▉   | 195/281 [10:21<05:09,  3.60s/it]"
     ]
    },
    {
     "name": "stdout",
     "output_type": "stream",
     "text": [
      "Searching for: Pasajera en Trance - Live by Charly Garcia\n",
      "Searching for \"Pasajera en Trance - Live\" by Charly Garcia...\n",
      "Done.\n",
      "✓ Added lyrics for: Pasajera en Trance - Live\n"
     ]
    },
    {
     "name": "stderr",
     "output_type": "stream",
     "text": [
      " 70%|██████▉   | 196/281 [10:25<05:09,  3.64s/it]"
     ]
    },
    {
     "name": "stdout",
     "output_type": "stream",
     "text": [
      "Searching for: Pasajera en trance - live2 by Charly Garcia\n",
      "Searching for \"Pasajera en trance - live2\" by Charly Garcia...\n",
      "Done.\n",
      "✓ Added lyrics for: Pasajera en trance - live2\n"
     ]
    },
    {
     "name": "stderr",
     "output_type": "stream",
     "text": [
      " 70%|███████   | 197/281 [10:28<04:50,  3.46s/it]"
     ]
    },
    {
     "name": "stdout",
     "output_type": "stream",
     "text": [
      "Searching for: Pastillas by Charly Garcia\n",
      "Searching for \"Pastillas\" by Charly Garcia...\n",
      "Done.\n",
      "✓ Added lyrics for: Pastillas\n"
     ]
    },
    {
     "name": "stderr",
     "output_type": "stream",
     "text": [
      " 70%|███████   | 198/281 [10:31<04:39,  3.37s/it]"
     ]
    },
    {
     "name": "stdout",
     "output_type": "stream",
     "text": [
      "Searching for: Pedro Trabaja en el Cine by Charly Garcia\n",
      "Searching for \"Pedro Trabaja en el Cine\" by Charly Garcia...\n",
      "Done.\n",
      "✓ Added lyrics for: Pedro Trabaja en el Cine\n"
     ]
    },
    {
     "name": "stderr",
     "output_type": "stream",
     "text": [
      " 71%|███████   | 199/281 [10:34<04:31,  3.31s/it]"
     ]
    },
    {
     "name": "stdout",
     "output_type": "stream",
     "text": [
      "Searching for: Pelicula Sordomuda by Charly Garcia\n",
      "Searching for \"Pelicula Sordomuda\" by Charly Garcia...\n",
      "Specified song does not contain lyrics. Rejecting.\n",
      "✗ No lyrics found for: Pelicula Sordomuda\n"
     ]
    },
    {
     "name": "stderr",
     "output_type": "stream",
     "text": [
      " 71%|███████   | 200/281 [10:36<03:56,  2.92s/it]"
     ]
    },
    {
     "name": "stdout",
     "output_type": "stream",
     "text": [
      "Searching for: Peluca Telefónica by Charly Garcia\n",
      "Searching for \"Peluca Telefónica\" by Charly Garcia...\n",
      "Done.\n",
      "✓ Added lyrics for: Peluca Telefónica\n"
     ]
    },
    {
     "name": "stderr",
     "output_type": "stream",
     "text": [
      " 72%|███████▏  | 201/281 [10:40<04:18,  3.23s/it]"
     ]
    },
    {
     "name": "stdout",
     "output_type": "stream",
     "text": [
      "Searching for: Perro andaluz by Charly Garcia\n",
      "Searching for \"Perro andaluz\" by Charly Garcia...\n",
      "Done.\n",
      "✓ Added lyrics for: Perro andaluz\n"
     ]
    },
    {
     "name": "stderr",
     "output_type": "stream",
     "text": [
      " 72%|███████▏  | 202/281 [10:44<04:16,  3.25s/it]"
     ]
    },
    {
     "name": "stdout",
     "output_type": "stream",
     "text": [
      "Searching for: Perro andaluz - en vivo by Charly Garcia\n",
      "Searching for \"Perro andaluz - en vivo\" by Charly Garcia...\n",
      "Done.\n",
      "✓ Added lyrics for: Perro andaluz - en vivo\n"
     ]
    },
    {
     "name": "stderr",
     "output_type": "stream",
     "text": [
      " 72%|███████▏  | 203/281 [10:47<04:08,  3.19s/it]"
     ]
    },
    {
     "name": "stdout",
     "output_type": "stream",
     "text": [
      "Searching for: Piano Bar by Charly Garcia\n",
      "Searching for \"Piano Bar\" by Charly Garcia...\n",
      "Done.\n",
      "✓ Added lyrics for: Piano Bar\n"
     ]
    },
    {
     "name": "stderr",
     "output_type": "stream",
     "text": [
      " 73%|███████▎  | 204/281 [10:50<04:17,  3.34s/it]"
     ]
    },
    {
     "name": "stdout",
     "output_type": "stream",
     "text": [
      "Searching for: Plan 9 by Charly Garcia\n",
      "Searching for \"Plan 9\" by Charly Garcia...\n",
      "Specified song does not contain lyrics. Rejecting.\n",
      "✗ No lyrics found for: Plan 9\n"
     ]
    },
    {
     "name": "stderr",
     "output_type": "stream",
     "text": [
      " 73%|███████▎  | 205/281 [10:52<03:40,  2.90s/it]"
     ]
    },
    {
     "name": "stdout",
     "output_type": "stream",
     "text": [
      "Searching for: Plateado Sobre Plateado - En Vivo by Charly Garcia\n",
      "Searching for \"Plateado Sobre Plateado - En Vivo\" by Charly Garcia...\n",
      "Done.\n",
      "✓ Added lyrics for: Plateado Sobre Plateado - En Vivo\n"
     ]
    },
    {
     "name": "stderr",
     "output_type": "stream",
     "text": [
      " 73%|███████▎  | 206/281 [10:55<03:41,  2.95s/it]"
     ]
    },
    {
     "name": "stdout",
     "output_type": "stream",
     "text": [
      "Searching for: Plateado Sobre Plateado (Huellas en el Mar) by Charly Garcia\n",
      "Searching for \"Plateado Sobre Plateado (Huellas en el Mar)\" by Charly Garcia...\n",
      "Done.\n",
      "✓ Added lyrics for: Plateado Sobre Plateado (Huellas en el Mar)\n"
     ]
    },
    {
     "name": "stderr",
     "output_type": "stream",
     "text": [
      " 74%|███████▎  | 207/281 [10:59<04:03,  3.29s/it]"
     ]
    },
    {
     "name": "stdout",
     "output_type": "stream",
     "text": [
      "Searching for: Play With Fire by Charly Garcia\n",
      "Searching for \"Play With Fire\" by Charly Garcia...\n",
      "Done.\n",
      "✓ Added lyrics for: Play With Fire\n"
     ]
    },
    {
     "name": "stderr",
     "output_type": "stream",
     "text": [
      " 74%|███████▍  | 208/281 [11:03<03:59,  3.28s/it]"
     ]
    },
    {
     "name": "stdout",
     "output_type": "stream",
     "text": [
      "Searching for: Podrias Entender by Charly Garcia\n",
      "Searching for \"Podrias Entender\" by Charly Garcia...\n",
      "Done.\n",
      "✓ Added lyrics for: Podrias Entender\n"
     ]
    },
    {
     "name": "stderr",
     "output_type": "stream",
     "text": [
      " 74%|███████▍  | 209/281 [11:06<04:00,  3.34s/it]"
     ]
    },
    {
     "name": "stdout",
     "output_type": "stream",
     "text": [
      "Searching for: Popotitos - En Vivo by Charly Garcia\n",
      "Searching for \"Popotitos - En Vivo\" by Charly Garcia...\n",
      "Done.\n",
      "✓ Added lyrics for: Popotitos - En Vivo\n"
     ]
    },
    {
     "name": "stderr",
     "output_type": "stream",
     "text": [
      " 75%|███████▍  | 210/281 [11:09<03:48,  3.22s/it]"
     ]
    },
    {
     "name": "stdout",
     "output_type": "stream",
     "text": [
      "Searching for: Poseidón / Con Su Blanca Palidez by Charly Garcia\n",
      "Searching for \"Poseidón / Con Su Blanca Palidez\" by Charly Garcia...\n",
      "Done.\n",
      "✓ Added lyrics for: Poseidón / Con Su Blanca Palidez\n"
     ]
    },
    {
     "name": "stderr",
     "output_type": "stream",
     "text": [
      " 75%|███████▌  | 211/281 [11:12<03:49,  3.27s/it]"
     ]
    },
    {
     "name": "stdout",
     "output_type": "stream",
     "text": [
      "Searching for: Primavera by Charly Garcia\n",
      "Searching for \"Primavera\" by Charly Garcia...\n",
      "Done.\n",
      "✓ Added lyrics for: Primavera\n"
     ]
    },
    {
     "name": "stderr",
     "output_type": "stream",
     "text": [
      " 75%|███████▌  | 212/281 [11:16<03:42,  3.22s/it]"
     ]
    },
    {
     "name": "stdout",
     "output_type": "stream",
     "text": [
      "Searching for: Promesas Sobre El Bidet by Charly Garcia\n",
      "Searching for \"Promesas Sobre El Bidet\" by Charly Garcia...\n",
      "Done.\n",
      "✓ Added lyrics for: Promesas Sobre El Bidet\n"
     ]
    },
    {
     "name": "stderr",
     "output_type": "stream",
     "text": [
      " 76%|███████▌  | 213/281 [11:19<03:40,  3.25s/it]"
     ]
    },
    {
     "name": "stdout",
     "output_type": "stream",
     "text": [
      "Searching for: Promesas Sobre el Bidet - Live by Charly Garcia\n",
      "Searching for \"Promesas Sobre el Bidet - Live\" by Charly Garcia...\n",
      "Done.\n",
      "✓ Added lyrics for: Promesas Sobre el Bidet - Live\n"
     ]
    },
    {
     "name": "stderr",
     "output_type": "stream",
     "text": [
      " 76%|███████▌  | 214/281 [11:22<03:37,  3.24s/it]"
     ]
    },
    {
     "name": "stdout",
     "output_type": "stream",
     "text": [
      "Searching for: Promesas sobre el bidet - live2 by Charly Garcia\n",
      "Searching for \"Promesas sobre el bidet - live2\" by Charly Garcia...\n",
      "Done.\n",
      "✓ Added lyrics for: Promesas sobre el bidet - live2\n"
     ]
    },
    {
     "name": "stderr",
     "output_type": "stream",
     "text": [
      " 77%|███████▋  | 215/281 [11:25<03:34,  3.25s/it]"
     ]
    },
    {
     "name": "stdout",
     "output_type": "stream",
     "text": [
      "Searching for: Pubis Angelical by Charly Garcia\n",
      "Searching for \"Pubis Angelical\" by Charly Garcia...\n",
      "Specified song does not contain lyrics. Rejecting.\n",
      "✗ No lyrics found for: Pubis Angelical\n"
     ]
    },
    {
     "name": "stderr",
     "output_type": "stream",
     "text": [
      " 77%|███████▋  | 216/281 [11:27<03:06,  2.88s/it]"
     ]
    },
    {
     "name": "stdout",
     "output_type": "stream",
     "text": [
      "Searching for: Pubis Angelical (Vocal) by Charly Garcia\n",
      "Searching for \"Pubis Angelical (Vocal)\" by Charly Garcia...\n",
      "Specified song does not contain lyrics. Rejecting.\n",
      "✗ No lyrics found for: Pubis Angelical (Vocal)\n"
     ]
    },
    {
     "name": "stderr",
     "output_type": "stream",
     "text": [
      " 77%|███████▋  | 217/281 [11:29<02:44,  2.57s/it]"
     ]
    },
    {
     "name": "stdout",
     "output_type": "stream",
     "text": [
      "Searching for: Pubis Angelical (Vocal 2) by Charly Garcia\n",
      "Searching for \"Pubis Angelical (Vocal 2)\" by Charly Garcia...\n",
      "Specified song does not contain lyrics. Rejecting.\n",
      "✗ No lyrics found for: Pubis Angelical (Vocal 2)\n"
     ]
    },
    {
     "name": "stderr",
     "output_type": "stream",
     "text": [
      " 78%|███████▊  | 218/281 [11:31<02:31,  2.41s/it]"
     ]
    },
    {
     "name": "stdout",
     "output_type": "stream",
     "text": [
      "Searching for: Rap de las Hormigas by Charly Garcia\n",
      "Searching for \"Rap de las Hormigas\" by Charly Garcia...\n",
      "Done.\n",
      "✓ Added lyrics for: Rap de las Hormigas\n"
     ]
    },
    {
     "name": "stderr",
     "output_type": "stream",
     "text": [
      " 78%|███████▊  | 219/281 [11:36<03:07,  3.02s/it]"
     ]
    },
    {
     "name": "stdout",
     "output_type": "stream",
     "text": [
      "Searching for: Rap Del Exilio by Charly Garcia\n",
      "Searching for \"Rap Del Exilio\" by Charly Garcia...\n",
      "Done.\n",
      "✓ Added lyrics for: Rap Del Exilio\n"
     ]
    },
    {
     "name": "stderr",
     "output_type": "stream",
     "text": [
      " 78%|███████▊  | 220/281 [11:39<03:13,  3.18s/it]"
     ]
    },
    {
     "name": "stdout",
     "output_type": "stream",
     "text": [
      "Searching for: Raros Peinados Nuevos by Charly Garcia\n",
      "Searching for \"Raros Peinados Nuevos\" by Charly Garcia...\n",
      "Done.\n",
      "✓ Added lyrics for: Raros Peinados Nuevos\n"
     ]
    },
    {
     "name": "stderr",
     "output_type": "stream",
     "text": [
      " 79%|███████▊  | 221/281 [11:43<03:17,  3.29s/it]"
     ]
    },
    {
     "name": "stdout",
     "output_type": "stream",
     "text": [
      "Searching for: Rehén by Charly Garcia\n",
      "Searching for \"Rehén\" by Charly Garcia...\n",
      "Done.\n",
      "✓ Added lyrics for: Rehén\n"
     ]
    },
    {
     "name": "stderr",
     "output_type": "stream",
     "text": [
      " 79%|███████▉  | 222/281 [11:46<03:17,  3.36s/it]"
     ]
    },
    {
     "name": "stdout",
     "output_type": "stream",
     "text": [
      "Searching for: Rejas Electrificadas by Charly Garcia\n",
      "Searching for \"Rejas Electrificadas\" by Charly Garcia...\n",
      "Specified song does not contain lyrics. Rejecting.\n",
      "✗ No lyrics found for: Rejas Electrificadas\n"
     ]
    },
    {
     "name": "stderr",
     "output_type": "stream",
     "text": [
      " 79%|███████▉  | 223/281 [11:48<02:51,  2.96s/it]"
     ]
    },
    {
     "name": "stdout",
     "output_type": "stream",
     "text": [
      "Searching for: Reloj de Plastilina by Charly Garcia\n",
      "Searching for \"Reloj de Plastilina\" by Charly Garcia...\n",
      "Done.\n",
      "✓ Added lyrics for: Reloj de Plastilina\n"
     ]
    },
    {
     "name": "stderr",
     "output_type": "stream",
     "text": [
      " 80%|███████▉  | 224/281 [11:52<02:53,  3.05s/it]"
     ]
    },
    {
     "name": "stdout",
     "output_type": "stream",
     "text": [
      "Searching for: Rezo Por Vos by Charly Garcia\n",
      "Searching for \"Rezo Por Vos\" by Charly Garcia...\n",
      "Done.\n",
      "✓ Added lyrics for: Rezo Por Vos\n"
     ]
    },
    {
     "name": "stderr",
     "output_type": "stream",
     "text": [
      " 80%|████████  | 225/281 [11:55<03:01,  3.25s/it]"
     ]
    },
    {
     "name": "stdout",
     "output_type": "stream",
     "text": [
      "Searching for: Rezo por vos (Concierto Subacuatico 2009) by Charly Garcia\n",
      "Searching for \"Rezo por vos (Concierto Subacuatico 2009)\" by Charly Garcia...\n",
      "Done.\n",
      "✓ Added lyrics for: Rezo por vos (Concierto Subacuatico 2009)\n"
     ]
    },
    {
     "name": "stderr",
     "output_type": "stream",
     "text": [
      " 80%|████████  | 226/281 [11:58<02:51,  3.13s/it]"
     ]
    },
    {
     "name": "stdout",
     "output_type": "stream",
     "text": [
      "Searching for: Rezo por vos (Festival Internacional de la Cancion 1995) by Charly Garcia\n",
      "Searching for \"Rezo por vos (Festival Internacional de la Cancion 1995)\" by Charly Garcia...\n",
      "Done.\n",
      "✓ Added lyrics for: Rezo por vos (Festival Internacional de la Cancion 1995)\n"
     ]
    },
    {
     "name": "stderr",
     "output_type": "stream",
     "text": [
      " 81%|████████  | 227/281 [12:01<02:49,  3.14s/it]"
     ]
    },
    {
     "name": "stdout",
     "output_type": "stream",
     "text": [
      "Searching for: Rezo por Vos - Live by Charly Garcia\n",
      "Searching for \"Rezo por Vos - Live\" by Charly Garcia...\n",
      "Done.\n",
      "✓ Added lyrics for: Rezo por Vos - Live\n"
     ]
    },
    {
     "name": "stderr",
     "output_type": "stream",
     "text": [
      " 81%|████████  | 228/281 [12:04<02:46,  3.15s/it]"
     ]
    },
    {
     "name": "stdout",
     "output_type": "stream",
     "text": [
      "Searching for: Rezo por vos - live2 by Charly Garcia\n",
      "Searching for \"Rezo por vos - live2\" by Charly Garcia...\n",
      "Done.\n",
      "✓ Added lyrics for: Rezo por vos - live2\n"
     ]
    },
    {
     "name": "stderr",
     "output_type": "stream",
     "text": [
      " 81%|████████▏ | 229/281 [12:08<02:46,  3.21s/it]"
     ]
    },
    {
     "name": "stdout",
     "output_type": "stream",
     "text": [
      "Searching for: Rivalidad by Charly Garcia\n",
      "Searching for \"Rivalidad\" by Charly Garcia...\n",
      "Done.\n",
      "✓ Added lyrics for: Rivalidad\n"
     ]
    },
    {
     "name": "stderr",
     "output_type": "stream",
     "text": [
      " 82%|████████▏ | 230/281 [12:11<02:41,  3.16s/it]"
     ]
    },
    {
     "name": "stdout",
     "output_type": "stream",
     "text": [
      "Searching for: Rock and Roll Star by Charly Garcia\n",
      "Searching for \"Rock and Roll Star\" by Charly Garcia...\n",
      "Done.\n",
      "✓ Added lyrics for: Rock and Roll Star\n"
     ]
    },
    {
     "name": "stderr",
     "output_type": "stream",
     "text": [
      " 82%|████████▏ | 231/281 [12:15<02:45,  3.31s/it]"
     ]
    },
    {
     "name": "stdout",
     "output_type": "stream",
     "text": [
      "Searching for: Rock And Roll Yo by Charly Garcia\n",
      "Searching for \"Rock And Roll Yo\" by Charly Garcia...\n",
      "Done.\n",
      "✓ Added lyrics for: Rock And Roll Yo\n"
     ]
    },
    {
     "name": "stderr",
     "output_type": "stream",
     "text": [
      " 83%|████████▎ | 232/281 [12:18<02:39,  3.26s/it]"
     ]
    },
    {
     "name": "stdout",
     "output_type": "stream",
     "text": [
      "Searching for: Rompela by Charly Garcia\n",
      "Searching for \"Rompela\" by Charly Garcia...\n",
      "Done.\n",
      "✓ Added lyrics for: Rompela\n"
     ]
    },
    {
     "name": "stderr",
     "output_type": "stream",
     "text": [
      " 83%|████████▎ | 233/281 [12:21<02:36,  3.27s/it]"
     ]
    },
    {
     "name": "stdout",
     "output_type": "stream",
     "text": [
      "Searching for: Sarabande by Charly Garcia\n",
      "Searching for \"Sarabande\" by Charly Garcia...\n",
      "Specified song does not contain lyrics. Rejecting.\n",
      "✗ No lyrics found for: Sarabande\n"
     ]
    },
    {
     "name": "stderr",
     "output_type": "stream",
     "text": [
      " 83%|████████▎ | 234/281 [12:23<02:13,  2.85s/it]"
     ]
    },
    {
     "name": "stdout",
     "output_type": "stream",
     "text": [
      "Searching for: Say No More by Charly Garcia\n",
      "Searching for \"Say No More\" by Charly Garcia...\n",
      "Done.\n",
      "✓ Added lyrics for: Say No More\n"
     ]
    },
    {
     "name": "stderr",
     "output_type": "stream",
     "text": [
      " 84%|████████▎ | 235/281 [12:26<02:16,  2.98s/it]"
     ]
    },
    {
     "name": "stdout",
     "output_type": "stream",
     "text": [
      "Searching for: Seminare by Charly Garcia\n",
      "Searching for \"Seminare\" by Charly Garcia...\n",
      "Done.\n",
      "✓ Added lyrics for: Seminare\n"
     ]
    },
    {
     "name": "stderr",
     "output_type": "stream",
     "text": [
      " 84%|████████▍ | 236/281 [12:29<02:14,  2.99s/it]"
     ]
    },
    {
     "name": "stdout",
     "output_type": "stream",
     "text": [
      "Searching for: Sentado en el umbral de Dios by Charly Garcia\n",
      "Searching for \"Sentado en el umbral de Dios\" by Charly Garcia...\n",
      "Done.\n",
      "✓ Added lyrics for: Sentado en el umbral de Dios\n"
     ]
    },
    {
     "name": "stderr",
     "output_type": "stream",
     "text": [
      " 84%|████████▍ | 237/281 [12:33<02:18,  3.15s/it]"
     ]
    },
    {
     "name": "stdout",
     "output_type": "stream",
     "text": [
      "Searching for: Sereno Fantástico by Charly Garcia\n",
      "Searching for \"Sereno Fantástico\" by Charly Garcia...\n",
      "Specified song does not contain lyrics. Rejecting.\n",
      "✗ No lyrics found for: Sereno Fantástico\n"
     ]
    },
    {
     "name": "stderr",
     "output_type": "stream",
     "text": [
      " 85%|████████▍ | 238/281 [12:35<02:00,  2.79s/it]"
     ]
    },
    {
     "name": "stdout",
     "output_type": "stream",
     "text": [
      "Searching for: Serú Giran Medley: Serú Girán/Eiti Leda/Viernes 3 AM - Live by Charly Garcia\n",
      "Searching for \"Serú Giran Medley: Serú Girán/Eiti Leda/Viernes 3 AM - Live\" by Charly Garcia...\n",
      "Done.\n",
      "✓ Added lyrics for: Serú Giran Medley: Serú Girán/Eiti Leda/Viernes 3 AM - Live\n"
     ]
    },
    {
     "name": "stderr",
     "output_type": "stream",
     "text": [
      " 85%|████████▌ | 239/281 [12:38<02:02,  2.91s/it]"
     ]
    },
    {
     "name": "stdout",
     "output_type": "stream",
     "text": [
      "Searching for: Shisyastawuman by Charly Garcia\n",
      "Searching for \"Shisyastawuman\" by Charly Garcia...\n",
      "Done.\n",
      "✓ Added lyrics for: Shisyastawuman\n"
     ]
    },
    {
     "name": "stderr",
     "output_type": "stream",
     "text": [
      " 85%|████████▌ | 240/281 [12:41<01:59,  2.92s/it]"
     ]
    },
    {
     "name": "stdout",
     "output_type": "stream",
     "text": [
      "Searching for: Siempre Puedes Olvidar by Charly Garcia\n",
      "Searching for \"Siempre Puedes Olvidar\" by Charly Garcia...\n",
      "Done.\n",
      "✓ Added lyrics for: Siempre Puedes Olvidar\n"
     ]
    },
    {
     "name": "stderr",
     "output_type": "stream",
     "text": [
      " 86%|████████▌ | 241/281 [12:44<02:06,  3.16s/it]"
     ]
    },
    {
     "name": "stdout",
     "output_type": "stream",
     "text": [
      "Searching for: Soldado De Lata (Tin Soldier) by Charly Garcia\n",
      "Searching for \"Soldado De Lata (Tin Soldier)\" by Charly Garcia...\n",
      "Done.\n",
      "✓ Added lyrics for: Soldado De Lata (Tin Soldier)\n"
     ]
    },
    {
     "name": "stderr",
     "output_type": "stream",
     "text": [
      " 86%|████████▌ | 242/281 [12:48<02:03,  3.18s/it]"
     ]
    },
    {
     "name": "stdout",
     "output_type": "stream",
     "text": [
      "Searching for: Solo un Poquito No Más by Charly Garcia\n",
      "Searching for \"Solo un Poquito No Más\" by Charly Garcia...\n",
      "Done.\n",
      "✓ Added lyrics for: Solo un Poquito No Más\n"
     ]
    },
    {
     "name": "stderr",
     "output_type": "stream",
     "text": [
      " 86%|████████▋ | 243/281 [12:52<02:14,  3.55s/it]"
     ]
    },
    {
     "name": "stdout",
     "output_type": "stream",
     "text": [
      "Searching for: Spector by Charly Garcia\n",
      "Searching for \"Spector\" by Charly Garcia...\n",
      "Done.\n",
      "✓ Added lyrics for: Spector\n"
     ]
    },
    {
     "name": "stderr",
     "output_type": "stream",
     "text": [
      " 87%|████████▋ | 244/281 [12:56<02:15,  3.67s/it]"
     ]
    },
    {
     "name": "stdout",
     "output_type": "stream",
     "text": [
      "Searching for: Studio Jam by Charly Garcia\n",
      "Searching for \"Studio Jam\" by Charly Garcia...\n",
      "Specified song does not contain lyrics. Rejecting.\n",
      "✗ No lyrics found for: Studio Jam\n"
     ]
    },
    {
     "name": "stderr",
     "output_type": "stream",
     "text": [
      " 87%|████████▋ | 245/281 [12:58<01:53,  3.15s/it]"
     ]
    },
    {
     "name": "stdout",
     "output_type": "stream",
     "text": [
      "Searching for: Suicida by Charly Garcia\n",
      "Searching for \"Suicida\" by Charly Garcia...\n",
      "Done.\n",
      "✓ Added lyrics for: Suicida\n"
     ]
    },
    {
     "name": "stderr",
     "output_type": "stream",
     "text": [
      " 88%|████████▊ | 246/281 [13:01<01:53,  3.24s/it]"
     ]
    },
    {
     "name": "stdout",
     "output_type": "stream",
     "text": [
      "Searching for: Superhéroes by Charly Garcia\n",
      "Searching for \"Superhéroes\" by Charly Garcia...\n",
      "Done.\n",
      "✓ Added lyrics for: Superhéroes\n"
     ]
    },
    {
     "name": "stderr",
     "output_type": "stream",
     "text": [
      " 88%|████████▊ | 247/281 [13:06<01:59,  3.53s/it]"
     ]
    },
    {
     "name": "stdout",
     "output_type": "stream",
     "text": [
      "Searching for: Sweet Home Buenos Aires by Charly Garcia\n",
      "Searching for \"Sweet Home Buenos Aires\" by Charly Garcia...\n",
      "Done.\n",
      "✓ Added lyrics for: Sweet Home Buenos Aires\n"
     ]
    },
    {
     "name": "stderr",
     "output_type": "stream",
     "text": [
      " 88%|████████▊ | 248/281 [13:10<02:03,  3.74s/it]"
     ]
    },
    {
     "name": "stdout",
     "output_type": "stream",
     "text": [
      "Searching for: Tango by Charly Garcia\n",
      "Searching for \"Tango\" by Charly Garcia...\n",
      "Done.\n",
      "✓ Added lyrics for: Tango\n"
     ]
    },
    {
     "name": "stderr",
     "output_type": "stream",
     "text": [
      " 89%|████████▊ | 249/281 [13:13<01:57,  3.66s/it]"
     ]
    },
    {
     "name": "stdout",
     "output_type": "stream",
     "text": [
      "Searching for: Telepáticamente by Charly Garcia\n",
      "Searching for \"Telepáticamente\" by Charly Garcia...\n",
      "Done.\n",
      "✓ Added lyrics for: Telepáticamente\n"
     ]
    },
    {
     "name": "stderr",
     "output_type": "stream",
     "text": [
      " 89%|████████▉ | 250/281 [13:16<01:47,  3.47s/it]"
     ]
    },
    {
     "name": "stdout",
     "output_type": "stream",
     "text": [
      "Searching for: Tema de Amor by Charly Garcia\n",
      "Searching for \"Tema de Amor\" by Charly Garcia...\n",
      "Specified song does not contain lyrics. Rejecting.\n",
      "✗ No lyrics found for: Tema de Amor\n"
     ]
    },
    {
     "name": "stderr",
     "output_type": "stream",
     "text": [
      " 89%|████████▉ | 251/281 [13:18<01:30,  3.00s/it]"
     ]
    },
    {
     "name": "stdout",
     "output_type": "stream",
     "text": [
      "Searching for: Tema de los devotos by Charly Garcia\n",
      "Searching for \"Tema de los devotos\" by Charly Garcia...\n",
      "Done.\n",
      "✓ Added lyrics for: Tema de los devotos\n"
     ]
    },
    {
     "name": "stderr",
     "output_type": "stream",
     "text": [
      " 90%|████████▉ | 252/281 [13:22<01:29,  3.09s/it]"
     ]
    },
    {
     "name": "stdout",
     "output_type": "stream",
     "text": [
      "Searching for: Terapia Intensiva by Charly Garcia\n",
      "Searching for \"Terapia Intensiva\" by Charly Garcia...\n",
      "Specified song does not contain lyrics. Rejecting.\n",
      "✗ No lyrics found for: Terapia Intensiva\n"
     ]
    },
    {
     "name": "stderr",
     "output_type": "stream",
     "text": [
      " 90%|█████████ | 253/281 [13:23<01:16,  2.74s/it]"
     ]
    },
    {
     "name": "stdout",
     "output_type": "stream",
     "text": [
      "Searching for: Te Recuerdo Invierno by Charly Garcia\n",
      "Searching for \"Te Recuerdo Invierno\" by Charly Garcia...\n",
      "Done.\n",
      "✓ Added lyrics for: Te Recuerdo Invierno\n"
     ]
    },
    {
     "name": "stderr",
     "output_type": "stream",
     "text": [
      " 90%|█████████ | 254/281 [13:27<01:20,  2.98s/it]"
     ]
    },
    {
     "name": "stdout",
     "output_type": "stream",
     "text": [
      "Searching for: Todos Los Pubis Juntos by Charly Garcia\n",
      "Searching for \"Todos Los Pubis Juntos\" by Charly Garcia...\n",
      "Specified song does not contain lyrics. Rejecting.\n",
      "✗ No lyrics found for: Todos Los Pubis Juntos\n"
     ]
    },
    {
     "name": "stderr",
     "output_type": "stream",
     "text": [
      " 91%|█████████ | 255/281 [13:29<01:08,  2.65s/it]"
     ]
    },
    {
     "name": "stdout",
     "output_type": "stream",
     "text": [
      "Searching for: Total Interferencia by Charly Garcia\n",
      "Searching for \"Total Interferencia\" by Charly Garcia...\n",
      "Done.\n",
      "✓ Added lyrics for: Total Interferencia\n"
     ]
    },
    {
     "name": "stderr",
     "output_type": "stream",
     "text": [
      " 91%|█████████ | 256/281 [13:33<01:17,  3.09s/it]"
     ]
    },
    {
     "name": "stdout",
     "output_type": "stream",
     "text": [
      "Searching for: Transatlántico Art Decó by Charly Garcia\n",
      "Searching for \"Transatlántico Art Decó\" by Charly Garcia...\n",
      "Specified song does not contain lyrics. Rejecting.\n",
      "✗ No lyrics found for: Transatlántico Art Decó\n"
     ]
    },
    {
     "name": "stderr",
     "output_type": "stream",
     "text": [
      " 91%|█████████▏| 257/281 [13:35<01:04,  2.70s/it]"
     ]
    },
    {
     "name": "stdout",
     "output_type": "stream",
     "text": [
      "Searching for: Transformación by Charly Garcia\n",
      "Searching for \"Transformación\" by Charly Garcia...\n",
      "Done.\n",
      "✓ Added lyrics for: Transformación\n"
     ]
    },
    {
     "name": "stderr",
     "output_type": "stream",
     "text": [
      " 92%|█████████▏| 258/281 [13:38<01:06,  2.89s/it]"
     ]
    },
    {
     "name": "stdout",
     "output_type": "stream",
     "text": [
      "Searching for: Tribunas Del Futuro Pobre by Charly Garcia\n",
      "Searching for \"Tribunas Del Futuro Pobre\" by Charly Garcia...\n",
      "Specified song does not contain lyrics. Rejecting.\n",
      "✗ No lyrics found for: Tribunas Del Futuro Pobre\n"
     ]
    },
    {
     "name": "stderr",
     "output_type": "stream",
     "text": [
      " 92%|█████████▏| 259/281 [13:40<00:57,  2.63s/it]"
     ]
    },
    {
     "name": "stdout",
     "output_type": "stream",
     "text": [
      "Searching for: Tu Arma en el Sur by Charly Garcia\n",
      "Searching for \"Tu Arma en el Sur\" by Charly Garcia...\n",
      "Done.\n",
      "✓ Added lyrics for: Tu Arma en el Sur\n"
     ]
    },
    {
     "name": "stderr",
     "output_type": "stream",
     "text": [
      " 93%|█████████▎| 260/281 [13:45<01:09,  3.29s/it]"
     ]
    },
    {
     "name": "stdout",
     "output_type": "stream",
     "text": [
      "Searching for: Tuve Tu Amor by Charly Garcia\n",
      "Searching for \"Tuve Tu Amor\" by Charly Garcia...\n",
      "Done.\n",
      "✓ Added lyrics for: Tuve Tu Amor\n"
     ]
    },
    {
     "name": "stderr",
     "output_type": "stream",
     "text": [
      " 93%|█████████▎| 261/281 [13:49<01:08,  3.41s/it]"
     ]
    },
    {
     "name": "stdout",
     "output_type": "stream",
     "text": [
      "Searching for: Tu Vicio by Charly Garcia\n",
      "Searching for \"Tu Vicio\" by Charly Garcia...\n",
      "Done.\n",
      "✓ Added lyrics for: Tu Vicio\n"
     ]
    },
    {
     "name": "stderr",
     "output_type": "stream",
     "text": [
      " 93%|█████████▎| 262/281 [13:52<01:05,  3.47s/it]"
     ]
    },
    {
     "name": "stdout",
     "output_type": "stream",
     "text": [
      "Searching for: Tu vicio (Gospel) by Charly Garcia\n",
      "Searching for \"Tu vicio (Gospel)\" by Charly Garcia...\n",
      "Done.\n",
      "✓ Added lyrics for: Tu vicio (Gospel)\n"
     ]
    },
    {
     "name": "stderr",
     "output_type": "stream",
     "text": [
      " 94%|█████████▎| 263/281 [13:56<01:04,  3.56s/it]"
     ]
    },
    {
     "name": "stdout",
     "output_type": "stream",
     "text": [
      "Searching for: Un corazón para colgar by Charly Garcia\n",
      "Searching for \"Un corazón para colgar\" by Charly Garcia...\n",
      "Done.\n",
      "✓ Added lyrics for: Un corazón para colgar\n"
     ]
    },
    {
     "name": "stderr",
     "output_type": "stream",
     "text": [
      " 94%|█████████▍| 264/281 [13:59<00:59,  3.49s/it]"
     ]
    },
    {
     "name": "stdout",
     "output_type": "stream",
     "text": [
      "Searching for: Uno a Uno by Charly Garcia\n",
      "Searching for \"Uno a Uno\" by Charly Garcia...\n",
      "Done.\n",
      "✓ Added lyrics for: Uno a Uno\n"
     ]
    },
    {
     "name": "stderr",
     "output_type": "stream",
     "text": [
      " 94%|█████████▍| 265/281 [14:03<00:56,  3.50s/it]"
     ]
    },
    {
     "name": "stdout",
     "output_type": "stream",
     "text": [
      "Searching for: Variaciones sobre música del alma by Charly Garcia\n",
      "Searching for \"Variaciones sobre música del alma\" by Charly Garcia...\n",
      "Specified song does not contain lyrics. Rejecting.\n",
      "✗ No lyrics found for: Variaciones sobre música del alma\n"
     ]
    },
    {
     "name": "stderr",
     "output_type": "stream",
     "text": [
      " 95%|█████████▍| 266/281 [14:05<00:45,  3.03s/it]"
     ]
    },
    {
     "name": "stdout",
     "output_type": "stream",
     "text": [
      "Searching for: Vemos... by Charly Garcia\n",
      "Searching for \"Vemos...\" by Charly Garcia...\n",
      "Specified song does not contain lyrics. Rejecting.\n",
      "✗ No lyrics found for: Vemos...\n"
     ]
    },
    {
     "name": "stderr",
     "output_type": "stream",
     "text": [
      " 95%|█████████▌| 267/281 [14:07<00:37,  2.70s/it]"
     ]
    },
    {
     "name": "stdout",
     "output_type": "stream",
     "text": [
      "Searching for: Víctima by Charly Garcia\n",
      "Searching for \"Víctima\" by Charly Garcia...\n",
      "Done.\n",
      "✓ Added lyrics for: Víctima\n"
     ]
    },
    {
     "name": "stderr",
     "output_type": "stream",
     "text": [
      " 95%|█████████▌| 268/281 [14:10<00:37,  2.91s/it]"
     ]
    },
    {
     "name": "stdout",
     "output_type": "stream",
     "text": [
      "Searching for: Viernes 3 Am by Charly Garcia\n",
      "Searching for \"Viernes 3 Am\" by Charly Garcia...\n",
      "Done.\n",
      "✓ Added lyrics for: Viernes 3 Am\n"
     ]
    },
    {
     "name": "stderr",
     "output_type": "stream",
     "text": [
      " 96%|█████████▌| 269/281 [14:14<00:36,  3.05s/it]"
     ]
    },
    {
     "name": "stdout",
     "output_type": "stream",
     "text": [
      "Searching for: Vos También Estabas Verde by Charly Garcia\n",
      "Searching for \"Vos También Estabas Verde\" by Charly Garcia...\n",
      "Done.\n",
      "✓ Added lyrics for: Vos También Estabas Verde\n"
     ]
    },
    {
     "name": "stderr",
     "output_type": "stream",
     "text": [
      " 96%|█████████▌| 270/281 [14:18<00:36,  3.32s/it]"
     ]
    },
    {
     "name": "stdout",
     "output_type": "stream",
     "text": [
      "Searching for: Voy a mil by Charly Garcia\n",
      "Searching for \"Voy a mil\" by Charly Garcia...\n",
      "Done.\n",
      "✓ Added lyrics for: Voy a mil\n"
     ]
    },
    {
     "name": "stderr",
     "output_type": "stream",
     "text": [
      " 96%|█████████▋| 271/281 [14:21<00:33,  3.31s/it]"
     ]
    },
    {
     "name": "stdout",
     "output_type": "stream",
     "text": [
      "Searching for: V.S.D. by Charly Garcia\n",
      "Searching for \"V.S.D.\" by Charly Garcia...\n",
      "Done.\n",
      "✓ Added lyrics for: V.S.D.\n"
     ]
    },
    {
     "name": "stderr",
     "output_type": "stream",
     "text": [
      " 97%|█████████▋| 272/281 [14:24<00:30,  3.35s/it]"
     ]
    },
    {
     "name": "stdout",
     "output_type": "stream",
     "text": [
      "Searching for: Waitin by Charly Garcia\n",
      "Searching for \"Waitin\" by Charly Garcia...\n",
      "Done.\n",
      "✓ Added lyrics for: Waitin\n"
     ]
    },
    {
     "name": "stderr",
     "output_type": "stream",
     "text": [
      " 97%|█████████▋| 273/281 [14:27<00:26,  3.31s/it]"
     ]
    },
    {
     "name": "stdout",
     "output_type": "stream",
     "text": [
      "Searching for: Watching the Wheels by Charly Garcia\n",
      "Searching for \"Watching the Wheels\" by Charly Garcia...\n",
      "Done.\n",
      "✓ Added lyrics for: Watching the Wheels\n"
     ]
    },
    {
     "name": "stderr",
     "output_type": "stream",
     "text": [
      " 98%|█████████▊| 274/281 [14:31<00:23,  3.35s/it]"
     ]
    },
    {
     "name": "stdout",
     "output_type": "stream",
     "text": [
      "Searching for: Wonder (Love’s in Need of Love Today) by Charly Garcia\n",
      "Searching for \"Wonder (Love’s in Need of Love Today)\" by Charly Garcia...\n",
      "Done.\n",
      "✓ Added lyrics for: Wonder (Love’s in Need of Love Today)\n"
     ]
    },
    {
     "name": "stderr",
     "output_type": "stream",
     "text": [
      " 98%|█████████▊| 275/281 [14:34<00:20,  3.39s/it]"
     ]
    },
    {
     "name": "stdout",
     "output_type": "stream",
     "text": [
      "Searching for: Workin’ In the Morning by Charly Garcia\n",
      "Searching for \"Workin’ In the Morning\" by Charly Garcia...\n",
      "Done.\n",
      "✓ Added lyrics for: Workin’ In the Morning\n"
     ]
    },
    {
     "name": "stderr",
     "output_type": "stream",
     "text": [
      " 98%|█████████▊| 276/281 [14:38<00:16,  3.37s/it]"
     ]
    },
    {
     "name": "stdout",
     "output_type": "stream",
     "text": [
      "Searching for: Yendo De La Cama Al Living by Charly Garcia\n",
      "Searching for \"Yendo De La Cama Al Living\" by Charly Garcia...\n",
      "Done.\n",
      "✓ Added lyrics for: Yendo De La Cama Al Living\n"
     ]
    },
    {
     "name": "stderr",
     "output_type": "stream",
     "text": [
      " 99%|█████████▊| 277/281 [14:41<00:13,  3.49s/it]"
     ]
    },
    {
     "name": "stdout",
     "output_type": "stream",
     "text": [
      "Searching for: Yendo de la cama al living - en vivo 2 by Charly Garcia\n",
      "Searching for \"Yendo de la cama al living - en vivo 2\" by Charly Garcia...\n",
      "Done.\n",
      "✓ Added lyrics for: Yendo de la cama al living - en vivo 2\n"
     ]
    },
    {
     "name": "stderr",
     "output_type": "stream",
     "text": [
      " 99%|█████████▉| 278/281 [14:44<00:10,  3.34s/it]"
     ]
    },
    {
     "name": "stdout",
     "output_type": "stream",
     "text": [
      "Searching for: Yendo de la Cama al Living - Live by Charly Garcia\n",
      "Searching for \"Yendo de la Cama al Living - Live\" by Charly Garcia...\n",
      "Done.\n",
      "✓ Added lyrics for: Yendo de la Cama al Living - Live\n"
     ]
    },
    {
     "name": "stderr",
     "output_type": "stream",
     "text": [
      " 99%|█████████▉| 279/281 [14:48<00:06,  3.34s/it]"
     ]
    },
    {
     "name": "stdout",
     "output_type": "stream",
     "text": [
      "Searching for: Yo No Quiero Volverme Tan Loco by Charly Garcia\n",
      "Searching for \"Yo No Quiero Volverme Tan Loco\" by Charly Garcia...\n",
      "Done.\n",
      "✓ Added lyrics for: Yo No Quiero Volverme Tan Loco\n"
     ]
    },
    {
     "name": "stderr",
     "output_type": "stream",
     "text": [
      "100%|█████████▉| 280/281 [14:52<00:03,  3.46s/it]"
     ]
    },
    {
     "name": "stdout",
     "output_type": "stream",
     "text": [
      "Searching for: Yo Ya Sé by Charly Garcia\n",
      "Searching for \"Yo Ya Sé\" by Charly Garcia...\n",
      "Done.\n",
      "✓ Added lyrics for: Yo Ya Sé\n"
     ]
    },
    {
     "name": "stderr",
     "output_type": "stream",
     "text": [
      "100%|██████████| 281/281 [14:55<00:00,  3.40s/it]"
     ]
    },
    {
     "name": "stdout",
     "output_type": "stream",
     "text": [
      "Searching for: Zocacola by Charly Garcia\n",
      "Searching for \"Zocacola\" by Charly Garcia...\n",
      "Done.\n",
      "✓ Added lyrics for: Zocacola\n"
     ]
    },
    {
     "name": "stderr",
     "output_type": "stream",
     "text": [
      "100%|██████████| 281/281 [14:58<00:00,  3.20s/it]\n"
     ]
    },
    {
     "data": {
      "text/html": [
       "<div>\n",
       "<style scoped>\n",
       "    .dataframe tbody tr th:only-of-type {\n",
       "        vertical-align: middle;\n",
       "    }\n",
       "\n",
       "    .dataframe tbody tr th {\n",
       "        vertical-align: top;\n",
       "    }\n",
       "\n",
       "    .dataframe thead th {\n",
       "        text-align: right;\n",
       "    }\n",
       "</style>\n",
       "<table border=\"1\" class=\"dataframe\">\n",
       "  <thead>\n",
       "    <tr style=\"text-align: right;\">\n",
       "      <th></th>\n",
       "      <th>title</th>\n",
       "      <th>id</th>\n",
       "      <th>url</th>\n",
       "      <th>album</th>\n",
       "      <th>lyrics</th>\n",
       "    </tr>\n",
       "  </thead>\n",
       "  <tbody>\n",
       "    <tr>\n",
       "      <th>0</th>\n",
       "      <td>A1</td>\n",
       "      <td>4423039</td>\n",
       "      <td>https://genius.com/Charly-garcia-a1-lyrics</td>\n",
       "      <td>Album(id, artist, ...)</td>\n",
       "      <td>None</td>\n",
       "    </tr>\n",
       "    <tr>\n",
       "      <th>1</th>\n",
       "      <td>Adela en el Carrousell</td>\n",
       "      <td>1760724</td>\n",
       "      <td>https://genius.com/Charly-garcia-adela-en-el-c...</td>\n",
       "      <td>Album(id, artist, ...)</td>\n",
       "      <td>4 ContributorsAdela en el Carrousell Lyrics[Le...</td>\n",
       "    </tr>\n",
       "    <tr>\n",
       "      <th>2</th>\n",
       "      <td>Adela on the carousel (Adela en el carrousel -...</td>\n",
       "      <td>10300359</td>\n",
       "      <td>https://genius.com/Charly-garcia-adela-on-the-...</td>\n",
       "      <td>None</td>\n",
       "      <td>1 ContributorAdela on the carousel (Adela en e...</td>\n",
       "    </tr>\n",
       "    <tr>\n",
       "      <th>3</th>\n",
       "      <td>Agua y Piano</td>\n",
       "      <td>4218398</td>\n",
       "      <td>https://genius.com/Charly-garcia-agua-y-piano-...</td>\n",
       "      <td>Album(id, artist, ...)</td>\n",
       "      <td>None</td>\n",
       "    </tr>\n",
       "    <tr>\n",
       "      <th>4</th>\n",
       "      <td>Alguien en el Mundo Piensa En Mí</td>\n",
       "      <td>988752</td>\n",
       "      <td>https://genius.com/Charly-garcia-alguien-en-el...</td>\n",
       "      <td>Album(id, artist, ...)</td>\n",
       "      <td>5 ContributorsAlguien en el Mundo Piensa En Mí...</td>\n",
       "    </tr>\n",
       "    <tr>\n",
       "      <th>...</th>\n",
       "      <td>...</td>\n",
       "      <td>...</td>\n",
       "      <td>...</td>\n",
       "      <td>...</td>\n",
       "      <td>...</td>\n",
       "    </tr>\n",
       "    <tr>\n",
       "      <th>276</th>\n",
       "      <td>Yendo de la cama al living - en vivo 2</td>\n",
       "      <td>1970216</td>\n",
       "      <td>https://genius.com/Charly-garcia-yendo-de-la-c...</td>\n",
       "      <td>None</td>\n",
       "      <td>2 ContributorsYendo de la cama al living - en ...</td>\n",
       "    </tr>\n",
       "    <tr>\n",
       "      <th>277</th>\n",
       "      <td>Yendo de la Cama al Living - Live</td>\n",
       "      <td>1950091</td>\n",
       "      <td>https://genius.com/Charly-garcia-yendo-de-la-c...</td>\n",
       "      <td>Album(id, artist, ...)</td>\n",
       "      <td>2 ContributorsYendo de la Cama al Living - Liv...</td>\n",
       "    </tr>\n",
       "    <tr>\n",
       "      <th>278</th>\n",
       "      <td>Yo No Quiero Volverme Tan Loco</td>\n",
       "      <td>1717725</td>\n",
       "      <td>https://genius.com/Charly-garcia-yo-no-quiero-...</td>\n",
       "      <td>Album(id, artist, ...)</td>\n",
       "      <td>9 ContributorsYo No Quiero Volverme Tan Loco L...</td>\n",
       "    </tr>\n",
       "    <tr>\n",
       "      <th>279</th>\n",
       "      <td>Yo Ya Sé</td>\n",
       "      <td>7987584</td>\n",
       "      <td>https://genius.com/Charly-garcia-yo-ya-se-lyrics</td>\n",
       "      <td>Album(id, artist, ...)</td>\n",
       "      <td>6 ContributorsYo Ya Sé Lyrics[Letra de \"Yo Ya ...</td>\n",
       "    </tr>\n",
       "    <tr>\n",
       "      <th>280</th>\n",
       "      <td>Zocacola</td>\n",
       "      <td>1144466</td>\n",
       "      <td>https://genius.com/Charly-garcia-zocacola-lyrics</td>\n",
       "      <td>Album(id, artist, ...)</td>\n",
       "      <td>3 ContributorsZocacola Lyrics[Letra de \"Zocaco...</td>\n",
       "    </tr>\n",
       "  </tbody>\n",
       "</table>\n",
       "<p>281 rows × 5 columns</p>\n",
       "</div>"
      ],
      "text/plain": [
       "                                                 title        id  \\\n",
       "0                                                   A1   4423039   \n",
       "1                               Adela en el Carrousell   1760724   \n",
       "2    Adela on the carousel (Adela en el carrousel -...  10300359   \n",
       "3                                         Agua y Piano   4218398   \n",
       "4                     Alguien en el Mundo Piensa En Mí    988752   \n",
       "..                                                 ...       ...   \n",
       "276             Yendo de la cama al living - en vivo 2   1970216   \n",
       "277                  Yendo de la Cama al Living - Live   1950091   \n",
       "278                     Yo No Quiero Volverme Tan Loco   1717725   \n",
       "279                                           Yo Ya Sé   7987584   \n",
       "280                                           Zocacola   1144466   \n",
       "\n",
       "                                                   url  \\\n",
       "0           https://genius.com/Charly-garcia-a1-lyrics   \n",
       "1    https://genius.com/Charly-garcia-adela-en-el-c...   \n",
       "2    https://genius.com/Charly-garcia-adela-on-the-...   \n",
       "3    https://genius.com/Charly-garcia-agua-y-piano-...   \n",
       "4    https://genius.com/Charly-garcia-alguien-en-el...   \n",
       "..                                                 ...   \n",
       "276  https://genius.com/Charly-garcia-yendo-de-la-c...   \n",
       "277  https://genius.com/Charly-garcia-yendo-de-la-c...   \n",
       "278  https://genius.com/Charly-garcia-yo-no-quiero-...   \n",
       "279   https://genius.com/Charly-garcia-yo-ya-se-lyrics   \n",
       "280   https://genius.com/Charly-garcia-zocacola-lyrics   \n",
       "\n",
       "                      album                                             lyrics  \n",
       "0    Album(id, artist, ...)                                               None  \n",
       "1    Album(id, artist, ...)  4 ContributorsAdela en el Carrousell Lyrics[Le...  \n",
       "2                      None  1 ContributorAdela on the carousel (Adela en e...  \n",
       "3    Album(id, artist, ...)                                               None  \n",
       "4    Album(id, artist, ...)  5 ContributorsAlguien en el Mundo Piensa En Mí...  \n",
       "..                      ...                                                ...  \n",
       "276                    None  2 ContributorsYendo de la cama al living - en ...  \n",
       "277  Album(id, artist, ...)  2 ContributorsYendo de la Cama al Living - Liv...  \n",
       "278  Album(id, artist, ...)  9 ContributorsYo No Quiero Volverme Tan Loco L...  \n",
       "279  Album(id, artist, ...)  6 ContributorsYo Ya Sé Lyrics[Letra de \"Yo Ya ...  \n",
       "280  Album(id, artist, ...)  3 ContributorsZocacola Lyrics[Letra de \"Zocaco...  \n",
       "\n",
       "[281 rows x 5 columns]"
      ]
     },
     "execution_count": 26,
     "metadata": {},
     "output_type": "execute_result"
    }
   ],
   "source": [
    "def fetch_lyrics(row, artist_name=\"Charly Garcia\"):\n",
    "    \"\"\"Function to fetch lyrics for a given song title\"\"\"\n",
    "    try:\n",
    "        song_title = row[\"title\"]\n",
    "        print(f\"Searching for: {song_title} by {artist_name}\")\n",
    "\n",
    "        # Search for the song\n",
    "        song = genius.search_song(song_title, artist_name)\n",
    "\n",
    "        if song:\n",
    "            print(f\"✓ Added lyrics for: {song_title}\")\n",
    "            # Add a delay to avoid rate limiting\n",
    "            time.sleep(1)\n",
    "            return song.lyrics\n",
    "        else:\n",
    "            print(f\"✗ No lyrics found for: {song_title}\")\n",
    "            time.sleep(1)\n",
    "            return None\n",
    "\n",
    "    except Exception as e:\n",
    "        print(f\"Error processing '{song_title}': {e}\")\n",
    "        time.sleep(1)\n",
    "        return None\n",
    "\n",
    "\n",
    "# Apply the function to each row and create the lyrics column in one step\n",
    "tqdm.pandas()  # Enable progress_apply\n",
    "df[\"lyrics\"] = df.progress_apply(fetch_lyrics, axis=1)\n",
    "df"
   ]
  },
  {
   "cell_type": "code",
   "execution_count": null,
   "id": "1dbcb23b",
   "metadata": {},
   "outputs": [],
   "source": [
    "df.to_csv(f\"../data/processed/{artist.name.replace(' ', '_')}_songs.csv\", index=False)\n",
    "df.to_excel(f\"../data/processed/{artist.name.replace(' ', '_')}_songs.xlsx\", index=False, sheet_name=\"data\")"
   ]
  }
 ],
 "metadata": {
  "kernelspec": {
   "display_name": ".venv",
   "language": "python",
   "name": "python3"
  },
  "language_info": {
   "codemirror_mode": {
    "name": "ipython",
    "version": 3
   },
   "file_extension": ".py",
   "mimetype": "text/x-python",
   "name": "python",
   "nbconvert_exporter": "python",
   "pygments_lexer": "ipython3",
   "version": "3.11.11"
  }
 },
 "nbformat": 4,
 "nbformat_minor": 5
}
