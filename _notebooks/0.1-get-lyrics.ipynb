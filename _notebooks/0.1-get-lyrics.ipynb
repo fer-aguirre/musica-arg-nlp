{
 "cells": [
  {
   "cell_type": "code",
   "execution_count": null,
   "id": "aaefa212",
   "metadata": {},
   "outputs": [],
   "source": [
    "import json\n",
    "import pandas as pd\n",
    "import time\n",
    "import configparser\n",
    "from lyricsgenius import Genius\n",
    "from tqdm import tqdm"
   ]
  },
  {
   "cell_type": "markdown",
   "id": "4b4f316e",
   "metadata": {},
   "source": [
    "[Documentation](https://lyricsgenius.readthedocs.io/en/master/usage.html)"
   ]
  },
  {
   "cell_type": "code",
   "execution_count": 2,
   "id": "a1f3c09b",
   "metadata": {},
   "outputs": [],
   "source": [
    "# Get Genius API tokens\n",
    "parser = configparser.ConfigParser()\n",
    "parser.read(\"../config.ini\")\n",
    "parser.sections()\n",
    "token = parser.get(\"genius_api\", \"token\")"
   ]
  },
  {
   "cell_type": "code",
   "execution_count": 3,
   "id": "0d14fa22",
   "metadata": {},
   "outputs": [],
   "source": [
    "genius = Genius(token)\n",
    "genius.response_format = \"plain,html\""
   ]
  },
  {
   "cell_type": "code",
   "execution_count": 3,
   "id": "45327fe6",
   "metadata": {},
   "outputs": [
    {
     "data": {
      "text/html": [
       "<div>\n",
       "<style scoped>\n",
       "    .dataframe tbody tr th:only-of-type {\n",
       "        vertical-align: middle;\n",
       "    }\n",
       "\n",
       "    .dataframe tbody tr th {\n",
       "        vertical-align: top;\n",
       "    }\n",
       "\n",
       "    .dataframe thead th {\n",
       "        text-align: right;\n",
       "    }\n",
       "</style>\n",
       "<table border=\"1\" class=\"dataframe\">\n",
       "  <thead>\n",
       "    <tr style=\"text-align: right;\">\n",
       "      <th></th>\n",
       "      <th>Posición</th>\n",
       "      <th>Título</th>\n",
       "      <th>Artista</th>\n",
       "      <th>Año</th>\n",
       "    </tr>\n",
       "  </thead>\n",
       "  <tbody>\n",
       "    <tr>\n",
       "      <th>0</th>\n",
       "      <td>1</td>\n",
       "      <td>La balsa</td>\n",
       "      <td>Los Gatos</td>\n",
       "      <td>1967</td>\n",
       "    </tr>\n",
       "    <tr>\n",
       "      <th>1</th>\n",
       "      <td>2</td>\n",
       "      <td>Muchacha (Ojos de papel)</td>\n",
       "      <td>Almendra</td>\n",
       "      <td>1970</td>\n",
       "    </tr>\n",
       "    <tr>\n",
       "      <th>2</th>\n",
       "      <td>3</td>\n",
       "      <td>Rasguña las piedras</td>\n",
       "      <td>Sui Generis</td>\n",
       "      <td>1973</td>\n",
       "    </tr>\n",
       "    <tr>\n",
       "      <th>3</th>\n",
       "      <td>4</td>\n",
       "      <td>De música ligera</td>\n",
       "      <td>Soda Stereo</td>\n",
       "      <td>1990</td>\n",
       "    </tr>\n",
       "    <tr>\n",
       "      <th>4</th>\n",
       "      <td>5</td>\n",
       "      <td>Ji ji ji</td>\n",
       "      <td>Patricio Rey y sus Redonditos de Ricota</td>\n",
       "      <td>1986</td>\n",
       "    </tr>\n",
       "    <tr>\n",
       "      <th>...</th>\n",
       "      <td>...</td>\n",
       "      <td>...</td>\n",
       "      <td>...</td>\n",
       "      <td>...</td>\n",
       "    </tr>\n",
       "    <tr>\n",
       "      <th>95</th>\n",
       "      <td>96</td>\n",
       "      <td>Héroes anónimos</td>\n",
       "      <td>Metrópoli</td>\n",
       "      <td>1986</td>\n",
       "    </tr>\n",
       "    <tr>\n",
       "      <th>96</th>\n",
       "      <td>97</td>\n",
       "      <td>Gente que no</td>\n",
       "      <td>Todos Tus Muertos</td>\n",
       "      <td>1988</td>\n",
       "    </tr>\n",
       "    <tr>\n",
       "      <th>97</th>\n",
       "      <td>98</td>\n",
       "      <td>Lollipop</td>\n",
       "      <td>Viuda e Hijas de Roque Enroll</td>\n",
       "      <td>1985</td>\n",
       "    </tr>\n",
       "    <tr>\n",
       "      <th>98</th>\n",
       "      <td>99</td>\n",
       "      <td>Me gustas mucho</td>\n",
       "      <td>Viejas Locas</td>\n",
       "      <td>1999</td>\n",
       "    </tr>\n",
       "    <tr>\n",
       "      <th>99</th>\n",
       "      <td>100</td>\n",
       "      <td>Morrissey</td>\n",
       "      <td>Leo García</td>\n",
       "      <td>2001</td>\n",
       "    </tr>\n",
       "  </tbody>\n",
       "</table>\n",
       "<p>100 rows × 4 columns</p>\n",
       "</div>"
      ],
      "text/plain": [
       "    Posición                    Título  \\\n",
       "0          1                  La balsa   \n",
       "1          2  Muchacha (Ojos de papel)   \n",
       "2          3       Rasguña las piedras   \n",
       "3          4          De música ligera   \n",
       "4          5                  Ji ji ji   \n",
       "..       ...                       ...   \n",
       "95        96           Héroes anónimos   \n",
       "96        97              Gente que no   \n",
       "97        98                  Lollipop   \n",
       "98        99           Me gustas mucho   \n",
       "99       100                 Morrissey   \n",
       "\n",
       "                                    Artista   Año  \n",
       "0                                 Los Gatos  1967  \n",
       "1                                  Almendra  1970  \n",
       "2                               Sui Generis  1973  \n",
       "3                               Soda Stereo  1990  \n",
       "4   Patricio Rey y sus Redonditos de Ricota  1986  \n",
       "..                                      ...   ...  \n",
       "95                                Metrópoli  1986  \n",
       "96                        Todos Tus Muertos  1988  \n",
       "97            Viuda e Hijas de Roque Enroll  1985  \n",
       "98                             Viejas Locas  1999  \n",
       "99                               Leo García  2001  \n",
       "\n",
       "[100 rows x 4 columns]"
      ]
     },
     "execution_count": 3,
     "metadata": {},
     "output_type": "execute_result"
    }
   ],
   "source": [
    "songs = pd.read_csv(\"../data/raw/100canciones_rock_argentino.csv\")\n",
    "songs"
   ]
  },
  {
   "cell_type": "code",
   "execution_count": 4,
   "id": "29c04a2a",
   "metadata": {},
   "outputs": [
    {
     "name": "stderr",
     "output_type": "stream",
     "text": [
      "  0%|          | 0/100 [00:00<?, ?it/s]"
     ]
    },
    {
     "name": "stdout",
     "output_type": "stream",
     "text": [
      "Searching for: La balsa by Los Gatos\n",
      "Searching for \"La balsa\" by Los Gatos...\n",
      "Done.\n",
      "✓ Added lyrics for: La balsa\n"
     ]
    },
    {
     "name": "stderr",
     "output_type": "stream",
     "text": [
      "  2%|▏         | 2/100 [00:05<04:34,  2.80s/it]"
     ]
    },
    {
     "name": "stdout",
     "output_type": "stream",
     "text": [
      "Searching for: Muchacha (Ojos de papel) by Almendra\n",
      "Searching for \"Muchacha (Ojos de papel)\" by Almendra...\n",
      "Done.\n",
      "✓ Added lyrics for: Muchacha (Ojos de papel)\n"
     ]
    },
    {
     "name": "stderr",
     "output_type": "stream",
     "text": [
      "  3%|▎         | 3/100 [00:11<06:26,  3.98s/it]"
     ]
    },
    {
     "name": "stdout",
     "output_type": "stream",
     "text": [
      "Searching for: Rasguña las piedras by Sui Generis\n",
      "Searching for \"Rasguña las piedras\" by Sui Generis...\n",
      "Done.\n",
      "✓ Added lyrics for: Rasguña las piedras\n"
     ]
    },
    {
     "name": "stderr",
     "output_type": "stream",
     "text": [
      "  4%|▍         | 4/100 [00:16<07:20,  4.59s/it]"
     ]
    },
    {
     "name": "stdout",
     "output_type": "stream",
     "text": [
      "Searching for: De música ligera by Soda Stereo\n",
      "Searching for \"De música ligera\" by Soda Stereo...\n",
      "Done.\n",
      "✓ Added lyrics for: De música ligera\n"
     ]
    },
    {
     "name": "stderr",
     "output_type": "stream",
     "text": [
      "  5%|▌         | 5/100 [00:23<08:17,  5.24s/it]"
     ]
    },
    {
     "name": "stdout",
     "output_type": "stream",
     "text": [
      "Searching for: Ji ji ji by Patricio Rey y sus Redonditos de Ricota\n",
      "Searching for \"Ji ji ji\" by Patricio Rey y sus Redonditos de Ricota...\n",
      "No results found for: 'Ji ji ji Patricio Rey y sus Redonditos de Ricota'\n",
      "✗ No lyrics found for: Ji ji ji\n"
     ]
    },
    {
     "name": "stderr",
     "output_type": "stream",
     "text": [
      "  6%|▌         | 6/100 [00:24<06:20,  4.05s/it]"
     ]
    },
    {
     "name": "stdout",
     "output_type": "stream",
     "text": [
      "Searching for: Sólo le pido a Dios by León Gieco\n",
      "Searching for \"Sólo le pido a Dios\" by León Gieco...\n",
      "Done.\n",
      "✓ Added lyrics for: Sólo le pido a Dios\n"
     ]
    },
    {
     "name": "stderr",
     "output_type": "stream",
     "text": [
      "  7%|▋         | 7/100 [00:30<06:55,  4.47s/it]"
     ]
    },
    {
     "name": "stdout",
     "output_type": "stream",
     "text": [
      "Searching for: Presente (El momento en que estás) by Vox Dei\n",
      "Searching for \"Presente (El momento en que estás)\" by Vox Dei...\n",
      "Done.\n",
      "✓ Added lyrics for: Presente (El momento en que estás)\n"
     ]
    },
    {
     "name": "stderr",
     "output_type": "stream",
     "text": [
      "  8%|▊         | 8/100 [00:35<06:59,  4.56s/it]"
     ]
    },
    {
     "name": "stdout",
     "output_type": "stream",
     "text": [
      "Searching for: Seminare by Serú Girán\n",
      "Searching for \"Seminare\" by Serú Girán...\n",
      "Done.\n",
      "✓ Added lyrics for: Seminare\n"
     ]
    },
    {
     "name": "stderr",
     "output_type": "stream",
     "text": [
      "  9%|▉         | 9/100 [00:40<07:25,  4.89s/it]"
     ]
    },
    {
     "name": "stdout",
     "output_type": "stream",
     "text": [
      "Searching for: Y dale alegría a mi corazón by Fito Páez\n",
      "Searching for \"Y dale alegría a mi corazón\" by Fito Páez...\n",
      "Done.\n",
      "✓ Added lyrics for: Y dale alegría a mi corazón\n"
     ]
    },
    {
     "name": "stderr",
     "output_type": "stream",
     "text": [
      " 10%|█         | 10/100 [00:45<07:18,  4.87s/it]"
     ]
    },
    {
     "name": "stdout",
     "output_type": "stream",
     "text": [
      "Searching for: Matador by Los Fabulosos Cadillacs\n",
      "Searching for \"Matador\" by Los Fabulosos Cadillacs...\n",
      "Done.\n",
      "✓ Added lyrics for: Matador\n"
     ]
    },
    {
     "name": "stderr",
     "output_type": "stream",
     "text": [
      " 11%|█         | 11/100 [00:50<07:12,  4.86s/it]"
     ]
    },
    {
     "name": "stdout",
     "output_type": "stream",
     "text": [
      "Searching for: Canción para mi muerte by Sui Generis\n",
      "Searching for \"Canción para mi muerte\" by Sui Generis...\n",
      "Done.\n",
      "✓ Added lyrics for: Canción para mi muerte\n"
     ]
    },
    {
     "name": "stderr",
     "output_type": "stream",
     "text": [
      " 12%|█▏        | 12/100 [00:55<07:17,  4.97s/it]"
     ]
    },
    {
     "name": "stdout",
     "output_type": "stream",
     "text": [
      "Searching for: La rubia tarada by Sumo\n",
      "Searching for \"La rubia tarada\" by Sumo...\n",
      "Done.\n",
      "✓ Added lyrics for: La rubia tarada\n"
     ]
    },
    {
     "name": "stderr",
     "output_type": "stream",
     "text": [
      " 13%|█▎        | 13/100 [01:00<07:01,  4.84s/it]"
     ]
    },
    {
     "name": "stdout",
     "output_type": "stream",
     "text": [
      "Searching for: El oso by Moris\n",
      "Searching for \"El oso\" by Moris...\n",
      "Done.\n",
      "✓ Added lyrics for: El oso\n"
     ]
    },
    {
     "name": "stderr",
     "output_type": "stream",
     "text": [
      " 14%|█▍        | 14/100 [01:04<06:51,  4.78s/it]"
     ]
    },
    {
     "name": "stdout",
     "output_type": "stream",
     "text": [
      "Searching for: Mil horas by Los Abuelos de la Nada\n",
      "Searching for \"Mil horas\" by Los Abuelos de la Nada...\n",
      "Done.\n",
      "✓ Added lyrics for: Mil horas\n"
     ]
    },
    {
     "name": "stderr",
     "output_type": "stream",
     "text": [
      " 15%|█▌        | 15/100 [01:08<06:26,  4.55s/it]"
     ]
    },
    {
     "name": "stdout",
     "output_type": "stream",
     "text": [
      "Searching for: Tengo by Sandro\n",
      "Searching for \"Tengo\" by Sandro...\n",
      "Done.\n",
      "✓ Added lyrics for: Tengo\n"
     ]
    },
    {
     "name": "stderr",
     "output_type": "stream",
     "text": [
      " 16%|█▌        | 16/100 [01:13<06:29,  4.63s/it]"
     ]
    },
    {
     "name": "stdout",
     "output_type": "stream",
     "text": [
      "Searching for: Demoliendo hoteles by Charly García\n",
      "Searching for \"Demoliendo hoteles\" by Charly García...\n",
      "Done.\n",
      "✓ Added lyrics for: Demoliendo hoteles\n"
     ]
    },
    {
     "name": "stderr",
     "output_type": "stream",
     "text": [
      " 17%|█▋        | 17/100 [01:18<06:33,  4.74s/it]"
     ]
    },
    {
     "name": "stdout",
     "output_type": "stream",
     "text": [
      "Searching for: Yo vengo a ofrecer mi corazón by Fito Páez\n",
      "Searching for \"Yo vengo a ofrecer mi corazón\" by Fito Páez...\n",
      "Done.\n",
      "✓ Added lyrics for: Yo vengo a ofrecer mi corazón\n"
     ]
    },
    {
     "name": "stderr",
     "output_type": "stream",
     "text": [
      " 18%|█▊        | 18/100 [01:24<06:59,  5.11s/it]"
     ]
    },
    {
     "name": "stdout",
     "output_type": "stream",
     "text": [
      "Searching for: Nada que perder by Los Pericos\n",
      "Searching for \"Nada que perder\" by Los Pericos...\n",
      "Done.\n",
      "✓ Added lyrics for: Nada que perder\n"
     ]
    },
    {
     "name": "stderr",
     "output_type": "stream",
     "text": [
      " 19%|█▉        | 19/100 [01:29<06:57,  5.16s/it]"
     ]
    },
    {
     "name": "stdout",
     "output_type": "stream",
     "text": [
      "Searching for: ¿Qué ves? by Divididos\n",
      "Searching for \"¿Qué ves?\" by Divididos...\n",
      "Done.\n",
      "✓ Added lyrics for: ¿Qué ves?\n"
     ]
    },
    {
     "name": "stderr",
     "output_type": "stream",
     "text": [
      " 20%|██        | 20/100 [01:34<06:51,  5.15s/it]"
     ]
    },
    {
     "name": "stdout",
     "output_type": "stream",
     "text": [
      "Searching for: Jugo de tomate by Manal\n",
      "Searching for \"Jugo de tomate\" by Manal...\n",
      "Done.\n",
      "✓ Added lyrics for: Jugo de tomate\n"
     ]
    },
    {
     "name": "stderr",
     "output_type": "stream",
     "text": [
      " 21%|██        | 21/100 [01:39<06:41,  5.09s/it]"
     ]
    },
    {
     "name": "stdout",
     "output_type": "stream",
     "text": [
      "Searching for: Imágenes paganas by Virus\n",
      "Searching for \"Imágenes paganas\" by Virus...\n",
      "Done.\n",
      "✓ Added lyrics for: Imágenes paganas\n"
     ]
    },
    {
     "name": "stderr",
     "output_type": "stream",
     "text": [
      " 22%|██▏       | 22/100 [01:44<06:30,  5.00s/it]"
     ]
    },
    {
     "name": "stdout",
     "output_type": "stream",
     "text": [
      "Searching for: Los viejos vinagres by Sumo\n",
      "Searching for \"Los viejos vinagres\" by Sumo...\n",
      "Done.\n",
      "✓ Added lyrics for: Los viejos vinagres\n"
     ]
    },
    {
     "name": "stderr",
     "output_type": "stream",
     "text": [
      " 23%|██▎       | 23/100 [01:49<06:15,  4.88s/it]"
     ]
    },
    {
     "name": "stdout",
     "output_type": "stream",
     "text": [
      "Searching for: Flaca by Andrés Calamaro\n",
      "Searching for \"Flaca\" by Andrés Calamaro...\n",
      "Done.\n",
      "✓ Added lyrics for: Flaca\n"
     ]
    },
    {
     "name": "stderr",
     "output_type": "stream",
     "text": [
      " 24%|██▍       | 24/100 [01:54<06:09,  4.87s/it]"
     ]
    },
    {
     "name": "stdout",
     "output_type": "stream",
     "text": [
      "Searching for: Los dinosaurios by Charly García\n",
      "Searching for \"Los dinosaurios\" by Charly García...\n",
      "Done.\n",
      "✓ Added lyrics for: Los dinosaurios\n"
     ]
    },
    {
     "name": "stderr",
     "output_type": "stream",
     "text": [
      " 25%|██▌       | 25/100 [01:59<06:11,  4.96s/it]"
     ]
    },
    {
     "name": "stdout",
     "output_type": "stream",
     "text": [
      "Searching for: El revelde by La Renga\n",
      "Searching for \"El revelde\" by La Renga...\n",
      "Done.\n",
      "✓ Added lyrics for: El revelde\n"
     ]
    },
    {
     "name": "stderr",
     "output_type": "stream",
     "text": [
      " 26%|██▌       | 26/100 [02:04<06:04,  4.93s/it]"
     ]
    },
    {
     "name": "stdout",
     "output_type": "stream",
     "text": [
      "Searching for: Verano del '92 by Los Piojos\n",
      "Searching for \"Verano del '92\" by Los Piojos...\n",
      "Done.\n",
      "✓ Added lyrics for: Verano del '92\n"
     ]
    },
    {
     "name": "stderr",
     "output_type": "stream",
     "text": [
      " 27%|██▋       | 27/100 [02:09<06:08,  5.04s/it]"
     ]
    },
    {
     "name": "stdout",
     "output_type": "stream",
     "text": [
      "Searching for: Se viene by Bersuit Vergarabat\n",
      "Searching for \"Se viene\" by Bersuit Vergarabat...\n",
      "Done.\n",
      "✓ Added lyrics for: Se viene\n"
     ]
    },
    {
     "name": "stderr",
     "output_type": "stream",
     "text": [
      " 28%|██▊       | 28/100 [02:17<07:10,  5.98s/it]"
     ]
    },
    {
     "name": "stdout",
     "output_type": "stream",
     "text": [
      "Searching for: Tirá para arriba by Miguel Mateos/Zas\n",
      "Searching for \"Tirá para arriba\" by Miguel Mateos/Zas...\n",
      "Done.\n",
      "✓ Added lyrics for: Tirá para arriba\n"
     ]
    },
    {
     "name": "stderr",
     "output_type": "stream",
     "text": [
      " 29%|██▉       | 29/100 [02:22<06:42,  5.67s/it]"
     ]
    },
    {
     "name": "stdout",
     "output_type": "stream",
     "text": [
      "Searching for: 11 y 6 by Fito Páez\n",
      "Searching for \"11 y 6\" by Fito Páez...\n",
      "Done.\n",
      "✓ Added lyrics for: 11 y 6\n"
     ]
    },
    {
     "name": "stderr",
     "output_type": "stream",
     "text": [
      " 30%|███       | 30/100 [02:27<06:26,  5.51s/it]"
     ]
    },
    {
     "name": "stdout",
     "output_type": "stream",
     "text": [
      "Searching for: Los piratas by Los Auténticos Decadentes\n",
      "Searching for \"Los piratas\" by Los Auténticos Decadentes...\n",
      "Done.\n",
      "✓ Added lyrics for: Los piratas\n"
     ]
    },
    {
     "name": "stderr",
     "output_type": "stream",
     "text": [
      " 31%|███       | 31/100 [02:32<06:01,  5.23s/it]"
     ]
    },
    {
     "name": "stdout",
     "output_type": "stream",
     "text": [
      "Searching for: Persiana americana by Soda Stereo\n",
      "Searching for \"Persiana americana\" by Soda Stereo...\n",
      "Done.\n",
      "✓ Added lyrics for: Persiana americana\n"
     ]
    },
    {
     "name": "stderr",
     "output_type": "stream",
     "text": [
      " 32%|███▏      | 32/100 [02:36<05:41,  5.02s/it]"
     ]
    },
    {
     "name": "stdout",
     "output_type": "stream",
     "text": [
      "Searching for: La bestia pop by Patricio Rey y sus redonditos de ricota\n",
      "Searching for \"La bestia pop\" by Patricio Rey y sus redonditos de ricota...\n",
      "Done.\n",
      "✓ Added lyrics for: La bestia pop\n"
     ]
    },
    {
     "name": "stderr",
     "output_type": "stream",
     "text": [
      " 33%|███▎      | 33/100 [02:41<05:31,  4.95s/it]"
     ]
    },
    {
     "name": "stdout",
     "output_type": "stream",
     "text": [
      "Searching for: Seguir viviendo sin tu amor by Luis Alberto Spinetta\n",
      "Searching for \"Seguir viviendo sin tu amor\" by Luis Alberto Spinetta...\n",
      "Done.\n",
      "✓ Added lyrics for: Seguir viviendo sin tu amor\n"
     ]
    },
    {
     "name": "stderr",
     "output_type": "stream",
     "text": [
      " 34%|███▍      | 34/100 [02:46<05:22,  4.89s/it]"
     ]
    },
    {
     "name": "stdout",
     "output_type": "stream",
     "text": [
      "Searching for: Para siempre by Los Ratones Paranoicos [ 2 ] ​\n",
      "Searching for \"Para siempre\" by Los Ratones Paranoicos [ 2 ] ​...\n",
      "No results found for: 'Para siempre Los Ratones Paranoicos [ 2 ] ​'\n",
      "✗ No lyrics found for: Para siempre\n"
     ]
    },
    {
     "name": "stderr",
     "output_type": "stream",
     "text": [
      " 35%|███▌      | 35/100 [02:48<04:20,  4.01s/it]"
     ]
    },
    {
     "name": "stdout",
     "output_type": "stream",
     "text": [
      "Searching for: Abarajame by Illya Kuryaki and the Valderramas\n",
      "Searching for \"Abarajame\" by Illya Kuryaki and the Valderramas...\n",
      "Done.\n",
      "✓ Added lyrics for: Abarajame\n"
     ]
    },
    {
     "name": "stderr",
     "output_type": "stream",
     "text": [
      " 36%|███▌      | 36/100 [02:52<04:27,  4.17s/it]"
     ]
    },
    {
     "name": "stdout",
     "output_type": "stream",
     "text": [
      "Searching for: Mi enfermedad by Fabiana Cantilo [ 3 ] ​\n",
      "Searching for \"Mi enfermedad\" by Fabiana Cantilo [ 3 ] ​...\n",
      "No results found for: 'Mi enfermedad Fabiana Cantilo [ 3 ] ​'\n",
      "✗ No lyrics found for: Mi enfermedad\n"
     ]
    },
    {
     "name": "stderr",
     "output_type": "stream",
     "text": [
      " 37%|███▋      | 37/100 [02:54<03:40,  3.50s/it]"
     ]
    },
    {
     "name": "stdout",
     "output_type": "stream",
     "text": [
      "Searching for: Y lo que quiero es que pises sin el suelo by Catupecu Machu\n",
      "Searching for \"Y lo que quiero es que pises sin el suelo\" by Catupecu Machu...\n",
      "Done.\n",
      "✓ Added lyrics for: Y lo que quiero es que pises sin el suelo\n"
     ]
    },
    {
     "name": "stderr",
     "output_type": "stream",
     "text": [
      " 38%|███▊      | 38/100 [02:59<03:50,  3.72s/it]"
     ]
    },
    {
     "name": "stdout",
     "output_type": "stream",
     "text": [
      "Searching for: Sólo se trata de vivir by Litto Nebbia\n",
      "Searching for \"Sólo se trata de vivir\" by Litto Nebbia...\n",
      "Done.\n",
      "✓ Added lyrics for: Sólo se trata de vivir\n"
     ]
    },
    {
     "name": "stderr",
     "output_type": "stream",
     "text": [
      " 39%|███▉      | 39/100 [03:03<04:08,  4.08s/it]"
     ]
    },
    {
     "name": "stdout",
     "output_type": "stream",
     "text": [
      "Searching for: Spaghetti del rock by Divididos\n",
      "Searching for \"Spaghetti del rock\" by Divididos...\n",
      "Done.\n",
      "✓ Added lyrics for: Spaghetti del rock\n"
     ]
    },
    {
     "name": "stderr",
     "output_type": "stream",
     "text": [
      " 40%|████      | 40/100 [03:08<04:21,  4.36s/it]"
     ]
    },
    {
     "name": "stdout",
     "output_type": "stream",
     "text": [
      "Searching for: Mirta, de regreso by Juan Carlos Baglietto\n",
      "Searching for \"Mirta, de regreso\" by Juan Carlos Baglietto...\n",
      "Done.\n",
      "✓ Added lyrics for: Mirta, de regreso\n"
     ]
    },
    {
     "name": "stderr",
     "output_type": "stream",
     "text": [
      " 41%|████      | 41/100 [03:13<04:21,  4.43s/it]"
     ]
    },
    {
     "name": "stdout",
     "output_type": "stream",
     "text": [
      "Searching for: Uno, dos, ultraviolento by Los Violadores\n",
      "Searching for \"Uno, dos, ultraviolento\" by Los Violadores...\n",
      "No results found for: 'Uno, dos, ultraviolento Los Violadores'\n",
      "✗ No lyrics found for: Uno, dos, ultraviolento\n"
     ]
    },
    {
     "name": "stderr",
     "output_type": "stream",
     "text": [
      " 42%|████▏     | 42/100 [03:15<03:31,  3.64s/it]"
     ]
    },
    {
     "name": "stdout",
     "output_type": "stream",
     "text": [
      "Searching for: Sin documentos by Los Rodríguez\n",
      "Searching for \"Sin documentos\" by Los Rodríguez...\n",
      "Done.\n",
      "✓ Added lyrics for: Sin documentos\n"
     ]
    },
    {
     "name": "stderr",
     "output_type": "stream",
     "text": [
      " 43%|████▎     | 43/100 [03:20<03:49,  4.04s/it]"
     ]
    },
    {
     "name": "stdout",
     "output_type": "stream",
     "text": [
      "Searching for: Yo no quiero volverme tan loco by Charly García\n",
      "Searching for \"Yo no quiero volverme tan loco\" by Charly García...\n",
      "Done.\n",
      "✓ Added lyrics for: Yo no quiero volverme tan loco\n"
     ]
    },
    {
     "name": "stderr",
     "output_type": "stream",
     "text": [
      " 44%|████▍     | 44/100 [03:25<03:59,  4.27s/it]"
     ]
    },
    {
     "name": "stdout",
     "output_type": "stream",
     "text": [
      "Searching for: La música by El Otro Yo\n",
      "Searching for \"La música\" by El Otro Yo...\n",
      "Done.\n",
      "✓ Added lyrics for: La música\n"
     ]
    },
    {
     "name": "stderr",
     "output_type": "stream",
     "text": [
      " 45%|████▌     | 45/100 [03:29<03:58,  4.34s/it]"
     ]
    },
    {
     "name": "stdout",
     "output_type": "stream",
     "text": [
      "Searching for: Hacelo por mí by Attaque 77\n",
      "Searching for \"Hacelo por mí\" by Attaque 77...\n",
      "Done.\n",
      "✓ Added lyrics for: Hacelo por mí\n"
     ]
    },
    {
     "name": "stderr",
     "output_type": "stream",
     "text": [
      " 46%|████▌     | 46/100 [03:34<03:58,  4.42s/it]"
     ]
    },
    {
     "name": "stdout",
     "output_type": "stream",
     "text": [
      "Searching for: El amor después del amor by Fito Páez\n",
      "Searching for \"El amor después del amor\" by Fito Páez...\n",
      "Done.\n",
      "✓ Added lyrics for: El amor después del amor\n"
     ]
    },
    {
     "name": "stderr",
     "output_type": "stream",
     "text": [
      " 47%|████▋     | 47/100 [03:39<04:06,  4.64s/it]"
     ]
    },
    {
     "name": "stdout",
     "output_type": "stream",
     "text": [
      "Searching for: El extraño de pelo largo by La Joven Guardia\n",
      "Searching for \"El extraño de pelo largo\" by La Joven Guardia...\n",
      "No results found for: 'El extraño de pelo largo La Joven Guardia'\n",
      "✗ No lyrics found for: El extraño de pelo largo\n"
     ]
    },
    {
     "name": "stderr",
     "output_type": "stream",
     "text": [
      " 48%|████▊     | 48/100 [03:41<03:18,  3.81s/it]"
     ]
    },
    {
     "name": "stdout",
     "output_type": "stream",
     "text": [
      "Searching for: En la ciudad de la furia by Soda Stereo\n",
      "Searching for \"En la ciudad de la furia\" by Soda Stereo...\n",
      "Done.\n",
      "✓ Added lyrics for: En la ciudad de la furia\n"
     ]
    },
    {
     "name": "stderr",
     "output_type": "stream",
     "text": [
      " 49%|████▉     | 49/100 [03:45<03:17,  3.86s/it]"
     ]
    },
    {
     "name": "stdout",
     "output_type": "stream",
     "text": [
      "Searching for: El tren de las 16 by Pappo's Blues\n",
      "Searching for \"El tren de las 16\" by Pappo's Blues...\n",
      "No results found for: 'El tren de las 16 Pappo's Blues'\n",
      "✗ No lyrics found for: El tren de las 16\n"
     ]
    },
    {
     "name": "stderr",
     "output_type": "stream",
     "text": [
      " 50%|█████     | 50/100 [03:47<02:41,  3.23s/it]"
     ]
    },
    {
     "name": "stdout",
     "output_type": "stream",
     "text": [
      "Searching for: Himno de mi corazón by Los Abuelos de la Nada\n",
      "Searching for \"Himno de mi corazón\" by Los Abuelos de la Nada...\n",
      "Done.\n",
      "✓ Added lyrics for: Himno de mi corazón\n"
     ]
    },
    {
     "name": "stderr",
     "output_type": "stream",
     "text": [
      " 51%|█████     | 51/100 [03:52<03:06,  3.81s/it]"
     ]
    },
    {
     "name": "stdout",
     "output_type": "stream",
     "text": [
      "Searching for: Vasos vacíos by Los Fabulosos Cadillacs\n",
      "Searching for \"Vasos vacíos\" by Los Fabulosos Cadillacs...\n",
      "Done.\n",
      "✓ Added lyrics for: Vasos vacíos\n"
     ]
    },
    {
     "name": "stderr",
     "output_type": "stream",
     "text": [
      " 52%|█████▏    | 52/100 [03:56<03:12,  4.01s/it]"
     ]
    },
    {
     "name": "stdout",
     "output_type": "stream",
     "text": [
      "Searching for: El anillo del Capitán Beto by Invisible\n",
      "Searching for \"El anillo del Capitán Beto\" by Invisible...\n",
      "Done.\n",
      "✓ Added lyrics for: El anillo del Capitán Beto\n"
     ]
    },
    {
     "name": "stderr",
     "output_type": "stream",
     "text": [
      " 53%|█████▎    | 53/100 [04:01<03:19,  4.25s/it]"
     ]
    },
    {
     "name": "stdout",
     "output_type": "stream",
     "text": [
      "Searching for: No llores por mí, Argentina by Serú Girán\n",
      "Searching for \"No llores por mí, Argentina\" by Serú Girán...\n",
      "Done.\n",
      "✓ Added lyrics for: No llores por mí, Argentina\n"
     ]
    },
    {
     "name": "stderr",
     "output_type": "stream",
     "text": [
      " 54%|█████▍    | 54/100 [04:05<03:16,  4.27s/it]"
     ]
    },
    {
     "name": "stdout",
     "output_type": "stream",
     "text": [
      "Searching for: Un poco de amor francés by Patricio Rey y sus Redonditos de Ricota\n",
      "Searching for \"Un poco de amor francés\" by Patricio Rey y sus Redonditos de Ricota...\n",
      "Done.\n",
      "✓ Added lyrics for: Un poco de amor francés\n"
     ]
    },
    {
     "name": "stderr",
     "output_type": "stream",
     "text": [
      " 55%|█████▌    | 55/100 [04:11<03:26,  4.58s/it]"
     ]
    },
    {
     "name": "stdout",
     "output_type": "stream",
     "text": [
      "Searching for: Loco by Andrés Calamaro\n",
      "Searching for \"Loco\" by Andrés Calamaro...\n",
      "Done.\n",
      "✓ Added lyrics for: Loco\n"
     ]
    },
    {
     "name": "stderr",
     "output_type": "stream",
     "text": [
      " 56%|█████▌    | 56/100 [04:15<03:22,  4.60s/it]"
     ]
    },
    {
     "name": "stdout",
     "output_type": "stream",
     "text": [
      "Searching for: Pensé que se trataba de cieguitos by Los Twist\n",
      "Searching for \"Pensé que se trataba de cieguitos\" by Los Twist...\n",
      "Done.\n",
      "✓ Added lyrics for: Pensé que se trataba de cieguitos\n"
     ]
    },
    {
     "name": "stderr",
     "output_type": "stream",
     "text": [
      " 57%|█████▋    | 57/100 [04:21<03:30,  4.91s/it]"
     ]
    },
    {
     "name": "stdout",
     "output_type": "stream",
     "text": [
      "Searching for: Me gusta ese tajo by Pescado Rabioso\n",
      "Searching for \"Me gusta ese tajo\" by Pescado Rabioso...\n",
      "Done.\n",
      "✓ Added lyrics for: Me gusta ese tajo\n"
     ]
    },
    {
     "name": "stderr",
     "output_type": "stream",
     "text": [
      " 58%|█████▊    | 58/100 [04:27<03:36,  5.16s/it]"
     ]
    },
    {
     "name": "stdout",
     "output_type": "stream",
     "text": [
      "Searching for: Vos sabés by Los Fabulosos Cadillacs\n",
      "Searching for \"Vos sabés\" by Los Fabulosos Cadillacs...\n",
      "Done.\n",
      "✓ Added lyrics for: Vos sabés\n"
     ]
    },
    {
     "name": "stderr",
     "output_type": "stream",
     "text": [
      " 59%|█████▉    | 59/100 [04:32<03:32,  5.17s/it]"
     ]
    },
    {
     "name": "stdout",
     "output_type": "stream",
     "text": [
      "Searching for: Puente by Gustavo Cerati\n",
      "Searching for \"Puente\" by Gustavo Cerati...\n",
      "Done.\n",
      "✓ Added lyrics for: Puente\n"
     ]
    },
    {
     "name": "stderr",
     "output_type": "stream",
     "text": [
      " 60%|██████    | 60/100 [04:37<03:26,  5.15s/it]"
     ]
    },
    {
     "name": "stdout",
     "output_type": "stream",
     "text": [
      "Searching for: Mañana campestre by Arco Iris\n",
      "Searching for \"Mañana campestre\" by Arco Iris...\n",
      "Done.\n",
      "✓ Added lyrics for: Mañana campestre\n"
     ]
    },
    {
     "name": "stderr",
     "output_type": "stream",
     "text": [
      " 61%|██████    | 61/100 [04:41<03:09,  4.87s/it]"
     ]
    },
    {
     "name": "stdout",
     "output_type": "stream",
     "text": [
      "Searching for: El rock del gato by Los Ratones Paranoicos\n",
      "Searching for \"El rock del gato\" by Los Ratones Paranoicos...\n",
      "No results found for: 'El rock del gato Los Ratones Paranoicos'\n",
      "✗ No lyrics found for: El rock del gato\n"
     ]
    },
    {
     "name": "stderr",
     "output_type": "stream",
     "text": [
      " 62%|██████▏   | 62/100 [04:43<02:33,  4.04s/it]"
     ]
    },
    {
     "name": "stdout",
     "output_type": "stream",
     "text": [
      "Searching for: Una luna de miel en la mano by Virus\n",
      "Searching for \"Una luna de miel en la mano\" by Virus...\n",
      "No results found for: 'Una luna de miel en la mano Virus'\n",
      "✗ No lyrics found for: Una luna de miel en la mano\n"
     ]
    },
    {
     "name": "stderr",
     "output_type": "stream",
     "text": [
      " 63%|██████▎   | 63/100 [04:45<02:07,  3.44s/it]"
     ]
    },
    {
     "name": "stdout",
     "output_type": "stream",
     "text": [
      "Searching for: Pupilas lejanas by Los Pericos\n",
      "Searching for \"Pupilas lejanas\" by Los Pericos...\n",
      "Done.\n",
      "✓ Added lyrics for: Pupilas lejanas\n"
     ]
    },
    {
     "name": "stderr",
     "output_type": "stream",
     "text": [
      " 64%|██████▍   | 64/100 [04:49<02:10,  3.62s/it]"
     ]
    },
    {
     "name": "stdout",
     "output_type": "stream",
     "text": [
      "Searching for: Mañana en el Abasto by Sumo\n",
      "Searching for \"Mañana en el Abasto\" by Sumo...\n",
      "Done.\n",
      "✓ Added lyrics for: Mañana en el Abasto\n"
     ]
    },
    {
     "name": "stderr",
     "output_type": "stream",
     "text": [
      " 65%|██████▌   | 65/100 [04:54<02:22,  4.08s/it]"
     ]
    },
    {
     "name": "stdout",
     "output_type": "stream",
     "text": [
      "Searching for: Gente del futuro by Miguel Cantilo y Punch\n",
      "Searching for \"Gente del futuro\" by Miguel Cantilo y Punch...\n",
      "No results found for: 'Gente del futuro Miguel Cantilo y Punch'\n",
      "✗ No lyrics found for: Gente del futuro\n"
     ]
    },
    {
     "name": "stderr",
     "output_type": "stream",
     "text": [
      " 66%|██████▌   | 66/100 [04:57<01:58,  3.48s/it]"
     ]
    },
    {
     "name": "stdout",
     "output_type": "stream",
     "text": [
      "Searching for: Avanti morocha by Los Caballeros de la Quema\n",
      "Searching for \"Avanti morocha\" by Los Caballeros de la Quema...\n",
      "Done.\n",
      "✓ Added lyrics for: Avanti morocha\n"
     ]
    },
    {
     "name": "stderr",
     "output_type": "stream",
     "text": [
      " 67%|██████▋   | 67/100 [05:01<02:03,  3.73s/it]"
     ]
    },
    {
     "name": "stdout",
     "output_type": "stream",
     "text": [
      "Searching for: La colina de la vida by Porsuigieco [ 5 ] ​\n",
      "Searching for \"La colina de la vida\" by Porsuigieco [ 5 ] ​...\n",
      "No results found for: 'La colina de la vida Porsuigieco [ 5 ] ​'\n",
      "✗ No lyrics found for: La colina de la vida\n"
     ]
    },
    {
     "name": "stderr",
     "output_type": "stream",
     "text": [
      " 68%|██████▊   | 68/100 [05:03<01:40,  3.14s/it]"
     ]
    },
    {
     "name": "stdout",
     "output_type": "stream",
     "text": [
      "Searching for: Cuando pase el temblor by Soda Stereo\n",
      "Searching for \"Cuando pase el temblor\" by Soda Stereo...\n",
      "Done.\n",
      "✓ Added lyrics for: Cuando pase el temblor\n"
     ]
    },
    {
     "name": "stderr",
     "output_type": "stream",
     "text": [
      " 69%|██████▉   | 69/100 [05:07<01:45,  3.41s/it]"
     ]
    },
    {
     "name": "stdout",
     "output_type": "stream",
     "text": [
      "Searching for: La muralla verde by Los Enanitos Verdes\n",
      "Searching for \"La muralla verde\" by Los Enanitos Verdes...\n",
      "Done.\n",
      "✓ Added lyrics for: La muralla verde\n"
     ]
    },
    {
     "name": "stderr",
     "output_type": "stream",
     "text": [
      " 70%|███████   | 70/100 [05:12<01:57,  3.92s/it]"
     ]
    },
    {
     "name": "stdout",
     "output_type": "stream",
     "text": [
      "Searching for: Silencio marginal by Aquelarre\n",
      "Searching for \"Silencio marginal\" by Aquelarre...\n",
      "Done.\n",
      "✓ Added lyrics for: Silencio marginal\n"
     ]
    },
    {
     "name": "stderr",
     "output_type": "stream",
     "text": [
      " 71%|███████   | 71/100 [05:17<02:01,  4.18s/it]"
     ]
    },
    {
     "name": "stdout",
     "output_type": "stream",
     "text": [
      "Searching for: Génesis by Vox Dei\n",
      "Searching for \"Génesis\" by Vox Dei...\n",
      "Done.\n",
      "✓ Added lyrics for: Génesis\n"
     ]
    },
    {
     "name": "stderr",
     "output_type": "stream",
     "text": [
      " 72%|███████▏  | 72/100 [05:22<02:05,  4.50s/it]"
     ]
    },
    {
     "name": "stdout",
     "output_type": "stream",
     "text": [
      "Searching for: Trátame suavemente by Los Encargados\n",
      "Searching for \"Trátame suavemente\" by Los Encargados...\n",
      "Done.\n",
      "✓ Added lyrics for: Trátame suavemente\n"
     ]
    },
    {
     "name": "stderr",
     "output_type": "stream",
     "text": [
      " 73%|███████▎  | 73/100 [05:26<01:58,  4.40s/it]"
     ]
    },
    {
     "name": "stdout",
     "output_type": "stream",
     "text": [
      "Searching for: Es la vida que me alcanza by Celeste Carballo\n",
      "Searching for \"Es la vida que me alcanza\" by Celeste Carballo...\n",
      "Done.\n",
      "✓ Added lyrics for: Es la vida que me alcanza\n"
     ]
    },
    {
     "name": "stderr",
     "output_type": "stream",
     "text": [
      " 74%|███████▍  | 74/100 [05:31<01:59,  4.60s/it]"
     ]
    },
    {
     "name": "stdout",
     "output_type": "stream",
     "text": [
      "Searching for: Mujer amante by Rata Blanca\n",
      "Searching for \"Mujer amante\" by Rata Blanca...\n",
      "Done.\n",
      "✓ Added lyrics for: Mujer amante\n"
     ]
    },
    {
     "name": "stderr",
     "output_type": "stream",
     "text": [
      " 75%|███████▌  | 75/100 [05:36<01:56,  4.68s/it]"
     ]
    },
    {
     "name": "stdout",
     "output_type": "stream",
     "text": [
      "Searching for: Malón by Babasónicos\n",
      "Searching for \"Malón\" by Babasónicos...\n",
      "Done.\n",
      "✓ Added lyrics for: Malón\n"
     ]
    },
    {
     "name": "stderr",
     "output_type": "stream",
     "text": [
      " 76%|███████▌  | 76/100 [05:40<01:51,  4.64s/it]"
     ]
    },
    {
     "name": "stdout",
     "output_type": "stream",
     "text": [
      "Searching for: Loco (Tu forma de ser) by Los Auténticos Decadentes\n",
      "Searching for \"Loco (Tu forma de ser)\" by Los Auténticos Decadentes...\n",
      "Done.\n",
      "✓ Added lyrics for: Loco (Tu forma de ser)\n"
     ]
    },
    {
     "name": "stderr",
     "output_type": "stream",
     "text": [
      " 77%|███████▋  | 77/100 [05:44<01:39,  4.34s/it]"
     ]
    },
    {
     "name": "stdout",
     "output_type": "stream",
     "text": [
      "Searching for: El nuevo camino del hombre by A.N.I.M.A.L.\n",
      "Searching for \"El nuevo camino del hombre\" by A.N.I.M.A.L....\n",
      "Done.\n",
      "✓ Added lyrics for: El nuevo camino del hombre\n"
     ]
    },
    {
     "name": "stderr",
     "output_type": "stream",
     "text": [
      " 78%|███████▊  | 78/100 [05:49<01:39,  4.52s/it]"
     ]
    },
    {
     "name": "stdout",
     "output_type": "stream",
     "text": [
      "Searching for: La calle es su lugar by G.I.T.\n",
      "Searching for \"La calle es su lugar\" by G.I.T....\n",
      "Done.\n",
      "✓ Added lyrics for: La calle es su lugar\n"
     ]
    },
    {
     "name": "stderr",
     "output_type": "stream",
     "text": [
      " 79%|███████▉  | 79/100 [05:53<01:32,  4.42s/it]"
     ]
    },
    {
     "name": "stdout",
     "output_type": "stream",
     "text": [
      "Searching for: Maribel se durmió by Spinetta Jade\n",
      "Searching for \"Maribel se durmió\" by Spinetta Jade...\n",
      "Done.\n",
      "✓ Added lyrics for: Maribel se durmió\n"
     ]
    },
    {
     "name": "stderr",
     "output_type": "stream",
     "text": [
      " 80%|████████  | 80/100 [05:58<01:28,  4.41s/it]"
     ]
    },
    {
     "name": "stdout",
     "output_type": "stream",
     "text": [
      "Searching for: La bifurcada by Memphis la Blusera\n",
      "Searching for \"La bifurcada\" by Memphis la Blusera...\n",
      "Done.\n",
      "✓ Added lyrics for: La bifurcada\n"
     ]
    },
    {
     "name": "stderr",
     "output_type": "stream",
     "text": [
      " 81%|████████  | 81/100 [06:02<01:22,  4.36s/it]"
     ]
    },
    {
     "name": "stdout",
     "output_type": "stream",
     "text": [
      "Searching for: Chipi chipi by Charly García\n",
      "Searching for \"Chipi chipi\" by Charly García...\n",
      "Done.\n",
      "✓ Added lyrics for: Chipi chipi\n"
     ]
    },
    {
     "name": "stderr",
     "output_type": "stream",
     "text": [
      " 82%|████████▏ | 82/100 [06:08<01:28,  4.93s/it]"
     ]
    },
    {
     "name": "stdout",
     "output_type": "stream",
     "text": [
      "Searching for: El bar de la calle Rodney by La Portuaria\n",
      "Searching for \"El bar de la calle Rodney\" by La Portuaria...\n",
      "Done.\n",
      "✓ Added lyrics for: El bar de la calle Rodney\n"
     ]
    },
    {
     "name": "stderr",
     "output_type": "stream",
     "text": [
      " 83%|████████▎ | 83/100 [06:12<01:20,  4.73s/it]"
     ]
    },
    {
     "name": "stdout",
     "output_type": "stream",
     "text": [
      "Searching for: Puerto Pollensa by Sandra Mihanovich\n",
      "Searching for \"Puerto Pollensa\" by Sandra Mihanovich...\n",
      "Done.\n",
      "✓ Added lyrics for: Puerto Pollensa\n"
     ]
    },
    {
     "name": "stderr",
     "output_type": "stream",
     "text": [
      " 84%|████████▍ | 84/100 [06:17<01:14,  4.68s/it]"
     ]
    },
    {
     "name": "stdout",
     "output_type": "stream",
     "text": [
      "Searching for: Hola qué tal by Las Pelotas\n",
      "Searching for \"Hola qué tal\" by Las Pelotas...\n",
      "Done.\n",
      "✓ Added lyrics for: Hola qué tal\n"
     ]
    },
    {
     "name": "stderr",
     "output_type": "stream",
     "text": [
      " 85%|████████▌ | 85/100 [06:22<01:10,  4.70s/it]"
     ]
    },
    {
     "name": "stdout",
     "output_type": "stream",
     "text": [
      "Searching for: Todo a pulmón by Alejandro Lerner\n",
      "Searching for \"Todo a pulmón\" by Alejandro Lerner...\n",
      "Done.\n",
      "✓ Added lyrics for: Todo a pulmón\n"
     ]
    },
    {
     "name": "stderr",
     "output_type": "stream",
     "text": [
      " 86%|████████▌ | 86/100 [06:26<01:04,  4.63s/it]"
     ]
    },
    {
     "name": "stdout",
     "output_type": "stream",
     "text": [
      "Searching for: Kanishka by Los Brujos\n",
      "Searching for \"Kanishka\" by Los Brujos...\n",
      "Done.\n",
      "✓ Added lyrics for: Kanishka\n"
     ]
    },
    {
     "name": "stderr",
     "output_type": "stream",
     "text": [
      " 87%|████████▋ | 87/100 [06:30<00:58,  4.47s/it]"
     ]
    },
    {
     "name": "stdout",
     "output_type": "stream",
     "text": [
      "Searching for: Tan solo by Los Piojos\n",
      "Searching for \"Tan solo\" by Los Piojos...\n",
      "Done.\n",
      "✓ Added lyrics for: Tan solo\n"
     ]
    },
    {
     "name": "stderr",
     "output_type": "stream",
     "text": [
      " 88%|████████▊ | 88/100 [06:35<00:53,  4.50s/it]"
     ]
    },
    {
     "name": "stdout",
     "output_type": "stream",
     "text": [
      "Searching for: Escafandra by Peligrosos Gorriones\n",
      "Searching for \"Escafandra\" by Peligrosos Gorriones...\n",
      "Done.\n",
      "✓ Added lyrics for: Escafandra\n"
     ]
    },
    {
     "name": "stderr",
     "output_type": "stream",
     "text": [
      " 89%|████████▉ | 89/100 [06:39<00:48,  4.45s/it]"
     ]
    },
    {
     "name": "stdout",
     "output_type": "stream",
     "text": [
      "Searching for: Ya no sos igual by Dos Minutos\n",
      "Searching for \"Ya no sos igual\" by Dos Minutos...\n",
      "Done.\n",
      "✓ Added lyrics for: Ya no sos igual\n"
     ]
    },
    {
     "name": "stderr",
     "output_type": "stream",
     "text": [
      " 90%|█████████ | 90/100 [06:45<00:47,  4.73s/it]"
     ]
    },
    {
     "name": "stdout",
     "output_type": "stream",
     "text": [
      "Searching for: Todo cambia by Man Ray\n",
      "Searching for \"Todo cambia\" by Man Ray...\n",
      "Done.\n",
      "✓ Added lyrics for: Todo cambia\n"
     ]
    },
    {
     "name": "stderr",
     "output_type": "stream",
     "text": [
      " 91%|█████████ | 91/100 [06:49<00:41,  4.57s/it]"
     ]
    },
    {
     "name": "stdout",
     "output_type": "stream",
     "text": [
      "Searching for: Playas oscuras by Los Visitantes\n",
      "Searching for \"Playas oscuras\" by Los Visitantes...\n",
      "Done.\n",
      "✓ Added lyrics for: Playas oscuras\n"
     ]
    },
    {
     "name": "stderr",
     "output_type": "stream",
     "text": [
      " 92%|█████████▏| 92/100 [06:53<00:35,  4.45s/it]"
     ]
    },
    {
     "name": "stdout",
     "output_type": "stream",
     "text": [
      "Searching for: Susy Cadillac by Riff\n",
      "Searching for \"Susy Cadillac\" by Riff...\n",
      "No results found for: 'Susy Cadillac Riff'\n",
      "✗ No lyrics found for: Susy Cadillac\n"
     ]
    },
    {
     "name": "stderr",
     "output_type": "stream",
     "text": [
      " 93%|█████████▎| 93/100 [06:55<00:25,  3.68s/it]"
     ]
    },
    {
     "name": "stdout",
     "output_type": "stream",
     "text": [
      "Searching for: Ella vendrá by Don Cornelio y la Zona\n",
      "Searching for \"Ella vendrá\" by Don Cornelio y la Zona...\n",
      "Done.\n",
      "✓ Added lyrics for: Ella vendrá\n"
     ]
    },
    {
     "name": "stderr",
     "output_type": "stream",
     "text": [
      " 94%|█████████▍| 94/100 [06:59<00:23,  3.91s/it]"
     ]
    },
    {
     "name": "stdout",
     "output_type": "stream",
     "text": [
      "Searching for: Masticar by Fun People\n",
      "Searching for \"Masticar\" by Fun People...\n",
      "Done.\n",
      "✓ Added lyrics for: Masticar\n"
     ]
    },
    {
     "name": "stderr",
     "output_type": "stream",
     "text": [
      " 95%|█████████▌| 95/100 [07:03<00:19,  3.96s/it]"
     ]
    },
    {
     "name": "stdout",
     "output_type": "stream",
     "text": [
      "Searching for: Amanece en la ruta by Suéter\n",
      "Searching for \"Amanece en la ruta\" by Suéter...\n",
      "Done.\n",
      "✓ Added lyrics for: Amanece en la ruta\n"
     ]
    },
    {
     "name": "stderr",
     "output_type": "stream",
     "text": [
      " 96%|█████████▌| 96/100 [07:08<00:16,  4.15s/it]"
     ]
    },
    {
     "name": "stdout",
     "output_type": "stream",
     "text": [
      "Searching for: Héroes anónimos by Metrópoli\n",
      "Searching for \"Héroes anónimos\" by Metrópoli...\n",
      "Done.\n",
      "✓ Added lyrics for: Héroes anónimos\n"
     ]
    },
    {
     "name": "stderr",
     "output_type": "stream",
     "text": [
      " 97%|█████████▋| 97/100 [07:13<00:13,  4.36s/it]"
     ]
    },
    {
     "name": "stdout",
     "output_type": "stream",
     "text": [
      "Searching for: Gente que no by Todos Tus Muertos\n",
      "Searching for \"Gente que no\" by Todos Tus Muertos...\n",
      "Done.\n",
      "✓ Added lyrics for: Gente que no\n"
     ]
    },
    {
     "name": "stderr",
     "output_type": "stream",
     "text": [
      " 98%|█████████▊| 98/100 [07:18<00:08,  4.48s/it]"
     ]
    },
    {
     "name": "stdout",
     "output_type": "stream",
     "text": [
      "Searching for: Lollipop by Viuda e Hijas de Roque Enroll\n",
      "Searching for \"Lollipop\" by Viuda e Hijas de Roque Enroll...\n",
      "Done.\n",
      "✓ Added lyrics for: Lollipop\n"
     ]
    },
    {
     "name": "stderr",
     "output_type": "stream",
     "text": [
      " 99%|█████████▉| 99/100 [07:22<00:04,  4.37s/it]"
     ]
    },
    {
     "name": "stdout",
     "output_type": "stream",
     "text": [
      "Searching for: Me gustas mucho by Viejas Locas\n",
      "Searching for \"Me gustas mucho\" by Viejas Locas...\n",
      "Done.\n",
      "✓ Added lyrics for: Me gustas mucho\n"
     ]
    },
    {
     "name": "stderr",
     "output_type": "stream",
     "text": [
      "100%|██████████| 100/100 [07:26<00:00,  4.41s/it]"
     ]
    },
    {
     "name": "stdout",
     "output_type": "stream",
     "text": [
      "Searching for: Morrissey by Leo García\n",
      "Searching for \"Morrissey\" by Leo García...\n",
      "Done.\n",
      "✓ Added lyrics for: Morrissey\n"
     ]
    },
    {
     "name": "stderr",
     "output_type": "stream",
     "text": [
      "100%|██████████| 100/100 [07:31<00:00,  4.51s/it]\n"
     ]
    },
    {
     "data": {
      "text/html": [
       "<div>\n",
       "<style scoped>\n",
       "    .dataframe tbody tr th:only-of-type {\n",
       "        vertical-align: middle;\n",
       "    }\n",
       "\n",
       "    .dataframe tbody tr th {\n",
       "        vertical-align: top;\n",
       "    }\n",
       "\n",
       "    .dataframe thead th {\n",
       "        text-align: right;\n",
       "    }\n",
       "</style>\n",
       "<table border=\"1\" class=\"dataframe\">\n",
       "  <thead>\n",
       "    <tr style=\"text-align: right;\">\n",
       "      <th></th>\n",
       "      <th>Posición</th>\n",
       "      <th>Título</th>\n",
       "      <th>Artista</th>\n",
       "      <th>Año</th>\n",
       "      <th>lyrics</th>\n",
       "    </tr>\n",
       "  </thead>\n",
       "  <tbody>\n",
       "    <tr>\n",
       "      <th>0</th>\n",
       "      <td>1</td>\n",
       "      <td>La balsa</td>\n",
       "      <td>Los Gatos</td>\n",
       "      <td>1967</td>\n",
       "      <td>6 ContributorsLa Balsa Lyrics[Letra de \"La Bal...</td>\n",
       "    </tr>\n",
       "    <tr>\n",
       "      <th>1</th>\n",
       "      <td>2</td>\n",
       "      <td>Muchacha (Ojos de papel)</td>\n",
       "      <td>Almendra</td>\n",
       "      <td>1970</td>\n",
       "      <td>16 ContributorsTranslationsEnglishMuchacha (Oj...</td>\n",
       "    </tr>\n",
       "    <tr>\n",
       "      <th>2</th>\n",
       "      <td>3</td>\n",
       "      <td>Rasguña las piedras</td>\n",
       "      <td>Sui Generis</td>\n",
       "      <td>1973</td>\n",
       "      <td>10 ContributorsRasguña las Piedras Lyrics[Letr...</td>\n",
       "    </tr>\n",
       "    <tr>\n",
       "      <th>3</th>\n",
       "      <td>4</td>\n",
       "      <td>De música ligera</td>\n",
       "      <td>Soda Stereo</td>\n",
       "      <td>1990</td>\n",
       "      <td>21 ContributorsTranslationsEnglishDe Música Li...</td>\n",
       "    </tr>\n",
       "    <tr>\n",
       "      <th>4</th>\n",
       "      <td>5</td>\n",
       "      <td>Ji ji ji</td>\n",
       "      <td>Patricio Rey y sus Redonditos de Ricota</td>\n",
       "      <td>1986</td>\n",
       "      <td>None</td>\n",
       "    </tr>\n",
       "    <tr>\n",
       "      <th>...</th>\n",
       "      <td>...</td>\n",
       "      <td>...</td>\n",
       "      <td>...</td>\n",
       "      <td>...</td>\n",
       "      <td>...</td>\n",
       "    </tr>\n",
       "    <tr>\n",
       "      <th>95</th>\n",
       "      <td>96</td>\n",
       "      <td>Héroes anónimos</td>\n",
       "      <td>Metrópoli</td>\n",
       "      <td>1986</td>\n",
       "      <td>1 ContributorHéroes Anónimos LyricsEstamos atr...</td>\n",
       "    </tr>\n",
       "    <tr>\n",
       "      <th>96</th>\n",
       "      <td>97</td>\n",
       "      <td>Gente que no</td>\n",
       "      <td>Todos Tus Muertos</td>\n",
       "      <td>1988</td>\n",
       "      <td>1 ContributorGente Que No Lyrics[Letra de \"Gen...</td>\n",
       "    </tr>\n",
       "    <tr>\n",
       "      <th>97</th>\n",
       "      <td>98</td>\n",
       "      <td>Lollipop</td>\n",
       "      <td>Viuda e Hijas de Roque Enroll</td>\n",
       "      <td>1985</td>\n",
       "      <td>1 ContributorLollipop (My Boy Lollipop) Lyrics...</td>\n",
       "    </tr>\n",
       "    <tr>\n",
       "      <th>98</th>\n",
       "      <td>99</td>\n",
       "      <td>Me gustas mucho</td>\n",
       "      <td>Viejas Locas</td>\n",
       "      <td>1999</td>\n",
       "      <td>5 ContributorsMe Gustas Mucho Lyrics[Letra de ...</td>\n",
       "    </tr>\n",
       "    <tr>\n",
       "      <th>99</th>\n",
       "      <td>100</td>\n",
       "      <td>Morrissey</td>\n",
       "      <td>Leo García</td>\n",
       "      <td>2001</td>\n",
       "      <td>7 ContributorsMorrissey LyricsSabrá tu novia q...</td>\n",
       "    </tr>\n",
       "  </tbody>\n",
       "</table>\n",
       "<p>100 rows × 5 columns</p>\n",
       "</div>"
      ],
      "text/plain": [
       "    Posición                    Título  \\\n",
       "0          1                  La balsa   \n",
       "1          2  Muchacha (Ojos de papel)   \n",
       "2          3       Rasguña las piedras   \n",
       "3          4          De música ligera   \n",
       "4          5                  Ji ji ji   \n",
       "..       ...                       ...   \n",
       "95        96           Héroes anónimos   \n",
       "96        97              Gente que no   \n",
       "97        98                  Lollipop   \n",
       "98        99           Me gustas mucho   \n",
       "99       100                 Morrissey   \n",
       "\n",
       "                                    Artista   Año  \\\n",
       "0                                 Los Gatos  1967   \n",
       "1                                  Almendra  1970   \n",
       "2                               Sui Generis  1973   \n",
       "3                               Soda Stereo  1990   \n",
       "4   Patricio Rey y sus Redonditos de Ricota  1986   \n",
       "..                                      ...   ...   \n",
       "95                                Metrópoli  1986   \n",
       "96                        Todos Tus Muertos  1988   \n",
       "97            Viuda e Hijas de Roque Enroll  1985   \n",
       "98                             Viejas Locas  1999   \n",
       "99                               Leo García  2001   \n",
       "\n",
       "                                               lyrics  \n",
       "0   6 ContributorsLa Balsa Lyrics[Letra de \"La Bal...  \n",
       "1   16 ContributorsTranslationsEnglishMuchacha (Oj...  \n",
       "2   10 ContributorsRasguña las Piedras Lyrics[Letr...  \n",
       "3   21 ContributorsTranslationsEnglishDe Música Li...  \n",
       "4                                                None  \n",
       "..                                                ...  \n",
       "95  1 ContributorHéroes Anónimos LyricsEstamos atr...  \n",
       "96  1 ContributorGente Que No Lyrics[Letra de \"Gen...  \n",
       "97  1 ContributorLollipop (My Boy Lollipop) Lyrics...  \n",
       "98  5 ContributorsMe Gustas Mucho Lyrics[Letra de ...  \n",
       "99  7 ContributorsMorrissey LyricsSabrá tu novia q...  \n",
       "\n",
       "[100 rows x 5 columns]"
      ]
     },
     "execution_count": 4,
     "metadata": {},
     "output_type": "execute_result"
    }
   ],
   "source": [
    "def fetch_lyrics(row):\n",
    "    \"\"\"Function to fetch lyrics for a given song title\"\"\"\n",
    "    try:\n",
    "        song_title = row[\"Título\"]\n",
    "        artist_name = row[\"Artista\"]\n",
    "        print(f\"Searching for: {song_title} by {artist_name}\")\n",
    "\n",
    "        # Search for the song\n",
    "        song = genius.search_song(song_title, artist_name)\n",
    "\n",
    "        if song:\n",
    "            print(f\"✓ Added lyrics for: {song_title}\")\n",
    "            # Add a delay to avoid rate limiting\n",
    "            time.sleep(1)\n",
    "            return song.lyrics\n",
    "        else:\n",
    "            print(f\"✗ No lyrics found for: {song_title}\")\n",
    "            time.sleep(1)\n",
    "            return None\n",
    "\n",
    "    except Exception as e:\n",
    "        print(f\"Error processing '{song_title}': {e}\")\n",
    "        time.sleep(1)\n",
    "        return None\n",
    "\n",
    "\n",
    "# Apply the function to each row and create the lyrics column in one step\n",
    "tqdm.pandas()  # Enable progress_apply\n",
    "songs[\"lyrics\"] = songs.progress_apply(fetch_lyrics, axis=1)\n",
    "songs"
   ]
  },
  {
   "cell_type": "code",
   "execution_count": 5,
   "id": "9e64f859",
   "metadata": {},
   "outputs": [],
   "source": [
    "songs.to_csv(\"../data/raw/100canciones_rock_argentino.csv\", index=False)"
   ]
  }
 ],
 "metadata": {
  "kernelspec": {
   "display_name": ".venv",
   "language": "python",
   "name": "python3"
  },
  "language_info": {
   "codemirror_mode": {
    "name": "ipython",
    "version": 3
   },
   "file_extension": ".py",
   "mimetype": "text/x-python",
   "name": "python",
   "nbconvert_exporter": "python",
   "pygments_lexer": "ipython3",
   "version": "3.11.11"
  }
 },
 "nbformat": 4,
 "nbformat_minor": 5
}
